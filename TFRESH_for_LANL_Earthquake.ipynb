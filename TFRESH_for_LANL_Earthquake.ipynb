{
  "nbformat": 4,
  "nbformat_minor": 0,
  "metadata": {
    "colab": {
      "name": "TFRESH for LANL Earthquake MODIFIED.ipynb",
      "provenance": [],
      "collapsed_sections": [
        "BHZ6c2gP6rob",
        "MlyjNarsDSK0",
        "IrDClQk89ZfB",
        "-iaty64NDXcw",
        "5fnyCtO2-QG3",
        "DPvrDh-U-Wo3",
        "cyqqRzZc-cct",
        "9B3MvUY16ZG-",
        "WoJkuRUpIZXz",
        "-VLvQuky0CDH",
        "nS-Ki0hpaI14",
        "zSbkPWEAYuHR",
        "EKxF34ymobJ-"
      ],
      "toc_visible": true,
      "include_colab_link": true
    },
    "kernelspec": {
      "name": "python3",
      "display_name": "Python 3"
    },
    "accelerator": "GPU"
  },
  "cells": [
    {
      "cell_type": "markdown",
      "metadata": {
        "id": "view-in-github",
        "colab_type": "text"
      },
      "source": [
        "<a href=\"https://colab.research.google.com/github/ralfcam/LANL-Earthquake-Prediction/blob/master/TFRESH_for_LANL_Earthquake.ipynb\" target=\"_parent\"><img src=\"https://colab.research.google.com/assets/colab-badge.svg\" alt=\"Open In Colab\"/></a>"
      ]
    },
    {
      "cell_type": "markdown",
      "metadata": {
        "id": "6muXreKz6gdh",
        "colab_type": "text"
      },
      "source": [
        "# TFRESH for LANL Earthquake"
      ]
    },
    {
      "cell_type": "markdown",
      "metadata": {
        "id": "BHZ6c2gP6rob",
        "colab_type": "text"
      },
      "source": [
        "## Imports"
      ]
    },
    {
      "cell_type": "code",
      "metadata": {
        "id": "HY5iBhw60XhW",
        "colab_type": "code",
        "colab": {}
      },
      "source": [
        "!pip install tsfresh\n",
        "\n",
        "# ERROR: google-colab 1.0.0 has requirement pandas~=0.24.0, but you'll have pandas 0.23.4 which is incompatible.\n",
        "# Installing collected packages: pandas, tsfresh\n",
        "#   Found existing installation: pandas 0.24.2\n",
        "#     Uninstalling pandas-0.24.2:\n",
        "#       Successfully uninstalled pandas-0.24.2\n",
        "# Successfully installed pandas-0.23.4 tsfresh-0.11.2\n",
        "# WARNING: The following packages were previously imported in this runtime:\n",
        "#   [pandas]\n",
        "# You must restart the runtime in order to use newly installed versions."
      ],
      "execution_count": 0,
      "outputs": []
    },
    {
      "cell_type": "code",
      "metadata": {
        "id": "dary4F6QgTj8",
        "colab_type": "code",
        "outputId": "7335e0b7-de6f-461f-e391-4a2435a5f5ad",
        "colab": {
          "base_uri": "https://localhost:8080/",
          "height": 34
        }
      },
      "source": [
        "import matplotlib.pyplot as plt\n",
        "import lightgbm as lgb\n",
        "from tsfresh import extract_features, extract_relevant_features, select_features\n",
        "from tsfresh.utilities.dataframe_functions import impute\n",
        "import numpy as np\n",
        "import pandas as pd\n",
        "from tsfresh.feature_extraction import MinimalFCParameters, EfficientFCParameters ,ComprehensiveFCParameters\n",
        "from sklearn.model_selection import KFold, cross_validate, cross_val_predict\n",
        "import timeit\n",
        "import seaborn as sns\n",
        "import sys\n",
        "import time\n",
        "from tqdm import tqdm, tqdm_notebook\n",
        "import warnings\n",
        "\n",
        "import multiprocessing as mp\n",
        "\n",
        "from sklearn.ensemble import GradientBoostingRegressor\n",
        "from sklearn.model_selection import train_test_split\n",
        "from sklearn.kernel_ridge import KernelRidge\n",
        "\n",
        "from sklearn.preprocessing import MinMaxScaler, StandardScaler,QuantileTransformer\n",
        "\n",
        "from sklearn.model_selection import KFold\n",
        "from sklearn.model_selection import cross_val_score\n",
        "from sklearn.pipeline import Pipeline\n",
        "from matplotlib import pyplot\n",
        "\n",
        "from google.colab import files, drive\n",
        "\n",
        "# This Python 3 environment comes with many helpful analytics libraries installed\n",
        "# It is defined by the kaggle/python docker image: https://github.com/kaggle/docker-python\n",
        "# For example, here's several helpful packages to load in \n",
        "warnings.filterwarnings(\"ignore\")\n",
        "np.seterr(divide='ignore', invalid='ignore')\n",
        "np.seterr(divide='ignore')\n",
        "# data processing, CSV file I/O (e.g. pd.read_csv)\n",
        "\n",
        "# Input data files are available in the \"../input/\" directory.\n",
        "# For example, running this (by clicking run or pressing Shift+Enter) will list the files in the input directory"
      ],
      "execution_count": 0,
      "outputs": [
        {
          "output_type": "execute_result",
          "data": {
            "text/plain": [
              "{'divide': 'ignore', 'invalid': 'ignore', 'over': 'warn', 'under': 'ignore'}"
            ]
          },
          "metadata": {
            "tags": []
          },
          "execution_count": 1
        }
      ]
    },
    {
      "cell_type": "markdown",
      "metadata": {
        "id": "MlyjNarsDSK0",
        "colab_type": "text"
      },
      "source": [
        "## Kaggle Sync."
      ]
    },
    {
      "cell_type": "code",
      "metadata": {
        "id": "Yzd7xI9dRvJe",
        "colab_type": "code",
        "colab": {}
      },
      "source": [
        "!pip install kaggle\n",
        "!mkdir .kaggle"
      ],
      "execution_count": 0,
      "outputs": []
    },
    {
      "cell_type": "code",
      "metadata": {
        "id": "s5ttZz2yJG7V",
        "colab_type": "code",
        "outputId": "e05be406-a2e0-4ebf-b5ba-3c6be37cd42f",
        "colab": {
          "base_uri": "https://localhost:8080/",
          "height": 52
        }
      },
      "source": [
        "import json\n",
        "import os\n",
        "\n",
        "token = {\"username\":\"\",\"key\":\"\"}\n",
        "\n",
        "os.environ['KAGGLE_CONFIG_DIR'] = \"/content/.kaggle\"\n",
        "\n",
        "with open('/content/.kaggle/kaggle.json', 'w') as file:\n",
        "    json.dump(token, file)\n",
        "\n",
        "!kaggle config set -n path -v{/content}\n",
        "!chmod 600 /content/.kaggle/kaggle.json\n",
        "\n",
        "# !kaggle datasets list"
      ],
      "execution_count": 0,
      "outputs": [
        {
          "output_type": "stream",
          "text": [
            "Warning: Your Kaggle API key is readable by other users on this system! To fix this, you can run 'chmod 600 /content/.kaggle/kaggle.json'\n",
            "- path is now set to: {/content}\n"
          ],
          "name": "stdout"
        }
      ]
    },
    {
      "cell_type": "code",
      "metadata": {
        "id": "a2LLV_krMPqV",
        "colab_type": "code",
        "outputId": "65ceb7c1-605d-4003-d7a7-37f7aa1f09c8",
        "colab": {
          "base_uri": "https://localhost:8080/",
          "height": 176
        }
      },
      "source": [
        "!kaggle competitions download -c LANL-Earthquake-Prediction -p /content"
      ],
      "execution_count": 0,
      "outputs": [
        {
          "output_type": "stream",
          "text": [
            "Downloading sample_submission.csv to /content\n",
            "\r  0% 0.00/33.3k [00:00<?, ?B/s]\n",
            "100% 33.3k/33.3k [00:00<00:00, 21.7MB/s]\n",
            "Downloading test.zip to /content\n",
            " 96% 232M/242M [00:01<00:00, 149MB/s]\n",
            "100% 242M/242M [00:01<00:00, 142MB/s]\n",
            "Downloading train.csv.zip to /content\n",
            "100% 2.02G/2.03G [00:16<00:00, 113MB/s]\n",
            "100% 2.03G/2.03G [00:16<00:00, 129MB/s]\n"
          ],
          "name": "stdout"
        }
      ]
    },
    {
      "cell_type": "code",
      "metadata": {
        "id": "UUNdko3-VP9o",
        "colab_type": "code",
        "colab": {}
      },
      "source": [
        "%%capture unzip_hist\n",
        "!unzip \\*.zip"
      ],
      "execution_count": 0,
      "outputs": []
    },
    {
      "cell_type": "markdown",
      "metadata": {
        "id": "IrDClQk89ZfB",
        "colab_type": "text"
      },
      "source": [
        "## Google Drive Sync."
      ]
    },
    {
      "cell_type": "code",
      "metadata": {
        "id": "YQrhblKq9iAp",
        "colab_type": "code",
        "outputId": "85b5bcc9-fc71-4015-f099-8f7ae0a7d5fb",
        "colab": {
          "base_uri": "https://localhost:8080/",
          "height": 125
        }
      },
      "source": [
        "drive.mount('/content/gdrive')"
      ],
      "execution_count": 0,
      "outputs": [
        {
          "output_type": "stream",
          "text": [
            "Go to this URL in a browser: https://accounts.google.com/o/oauth2/auth?client_id=947318989803-6bn6qk8qdgf4n4g3pfee6491hc0brc4i.apps.googleusercontent.com&redirect_uri=urn%3Aietf%3Awg%3Aoauth%3A2.0%3Aoob&scope=email%20https%3A%2F%2Fwww.googleapis.com%2Fauth%2Fdocs.test%20https%3A%2F%2Fwww.googleapis.com%2Fauth%2Fdrive%20https%3A%2F%2Fwww.googleapis.com%2Fauth%2Fdrive.photos.readonly%20https%3A%2F%2Fwww.googleapis.com%2Fauth%2Fpeopleapi.readonly&response_type=code\n",
            "\n",
            "Enter your authorization code:\n",
            "··········\n",
            "Mounted at /content/gdrive\n"
          ],
          "name": "stdout"
        }
      ]
    },
    {
      "cell_type": "markdown",
      "metadata": {
        "id": "tJIGs2ul9sye",
        "colab_type": "text"
      },
      "source": [
        "### Move Data to Drive"
      ]
    },
    {
      "cell_type": "code",
      "metadata": {
        "id": "tWh2zpXD9xQI",
        "colab_type": "code",
        "colab": {}
      },
      "source": [
        "# !mkdir /content/gdrive/My\\ Drive/LANL_Earthquake_Data/data_csv\n",
        "!mv *.csv /content/gdrive/My\\ Drive/LANL_Earthquake_Data/data_csv "
      ],
      "execution_count": 0,
      "outputs": []
    },
    {
      "cell_type": "code",
      "metadata": {
        "id": "OGSqfaGW9zTd",
        "colab_type": "code",
        "colab": {}
      },
      "source": [
        "!rm -rf /content/*.zip"
      ],
      "execution_count": 0,
      "outputs": []
    },
    {
      "cell_type": "markdown",
      "metadata": {
        "id": "-iaty64NDXcw",
        "colab_type": "text"
      },
      "source": [
        "## Read Data"
      ]
    },
    {
      "cell_type": "code",
      "metadata": {
        "id": "erVXWmezWQh0",
        "colab_type": "code",
        "outputId": "a5bfd029-7bd4-4110-cda4-8f014d9a474a",
        "colab": {
          "base_uri": "https://localhost:8080/",
          "height": 52
        }
      },
      "source": [
        "%%time\n",
        "# train_path = '/content/gdrive/My Drive/LANL_Earthquake_Data/data_csv/train.csv'\n",
        "train_path = '/content/train.csv'\n",
        "\n",
        "train = pd.read_csv(train_path, dtype={'acoustic_data': np.int16,\n",
        "                                       'time_to_failure': np.float32})"
      ],
      "execution_count": 0,
      "outputs": [
        {
          "output_type": "stream",
          "text": [
            "CPU times: user 2min 9s, sys: 44.9 s, total: 2min 54s\n",
            "Wall time: 3min 3s\n"
          ],
          "name": "stdout"
        }
      ]
    },
    {
      "cell_type": "markdown",
      "metadata": {
        "id": "jzSrwVoW53nq",
        "colab_type": "text"
      },
      "source": [
        "## Features dictionaries"
      ]
    },
    {
      "cell_type": "markdown",
      "metadata": {
        "id": "5fnyCtO2-QG3",
        "colab_type": "text"
      },
      "source": [
        "### All Features"
      ]
    },
    {
      "cell_type": "code",
      "metadata": {
        "id": "Bjj7jnCF5SIg",
        "colab_type": "code",
        "colab": {}
      },
      "source": [
        "settings={'variance_larger_than_standard_deviation': None,\n",
        " 'has_duplicate_max': None,\n",
        " 'has_duplicate_min': None,\n",
        " 'has_duplicate': None,\n",
        " 'sum_values': None,\n",
        " 'abs_energy': None,\n",
        " 'mean_abs_change': None,\n",
        " 'mean_change': None,\n",
        " 'mean_second_derivative_central': None,\n",
        " 'median': None,\n",
        " 'mean': None,\n",
        " 'length': None,\n",
        " 'standard_deviation': None,\n",
        " 'variance': None,\n",
        " 'skewness': None,\n",
        " 'kurtosis': None,\n",
        " 'absolute_sum_of_changes': None,\n",
        " 'longest_strike_below_mean': None,\n",
        " 'longest_strike_above_mean': None,\n",
        " 'count_above_mean': None,\n",
        " 'count_below_mean': None,\n",
        " 'last_location_of_maximum': None,\n",
        " 'first_location_of_maximum': None,\n",
        " 'last_location_of_minimum': None,\n",
        " 'first_location_of_minimum': None,\n",
        " 'percentage_of_reoccurring_datapoints_to_all_datapoints': None,\n",
        " 'percentage_of_reoccurring_values_to_all_values': None,\n",
        " 'sum_of_reoccurring_values': None,\n",
        " 'sum_of_reoccurring_data_points': None,\n",
        " 'ratio_value_number_to_time_series_length': None,\n",
        " 'sample_entropy': None,\n",
        " 'maximum': None,\n",
        " 'minimum': None,\n",
        " 'time_reversal_asymmetry_statistic': [{'lag': 1}, {'lag': 2}, {'lag': 3}],\n",
        " 'c3': [{'lag': 1}, {'lag': 2}, {'lag': 3}],\n",
        " 'cid_ce': [{'normalize': True}, {'normalize': False}],\n",
        " 'symmetry_looking': [{'r': 0.0},\n",
        "  {'r': 0.05},\n",
        "  {'r': 0.1},\n",
        "  {'r': 0.15000000000000002},\n",
        "  {'r': 0.2},\n",
        "  {'r': 0.25},\n",
        "  {'r': 0.30000000000000004},\n",
        "  {'r': 0.35000000000000003},\n",
        "  {'r': 0.4},\n",
        "  {'r': 0.45},\n",
        "  {'r': 0.5},\n",
        "  {'r': 0.55},\n",
        "  {'r': 0.6000000000000001},\n",
        "  {'r': 0.65},\n",
        "  {'r': 0.7000000000000001},\n",
        "  {'r': 0.75},\n",
        "  {'r': 0.8},\n",
        "  {'r': 0.8500000000000001},\n",
        "  {'r': 0.9},\n",
        "  {'r': 0.9500000000000001}],\n",
        " 'large_standard_deviation': [{'r': 0.05},\n",
        "  {'r': 0.1},\n",
        "  {'r': 0.15000000000000002},\n",
        "  {'r': 0.2},\n",
        "  {'r': 0.25},\n",
        "  {'r': 0.30000000000000004},\n",
        "  {'r': 0.35000000000000003},\n",
        "  {'r': 0.4},\n",
        "  {'r': 0.45},\n",
        "  {'r': 0.5},\n",
        "  {'r': 0.55},\n",
        "  {'r': 0.6000000000000001},\n",
        "  {'r': 0.65},\n",
        "  {'r': 0.7000000000000001},\n",
        "  {'r': 0.75},\n",
        "  {'r': 0.8},\n",
        "  {'r': 0.8500000000000001},\n",
        "  {'r': 0.9},\n",
        "  {'r': 0.9500000000000001}],\n",
        " 'quantile': [{'q': 0.1},\n",
        "  {'q': 0.2},\n",
        "  {'q': 0.3},\n",
        "  {'q': 0.4},\n",
        "  {'q': 0.6},\n",
        "  {'q': 0.7},\n",
        "  {'q': 0.8},\n",
        "  {'q': 0.9}],\n",
        " 'autocorrelation': [{'lag': 0},\n",
        "  {'lag': 1},\n",
        "  {'lag': 2},\n",
        "  {'lag': 3},\n",
        "  {'lag': 4},\n",
        "  {'lag': 5},\n",
        "  {'lag': 6},\n",
        "  {'lag': 7},\n",
        "  {'lag': 8},\n",
        "  {'lag': 9}],\n",
        " 'agg_autocorrelation': [{'f_agg': 'mean', 'maxlag': 40},\n",
        "  {'f_agg': 'median', 'maxlag': 40},\n",
        "  {'f_agg': 'var', 'maxlag': 40}],\n",
        " 'partial_autocorrelation': [{'lag': 0},\n",
        "  {'lag': 1},\n",
        "  {'lag': 2},\n",
        "  {'lag': 3},\n",
        "  {'lag': 4},\n",
        "  {'lag': 5},\n",
        "  {'lag': 6},\n",
        "  {'lag': 7},\n",
        "  {'lag': 8},\n",
        "  {'lag': 9}],\n",
        " 'number_cwt_peaks': [{'n': 1}, {'n': 5}],\n",
        " 'number_peaks': [{'n': 1}, {'n': 3}, {'n': 5}, {'n': 10}, {'n': 50}],\n",
        " 'binned_entropy': [{'max_bins': 10}],\n",
        " 'index_mass_quantile': [{'q': 0.1},\n",
        "  {'q': 0.2},\n",
        "  {'q': 0.3},\n",
        "  {'q': 0.4},\n",
        "  {'q': 0.6},\n",
        "  {'q': 0.7},\n",
        "  {'q': 0.8},\n",
        "  {'q': 0.9}],\n",
        " 'cwt_coefficients': [{'widths': (2, 5, 10, 20), 'coeff': 0, 'w': 2},\n",
        "  {'widths': (2, 5, 10, 20), 'coeff': 0, 'w': 5},\n",
        "  {'widths': (2, 5, 10, 20), 'coeff': 0, 'w': 10},\n",
        "  {'widths': (2, 5, 10, 20), 'coeff': 0, 'w': 20},\n",
        "  {'widths': (2, 5, 10, 20), 'coeff': 1, 'w': 2},\n",
        "  {'widths': (2, 5, 10, 20), 'coeff': 1, 'w': 5},\n",
        "  {'widths': (2, 5, 10, 20), 'coeff': 1, 'w': 10},\n",
        "  {'widths': (2, 5, 10, 20), 'coeff': 1, 'w': 20},\n",
        "  {'widths': (2, 5, 10, 20), 'coeff': 2, 'w': 2},\n",
        "  {'widths': (2, 5, 10, 20), 'coeff': 2, 'w': 5},\n",
        "  {'widths': (2, 5, 10, 20), 'coeff': 2, 'w': 10},\n",
        "  {'widths': (2, 5, 10, 20), 'coeff': 2, 'w': 20},\n",
        "  {'widths': (2, 5, 10, 20), 'coeff': 3, 'w': 2},\n",
        "  {'widths': (2, 5, 10, 20), 'coeff': 3, 'w': 5},\n",
        "  {'widths': (2, 5, 10, 20), 'coeff': 3, 'w': 10},\n",
        "  {'widths': (2, 5, 10, 20), 'coeff': 3, 'w': 20},\n",
        "  {'widths': (2, 5, 10, 20), 'coeff': 4, 'w': 2},\n",
        "  {'widths': (2, 5, 10, 20), 'coeff': 4, 'w': 5},\n",
        "  {'widths': (2, 5, 10, 20), 'coeff': 4, 'w': 10},\n",
        "  {'widths': (2, 5, 10, 20), 'coeff': 4, 'w': 20},\n",
        "  {'widths': (2, 5, 10, 20), 'coeff': 5, 'w': 2},\n",
        "  {'widths': (2, 5, 10, 20), 'coeff': 5, 'w': 5},\n",
        "  {'widths': (2, 5, 10, 20), 'coeff': 5, 'w': 10},\n",
        "  {'widths': (2, 5, 10, 20), 'coeff': 5, 'w': 20},\n",
        "  {'widths': (2, 5, 10, 20), 'coeff': 6, 'w': 2},\n",
        "  {'widths': (2, 5, 10, 20), 'coeff': 6, 'w': 5},\n",
        "  {'widths': (2, 5, 10, 20), 'coeff': 6, 'w': 10},\n",
        "  {'widths': (2, 5, 10, 20), 'coeff': 6, 'w': 20},\n",
        "  {'widths': (2, 5, 10, 20), 'coeff': 7, 'w': 2},\n",
        "  {'widths': (2, 5, 10, 20), 'coeff': 7, 'w': 5},\n",
        "  {'widths': (2, 5, 10, 20), 'coeff': 7, 'w': 10},\n",
        "  {'widths': (2, 5, 10, 20), 'coeff': 7, 'w': 20},\n",
        "  {'widths': (2, 5, 10, 20), 'coeff': 8, 'w': 2},\n",
        "  {'widths': (2, 5, 10, 20), 'coeff': 8, 'w': 5},\n",
        "  {'widths': (2, 5, 10, 20), 'coeff': 8, 'w': 10},\n",
        "  {'widths': (2, 5, 10, 20), 'coeff': 8, 'w': 20},\n",
        "  {'widths': (2, 5, 10, 20), 'coeff': 9, 'w': 2},\n",
        "  {'widths': (2, 5, 10, 20), 'coeff': 9, 'w': 5},\n",
        "  {'widths': (2, 5, 10, 20), 'coeff': 9, 'w': 10},\n",
        "  {'widths': (2, 5, 10, 20), 'coeff': 9, 'w': 20},\n",
        "  {'widths': (2, 5, 10, 20), 'coeff': 10, 'w': 2},\n",
        "  {'widths': (2, 5, 10, 20), 'coeff': 10, 'w': 5},\n",
        "  {'widths': (2, 5, 10, 20), 'coeff': 10, 'w': 10},\n",
        "  {'widths': (2, 5, 10, 20), 'coeff': 10, 'w': 20},\n",
        "  {'widths': (2, 5, 10, 20), 'coeff': 11, 'w': 2},\n",
        "  {'widths': (2, 5, 10, 20), 'coeff': 11, 'w': 5},\n",
        "  {'widths': (2, 5, 10, 20), 'coeff': 11, 'w': 10},\n",
        "  {'widths': (2, 5, 10, 20), 'coeff': 11, 'w': 20},\n",
        "  {'widths': (2, 5, 10, 20), 'coeff': 12, 'w': 2},\n",
        "  {'widths': (2, 5, 10, 20), 'coeff': 12, 'w': 5},\n",
        "  {'widths': (2, 5, 10, 20), 'coeff': 12, 'w': 10},\n",
        "  {'widths': (2, 5, 10, 20), 'coeff': 12, 'w': 20},\n",
        "  {'widths': (2, 5, 10, 20), 'coeff': 13, 'w': 2},\n",
        "  {'widths': (2, 5, 10, 20), 'coeff': 13, 'w': 5},\n",
        "  {'widths': (2, 5, 10, 20), 'coeff': 13, 'w': 10},\n",
        "  {'widths': (2, 5, 10, 20), 'coeff': 13, 'w': 20},\n",
        "  {'widths': (2, 5, 10, 20), 'coeff': 14, 'w': 2},\n",
        "  {'widths': (2, 5, 10, 20), 'coeff': 14, 'w': 5},\n",
        "  {'widths': (2, 5, 10, 20), 'coeff': 14, 'w': 10},\n",
        "  {'widths': (2, 5, 10, 20), 'coeff': 14, 'w': 20}],\n",
        " 'spkt_welch_density': [{'coeff': 2}, {'coeff': 5}, {'coeff': 8}],\n",
        " 'ar_coefficient': [{'coeff': 0, 'k': 10},\n",
        "  {'coeff': 1, 'k': 10},\n",
        "  {'coeff': 2, 'k': 10},\n",
        "  {'coeff': 3, 'k': 10},\n",
        "  {'coeff': 4, 'k': 10}],\n",
        " 'change_quantiles': [{'ql': 0.0, 'qh': 0.2, 'isabs': False, 'f_agg': 'mean'},\n",
        "  {'ql': 0.0, 'qh': 0.2, 'isabs': False, 'f_agg': 'var'},\n",
        "  {'ql': 0.0, 'qh': 0.2, 'isabs': True, 'f_agg': 'mean'},\n",
        "  {'ql': 0.0, 'qh': 0.2, 'isabs': True, 'f_agg': 'var'},\n",
        "  {'ql': 0.0, 'qh': 0.4, 'isabs': False, 'f_agg': 'mean'},\n",
        "  {'ql': 0.0, 'qh': 0.4, 'isabs': False, 'f_agg': 'var'},\n",
        "  {'ql': 0.0, 'qh': 0.4, 'isabs': True, 'f_agg': 'mean'},\n",
        "  {'ql': 0.0, 'qh': 0.4, 'isabs': True, 'f_agg': 'var'},\n",
        "  {'ql': 0.0, 'qh': 0.6, 'isabs': False, 'f_agg': 'mean'},\n",
        "  {'ql': 0.0, 'qh': 0.6, 'isabs': False, 'f_agg': 'var'},\n",
        "  {'ql': 0.0, 'qh': 0.6, 'isabs': True, 'f_agg': 'mean'},\n",
        "  {'ql': 0.0, 'qh': 0.6, 'isabs': True, 'f_agg': 'var'},\n",
        "  {'ql': 0.0, 'qh': 0.8, 'isabs': False, 'f_agg': 'mean'},\n",
        "  {'ql': 0.0, 'qh': 0.8, 'isabs': False, 'f_agg': 'var'},\n",
        "  {'ql': 0.0, 'qh': 0.8, 'isabs': True, 'f_agg': 'mean'},\n",
        "  {'ql': 0.0, 'qh': 0.8, 'isabs': True, 'f_agg': 'var'},\n",
        "  {'ql': 0.0, 'qh': 1.0, 'isabs': False, 'f_agg': 'mean'},\n",
        "  {'ql': 0.0, 'qh': 1.0, 'isabs': False, 'f_agg': 'var'},\n",
        "  {'ql': 0.0, 'qh': 1.0, 'isabs': True, 'f_agg': 'mean'},\n",
        "  {'ql': 0.0, 'qh': 1.0, 'isabs': True, 'f_agg': 'var'},\n",
        "  {'ql': 0.2, 'qh': 0.2, 'isabs': False, 'f_agg': 'mean'},\n",
        "  {'ql': 0.2, 'qh': 0.2, 'isabs': False, 'f_agg': 'var'},\n",
        "  {'ql': 0.2, 'qh': 0.2, 'isabs': True, 'f_agg': 'mean'},\n",
        "  {'ql': 0.2, 'qh': 0.2, 'isabs': True, 'f_agg': 'var'},\n",
        "  {'ql': 0.2, 'qh': 0.4, 'isabs': False, 'f_agg': 'mean'},\n",
        "  {'ql': 0.2, 'qh': 0.4, 'isabs': False, 'f_agg': 'var'},\n",
        "  {'ql': 0.2, 'qh': 0.4, 'isabs': True, 'f_agg': 'mean'},\n",
        "  {'ql': 0.2, 'qh': 0.4, 'isabs': True, 'f_agg': 'var'},\n",
        "  {'ql': 0.2, 'qh': 0.6, 'isabs': False, 'f_agg': 'mean'},\n",
        "  {'ql': 0.2, 'qh': 0.6, 'isabs': False, 'f_agg': 'var'},\n",
        "  {'ql': 0.2, 'qh': 0.6, 'isabs': True, 'f_agg': 'mean'},\n",
        "  {'ql': 0.2, 'qh': 0.6, 'isabs': True, 'f_agg': 'var'},\n",
        "  {'ql': 0.2, 'qh': 0.8, 'isabs': False, 'f_agg': 'mean'},\n",
        "  {'ql': 0.2, 'qh': 0.8, 'isabs': False, 'f_agg': 'var'},\n",
        "  {'ql': 0.2, 'qh': 0.8, 'isabs': True, 'f_agg': 'mean'},\n",
        "  {'ql': 0.2, 'qh': 0.8, 'isabs': True, 'f_agg': 'var'},\n",
        "  {'ql': 0.2, 'qh': 1.0, 'isabs': False, 'f_agg': 'mean'},\n",
        "  {'ql': 0.2, 'qh': 1.0, 'isabs': False, 'f_agg': 'var'},\n",
        "  {'ql': 0.2, 'qh': 1.0, 'isabs': True, 'f_agg': 'mean'},\n",
        "  {'ql': 0.2, 'qh': 1.0, 'isabs': True, 'f_agg': 'var'},\n",
        "  {'ql': 0.4, 'qh': 0.2, 'isabs': False, 'f_agg': 'mean'},\n",
        "  {'ql': 0.4, 'qh': 0.2, 'isabs': False, 'f_agg': 'var'},\n",
        "  {'ql': 0.4, 'qh': 0.2, 'isabs': True, 'f_agg': 'mean'},\n",
        "  {'ql': 0.4, 'qh': 0.2, 'isabs': True, 'f_agg': 'var'},\n",
        "  {'ql': 0.4, 'qh': 0.4, 'isabs': False, 'f_agg': 'mean'},\n",
        "  {'ql': 0.4, 'qh': 0.4, 'isabs': False, 'f_agg': 'var'},\n",
        "  {'ql': 0.4, 'qh': 0.4, 'isabs': True, 'f_agg': 'mean'},\n",
        "  {'ql': 0.4, 'qh': 0.4, 'isabs': True, 'f_agg': 'var'},\n",
        "  {'ql': 0.4, 'qh': 0.6, 'isabs': False, 'f_agg': 'mean'},\n",
        "  {'ql': 0.4, 'qh': 0.6, 'isabs': False, 'f_agg': 'var'},\n",
        "  {'ql': 0.4, 'qh': 0.6, 'isabs': True, 'f_agg': 'mean'},\n",
        "  {'ql': 0.4, 'qh': 0.6, 'isabs': True, 'f_agg': 'var'},\n",
        "  {'ql': 0.4, 'qh': 0.8, 'isabs': False, 'f_agg': 'mean'},\n",
        "  {'ql': 0.4, 'qh': 0.8, 'isabs': False, 'f_agg': 'var'},\n",
        "  {'ql': 0.4, 'qh': 0.8, 'isabs': True, 'f_agg': 'mean'},\n",
        "  {'ql': 0.4, 'qh': 0.8, 'isabs': True, 'f_agg': 'var'},\n",
        "  {'ql': 0.4, 'qh': 1.0, 'isabs': False, 'f_agg': 'mean'},\n",
        "  {'ql': 0.4, 'qh': 1.0, 'isabs': False, 'f_agg': 'var'},\n",
        "  {'ql': 0.4, 'qh': 1.0, 'isabs': True, 'f_agg': 'mean'},\n",
        "  {'ql': 0.4, 'qh': 1.0, 'isabs': True, 'f_agg': 'var'},\n",
        "  {'ql': 0.6, 'qh': 0.2, 'isabs': False, 'f_agg': 'mean'},\n",
        "  {'ql': 0.6, 'qh': 0.2, 'isabs': False, 'f_agg': 'var'},\n",
        "  {'ql': 0.6, 'qh': 0.2, 'isabs': True, 'f_agg': 'mean'},\n",
        "  {'ql': 0.6, 'qh': 0.2, 'isabs': True, 'f_agg': 'var'},\n",
        "  {'ql': 0.6, 'qh': 0.4, 'isabs': False, 'f_agg': 'mean'},\n",
        "  {'ql': 0.6, 'qh': 0.4, 'isabs': False, 'f_agg': 'var'},\n",
        "  {'ql': 0.6, 'qh': 0.4, 'isabs': True, 'f_agg': 'mean'},\n",
        "  {'ql': 0.6, 'qh': 0.4, 'isabs': True, 'f_agg': 'var'},\n",
        "  {'ql': 0.6, 'qh': 0.6, 'isabs': False, 'f_agg': 'mean'},\n",
        "  {'ql': 0.6, 'qh': 0.6, 'isabs': False, 'f_agg': 'var'},\n",
        "  {'ql': 0.6, 'qh': 0.6, 'isabs': True, 'f_agg': 'mean'},\n",
        "  {'ql': 0.6, 'qh': 0.6, 'isabs': True, 'f_agg': 'var'},\n",
        "  {'ql': 0.6, 'qh': 0.8, 'isabs': False, 'f_agg': 'mean'},\n",
        "  {'ql': 0.6, 'qh': 0.8, 'isabs': False, 'f_agg': 'var'},\n",
        "  {'ql': 0.6, 'qh': 0.8, 'isabs': True, 'f_agg': 'mean'},\n",
        "  {'ql': 0.6, 'qh': 0.8, 'isabs': True, 'f_agg': 'var'},\n",
        "  {'ql': 0.6, 'qh': 1.0, 'isabs': False, 'f_agg': 'mean'},\n",
        "  {'ql': 0.6, 'qh': 1.0, 'isabs': False, 'f_agg': 'var'},\n",
        "  {'ql': 0.6, 'qh': 1.0, 'isabs': True, 'f_agg': 'mean'},\n",
        "  {'ql': 0.6, 'qh': 1.0, 'isabs': True, 'f_agg': 'var'},\n",
        "  {'ql': 0.8, 'qh': 0.2, 'isabs': False, 'f_agg': 'mean'},\n",
        "  {'ql': 0.8, 'qh': 0.2, 'isabs': False, 'f_agg': 'var'},\n",
        "  {'ql': 0.8, 'qh': 0.2, 'isabs': True, 'f_agg': 'mean'},\n",
        "  {'ql': 0.8, 'qh': 0.2, 'isabs': True, 'f_agg': 'var'},\n",
        "  {'ql': 0.8, 'qh': 0.4, 'isabs': False, 'f_agg': 'mean'},\n",
        "  {'ql': 0.8, 'qh': 0.4, 'isabs': False, 'f_agg': 'var'},\n",
        "  {'ql': 0.8, 'qh': 0.4, 'isabs': True, 'f_agg': 'mean'},\n",
        "  {'ql': 0.8, 'qh': 0.4, 'isabs': True, 'f_agg': 'var'},\n",
        "  {'ql': 0.8, 'qh': 0.6, 'isabs': False, 'f_agg': 'mean'},\n",
        "  {'ql': 0.8, 'qh': 0.6, 'isabs': False, 'f_agg': 'var'},\n",
        "  {'ql': 0.8, 'qh': 0.6, 'isabs': True, 'f_agg': 'mean'},\n",
        "  {'ql': 0.8, 'qh': 0.6, 'isabs': True, 'f_agg': 'var'},\n",
        "  {'ql': 0.8, 'qh': 0.8, 'isabs': False, 'f_agg': 'mean'},\n",
        "  {'ql': 0.8, 'qh': 0.8, 'isabs': False, 'f_agg': 'var'},\n",
        "  {'ql': 0.8, 'qh': 0.8, 'isabs': True, 'f_agg': 'mean'},\n",
        "  {'ql': 0.8, 'qh': 0.8, 'isabs': True, 'f_agg': 'var'},\n",
        "  {'ql': 0.8, 'qh': 1.0, 'isabs': False, 'f_agg': 'mean'},\n",
        "  {'ql': 0.8, 'qh': 1.0, 'isabs': False, 'f_agg': 'var'},\n",
        "  {'ql': 0.8, 'qh': 1.0, 'isabs': True, 'f_agg': 'mean'},\n",
        "  {'ql': 0.8, 'qh': 1.0, 'isabs': True, 'f_agg': 'var'}],\n",
        " 'fft_coefficient': [{'coeff': 0, 'attr': 'real'},\n",
        "  {'coeff': 1, 'attr': 'real'},\n",
        "  {'coeff': 2, 'attr': 'real'},\n",
        "  {'coeff': 3, 'attr': 'real'},\n",
        "  {'coeff': 4, 'attr': 'real'},\n",
        "  {'coeff': 5, 'attr': 'real'},\n",
        "  {'coeff': 6, 'attr': 'real'},\n",
        "  {'coeff': 7, 'attr': 'real'},\n",
        "  {'coeff': 8, 'attr': 'real'},\n",
        "  {'coeff': 9, 'attr': 'real'},\n",
        "  {'coeff': 10, 'attr': 'real'},\n",
        "  {'coeff': 11, 'attr': 'real'},\n",
        "  {'coeff': 12, 'attr': 'real'},\n",
        "  {'coeff': 13, 'attr': 'real'},\n",
        "  {'coeff': 14, 'attr': 'real'},\n",
        "  {'coeff': 15, 'attr': 'real'},\n",
        "  {'coeff': 16, 'attr': 'real'},\n",
        "  {'coeff': 17, 'attr': 'real'},\n",
        "  {'coeff': 18, 'attr': 'real'},\n",
        "  {'coeff': 19, 'attr': 'real'},\n",
        "  {'coeff': 20, 'attr': 'real'},\n",
        "  {'coeff': 21, 'attr': 'real'},\n",
        "  {'coeff': 22, 'attr': 'real'},\n",
        "  {'coeff': 23, 'attr': 'real'},\n",
        "  {'coeff': 24, 'attr': 'real'},\n",
        "  {'coeff': 25, 'attr': 'real'},\n",
        "  {'coeff': 26, 'attr': 'real'},\n",
        "  {'coeff': 27, 'attr': 'real'},\n",
        "  {'coeff': 28, 'attr': 'real'},\n",
        "  {'coeff': 29, 'attr': 'real'},\n",
        "  {'coeff': 30, 'attr': 'real'},\n",
        "  {'coeff': 31, 'attr': 'real'},\n",
        "  {'coeff': 32, 'attr': 'real'},\n",
        "  {'coeff': 33, 'attr': 'real'},\n",
        "  {'coeff': 34, 'attr': 'real'},\n",
        "  {'coeff': 35, 'attr': 'real'},\n",
        "  {'coeff': 36, 'attr': 'real'},\n",
        "  {'coeff': 37, 'attr': 'real'},\n",
        "  {'coeff': 38, 'attr': 'real'},\n",
        "  {'coeff': 39, 'attr': 'real'},\n",
        "  {'coeff': 40, 'attr': 'real'},\n",
        "  {'coeff': 41, 'attr': 'real'},\n",
        "  {'coeff': 42, 'attr': 'real'},\n",
        "  {'coeff': 43, 'attr': 'real'},\n",
        "  {'coeff': 44, 'attr': 'real'},\n",
        "  {'coeff': 45, 'attr': 'real'},\n",
        "  {'coeff': 46, 'attr': 'real'},\n",
        "  {'coeff': 47, 'attr': 'real'},\n",
        "  {'coeff': 48, 'attr': 'real'},\n",
        "  {'coeff': 49, 'attr': 'real'},\n",
        "  {'coeff': 50, 'attr': 'real'},\n",
        "  {'coeff': 51, 'attr': 'real'},\n",
        "  {'coeff': 52, 'attr': 'real'},\n",
        "  {'coeff': 53, 'attr': 'real'},\n",
        "  {'coeff': 54, 'attr': 'real'},\n",
        "  {'coeff': 55, 'attr': 'real'},\n",
        "  {'coeff': 56, 'attr': 'real'},\n",
        "  {'coeff': 57, 'attr': 'real'},\n",
        "  {'coeff': 58, 'attr': 'real'},\n",
        "  {'coeff': 59, 'attr': 'real'},\n",
        "  {'coeff': 60, 'attr': 'real'},\n",
        "  {'coeff': 61, 'attr': 'real'},\n",
        "  {'coeff': 62, 'attr': 'real'},\n",
        "  {'coeff': 63, 'attr': 'real'},\n",
        "  {'coeff': 64, 'attr': 'real'},\n",
        "  {'coeff': 65, 'attr': 'real'},\n",
        "  {'coeff': 66, 'attr': 'real'},\n",
        "  {'coeff': 67, 'attr': 'real'},\n",
        "  {'coeff': 68, 'attr': 'real'},\n",
        "  {'coeff': 69, 'attr': 'real'},\n",
        "  {'coeff': 70, 'attr': 'real'},\n",
        "  {'coeff': 71, 'attr': 'real'},\n",
        "  {'coeff': 72, 'attr': 'real'},\n",
        "  {'coeff': 73, 'attr': 'real'},\n",
        "  {'coeff': 74, 'attr': 'real'},\n",
        "  {'coeff': 75, 'attr': 'real'},\n",
        "  {'coeff': 76, 'attr': 'real'},\n",
        "  {'coeff': 77, 'attr': 'real'},\n",
        "  {'coeff': 78, 'attr': 'real'},\n",
        "  {'coeff': 79, 'attr': 'real'},\n",
        "  {'coeff': 80, 'attr': 'real'},\n",
        "  {'coeff': 81, 'attr': 'real'},\n",
        "  {'coeff': 82, 'attr': 'real'},\n",
        "  {'coeff': 83, 'attr': 'real'},\n",
        "  {'coeff': 84, 'attr': 'real'},\n",
        "  {'coeff': 85, 'attr': 'real'},\n",
        "  {'coeff': 86, 'attr': 'real'},\n",
        "  {'coeff': 87, 'attr': 'real'},\n",
        "  {'coeff': 88, 'attr': 'real'},\n",
        "  {'coeff': 89, 'attr': 'real'},\n",
        "  {'coeff': 90, 'attr': 'real'},\n",
        "  {'coeff': 91, 'attr': 'real'},\n",
        "  {'coeff': 92, 'attr': 'real'},\n",
        "  {'coeff': 93, 'attr': 'real'},\n",
        "  {'coeff': 94, 'attr': 'real'},\n",
        "  {'coeff': 95, 'attr': 'real'},\n",
        "  {'coeff': 96, 'attr': 'real'},\n",
        "  {'coeff': 97, 'attr': 'real'},\n",
        "  {'coeff': 98, 'attr': 'real'},\n",
        "  {'coeff': 99, 'attr': 'real'},\n",
        "  {'coeff': 0, 'attr': 'imag'},\n",
        "  {'coeff': 1, 'attr': 'imag'},\n",
        "  {'coeff': 2, 'attr': 'imag'},\n",
        "  {'coeff': 3, 'attr': 'imag'},\n",
        "  {'coeff': 4, 'attr': 'imag'},\n",
        "  {'coeff': 5, 'attr': 'imag'},\n",
        "  {'coeff': 6, 'attr': 'imag'},\n",
        "  {'coeff': 7, 'attr': 'imag'},\n",
        "  {'coeff': 8, 'attr': 'imag'},\n",
        "  {'coeff': 9, 'attr': 'imag'},\n",
        "  {'coeff': 10, 'attr': 'imag'},\n",
        "  {'coeff': 11, 'attr': 'imag'},\n",
        "  {'coeff': 12, 'attr': 'imag'},\n",
        "  {'coeff': 13, 'attr': 'imag'},\n",
        "  {'coeff': 14, 'attr': 'imag'},\n",
        "  {'coeff': 15, 'attr': 'imag'},\n",
        "  {'coeff': 16, 'attr': 'imag'},\n",
        "  {'coeff': 17, 'attr': 'imag'},\n",
        "  {'coeff': 18, 'attr': 'imag'},\n",
        "  {'coeff': 19, 'attr': 'imag'},\n",
        "  {'coeff': 20, 'attr': 'imag'},\n",
        "  {'coeff': 21, 'attr': 'imag'},\n",
        "  {'coeff': 22, 'attr': 'imag'},\n",
        "  {'coeff': 23, 'attr': 'imag'},\n",
        "  {'coeff': 24, 'attr': 'imag'},\n",
        "  {'coeff': 25, 'attr': 'imag'},\n",
        "  {'coeff': 26, 'attr': 'imag'},\n",
        "  {'coeff': 27, 'attr': 'imag'},\n",
        "  {'coeff': 28, 'attr': 'imag'},\n",
        "  {'coeff': 29, 'attr': 'imag'},\n",
        "  {'coeff': 30, 'attr': 'imag'},\n",
        "  {'coeff': 31, 'attr': 'imag'},\n",
        "  {'coeff': 32, 'attr': 'imag'},\n",
        "  {'coeff': 33, 'attr': 'imag'},\n",
        "  {'coeff': 34, 'attr': 'imag'},\n",
        "  {'coeff': 35, 'attr': 'imag'},\n",
        "  {'coeff': 36, 'attr': 'imag'},\n",
        "  {'coeff': 37, 'attr': 'imag'},\n",
        "  {'coeff': 38, 'attr': 'imag'},\n",
        "  {'coeff': 39, 'attr': 'imag'},\n",
        "  {'coeff': 40, 'attr': 'imag'},\n",
        "  {'coeff': 41, 'attr': 'imag'},\n",
        "  {'coeff': 42, 'attr': 'imag'},\n",
        "  {'coeff': 43, 'attr': 'imag'},\n",
        "  {'coeff': 44, 'attr': 'imag'},\n",
        "  {'coeff': 45, 'attr': 'imag'},\n",
        "  {'coeff': 46, 'attr': 'imag'},\n",
        "  {'coeff': 47, 'attr': 'imag'},\n",
        "  {'coeff': 48, 'attr': 'imag'},\n",
        "  {'coeff': 49, 'attr': 'imag'},\n",
        "  {'coeff': 50, 'attr': 'imag'},\n",
        "  {'coeff': 51, 'attr': 'imag'},\n",
        "  {'coeff': 52, 'attr': 'imag'},\n",
        "  {'coeff': 53, 'attr': 'imag'},\n",
        "  {'coeff': 54, 'attr': 'imag'},\n",
        "  {'coeff': 55, 'attr': 'imag'},\n",
        "  {'coeff': 56, 'attr': 'imag'},\n",
        "  {'coeff': 57, 'attr': 'imag'},\n",
        "  {'coeff': 58, 'attr': 'imag'},\n",
        "  {'coeff': 59, 'attr': 'imag'},\n",
        "  {'coeff': 60, 'attr': 'imag'},\n",
        "  {'coeff': 61, 'attr': 'imag'},\n",
        "  {'coeff': 62, 'attr': 'imag'},\n",
        "  {'coeff': 63, 'attr': 'imag'},\n",
        "  {'coeff': 64, 'attr': 'imag'},\n",
        "  {'coeff': 65, 'attr': 'imag'},\n",
        "  {'coeff': 66, 'attr': 'imag'},\n",
        "  {'coeff': 67, 'attr': 'imag'},\n",
        "  {'coeff': 68, 'attr': 'imag'},\n",
        "  {'coeff': 69, 'attr': 'imag'},\n",
        "  {'coeff': 70, 'attr': 'imag'},\n",
        "  {'coeff': 71, 'attr': 'imag'},\n",
        "  {'coeff': 72, 'attr': 'imag'},\n",
        "  {'coeff': 73, 'attr': 'imag'},\n",
        "  {'coeff': 74, 'attr': 'imag'},\n",
        "  {'coeff': 75, 'attr': 'imag'},\n",
        "  {'coeff': 76, 'attr': 'imag'},\n",
        "  {'coeff': 77, 'attr': 'imag'},\n",
        "  {'coeff': 78, 'attr': 'imag'},\n",
        "  {'coeff': 79, 'attr': 'imag'},\n",
        "  {'coeff': 80, 'attr': 'imag'},\n",
        "  {'coeff': 81, 'attr': 'imag'},\n",
        "  {'coeff': 82, 'attr': 'imag'},\n",
        "  {'coeff': 83, 'attr': 'imag'},\n",
        "  {'coeff': 84, 'attr': 'imag'},\n",
        "  {'coeff': 85, 'attr': 'imag'},\n",
        "  {'coeff': 86, 'attr': 'imag'},\n",
        "  {'coeff': 87, 'attr': 'imag'},\n",
        "  {'coeff': 88, 'attr': 'imag'},\n",
        "  {'coeff': 89, 'attr': 'imag'},\n",
        "  {'coeff': 90, 'attr': 'imag'},\n",
        "  {'coeff': 91, 'attr': 'imag'},\n",
        "  {'coeff': 92, 'attr': 'imag'},\n",
        "  {'coeff': 93, 'attr': 'imag'},\n",
        "  {'coeff': 94, 'attr': 'imag'},\n",
        "  {'coeff': 95, 'attr': 'imag'},\n",
        "  {'coeff': 96, 'attr': 'imag'},\n",
        "  {'coeff': 97, 'attr': 'imag'},\n",
        "  {'coeff': 98, 'attr': 'imag'},\n",
        "  {'coeff': 99, 'attr': 'imag'},\n",
        "  {'coeff': 0, 'attr': 'abs'},\n",
        "  {'coeff': 1, 'attr': 'abs'},\n",
        "  {'coeff': 2, 'attr': 'abs'},\n",
        "  {'coeff': 3, 'attr': 'abs'},\n",
        "  {'coeff': 4, 'attr': 'abs'},\n",
        "  {'coeff': 5, 'attr': 'abs'},\n",
        "  {'coeff': 6, 'attr': 'abs'},\n",
        "  {'coeff': 7, 'attr': 'abs'},\n",
        "  {'coeff': 8, 'attr': 'abs'},\n",
        "  {'coeff': 9, 'attr': 'abs'},\n",
        "  {'coeff': 10, 'attr': 'abs'},\n",
        "  {'coeff': 11, 'attr': 'abs'},\n",
        "  {'coeff': 12, 'attr': 'abs'},\n",
        "  {'coeff': 13, 'attr': 'abs'},\n",
        "  {'coeff': 14, 'attr': 'abs'},\n",
        "  {'coeff': 15, 'attr': 'abs'},\n",
        "  {'coeff': 16, 'attr': 'abs'},\n",
        "  {'coeff': 17, 'attr': 'abs'},\n",
        "  {'coeff': 18, 'attr': 'abs'},\n",
        "  {'coeff': 19, 'attr': 'abs'},\n",
        "  {'coeff': 20, 'attr': 'abs'},\n",
        "  {'coeff': 21, 'attr': 'abs'},\n",
        "  {'coeff': 22, 'attr': 'abs'},\n",
        "  {'coeff': 23, 'attr': 'abs'},\n",
        "  {'coeff': 24, 'attr': 'abs'},\n",
        "  {'coeff': 25, 'attr': 'abs'},\n",
        "  {'coeff': 26, 'attr': 'abs'},\n",
        "  {'coeff': 27, 'attr': 'abs'},\n",
        "  {'coeff': 28, 'attr': 'abs'},\n",
        "  {'coeff': 29, 'attr': 'abs'},\n",
        "  {'coeff': 30, 'attr': 'abs'},\n",
        "  {'coeff': 31, 'attr': 'abs'},\n",
        "  {'coeff': 32, 'attr': 'abs'},\n",
        "  {'coeff': 33, 'attr': 'abs'},\n",
        "  {'coeff': 34, 'attr': 'abs'},\n",
        "  {'coeff': 35, 'attr': 'abs'},\n",
        "  {'coeff': 36, 'attr': 'abs'},\n",
        "  {'coeff': 37, 'attr': 'abs'},\n",
        "  {'coeff': 38, 'attr': 'abs'},\n",
        "  {'coeff': 39, 'attr': 'abs'},\n",
        "  {'coeff': 40, 'attr': 'abs'},\n",
        "  {'coeff': 41, 'attr': 'abs'},\n",
        "  {'coeff': 42, 'attr': 'abs'},\n",
        "  {'coeff': 43, 'attr': 'abs'},\n",
        "  {'coeff': 44, 'attr': 'abs'},\n",
        "  {'coeff': 45, 'attr': 'abs'},\n",
        "  {'coeff': 46, 'attr': 'abs'},\n",
        "  {'coeff': 47, 'attr': 'abs'},\n",
        "  {'coeff': 48, 'attr': 'abs'},\n",
        "  {'coeff': 49, 'attr': 'abs'},\n",
        "  {'coeff': 50, 'attr': 'abs'},\n",
        "  {'coeff': 51, 'attr': 'abs'},\n",
        "  {'coeff': 52, 'attr': 'abs'},\n",
        "  {'coeff': 53, 'attr': 'abs'},\n",
        "  {'coeff': 54, 'attr': 'abs'},\n",
        "  {'coeff': 55, 'attr': 'abs'},\n",
        "  {'coeff': 56, 'attr': 'abs'},\n",
        "  {'coeff': 57, 'attr': 'abs'},\n",
        "  {'coeff': 58, 'attr': 'abs'},\n",
        "  {'coeff': 59, 'attr': 'abs'},\n",
        "  {'coeff': 60, 'attr': 'abs'},\n",
        "  {'coeff': 61, 'attr': 'abs'},\n",
        "  {'coeff': 62, 'attr': 'abs'},\n",
        "  {'coeff': 63, 'attr': 'abs'},\n",
        "  {'coeff': 64, 'attr': 'abs'},\n",
        "  {'coeff': 65, 'attr': 'abs'},\n",
        "  {'coeff': 66, 'attr': 'abs'},\n",
        "  {'coeff': 67, 'attr': 'abs'},\n",
        "  {'coeff': 68, 'attr': 'abs'},\n",
        "  {'coeff': 69, 'attr': 'abs'},\n",
        "  {'coeff': 70, 'attr': 'abs'},\n",
        "  {'coeff': 71, 'attr': 'abs'},\n",
        "  {'coeff': 72, 'attr': 'abs'},\n",
        "  {'coeff': 73, 'attr': 'abs'},\n",
        "  {'coeff': 74, 'attr': 'abs'},\n",
        "  {'coeff': 75, 'attr': 'abs'},\n",
        "  {'coeff': 76, 'attr': 'abs'},\n",
        "  {'coeff': 77, 'attr': 'abs'},\n",
        "  {'coeff': 78, 'attr': 'abs'},\n",
        "  {'coeff': 79, 'attr': 'abs'},\n",
        "  {'coeff': 80, 'attr': 'abs'},\n",
        "  {'coeff': 81, 'attr': 'abs'},\n",
        "  {'coeff': 82, 'attr': 'abs'},\n",
        "  {'coeff': 83, 'attr': 'abs'},\n",
        "  {'coeff': 84, 'attr': 'abs'},\n",
        "  {'coeff': 85, 'attr': 'abs'},\n",
        "  {'coeff': 86, 'attr': 'abs'},\n",
        "  {'coeff': 87, 'attr': 'abs'},\n",
        "  {'coeff': 88, 'attr': 'abs'},\n",
        "  {'coeff': 89, 'attr': 'abs'},\n",
        "  {'coeff': 90, 'attr': 'abs'},\n",
        "  {'coeff': 91, 'attr': 'abs'},\n",
        "  {'coeff': 92, 'attr': 'abs'},\n",
        "  {'coeff': 93, 'attr': 'abs'},\n",
        "  {'coeff': 94, 'attr': 'abs'},\n",
        "  {'coeff': 95, 'attr': 'abs'},\n",
        "  {'coeff': 96, 'attr': 'abs'},\n",
        "  {'coeff': 97, 'attr': 'abs'},\n",
        "  {'coeff': 98, 'attr': 'abs'},\n",
        "  {'coeff': 99, 'attr': 'abs'},\n",
        "  {'coeff': 0, 'attr': 'angle'},\n",
        "  {'coeff': 1, 'attr': 'angle'},\n",
        "  {'coeff': 2, 'attr': 'angle'},\n",
        "  {'coeff': 3, 'attr': 'angle'},\n",
        "  {'coeff': 4, 'attr': 'angle'},\n",
        "  {'coeff': 5, 'attr': 'angle'},\n",
        "  {'coeff': 6, 'attr': 'angle'},\n",
        "  {'coeff': 7, 'attr': 'angle'},\n",
        "  {'coeff': 8, 'attr': 'angle'},\n",
        "  {'coeff': 9, 'attr': 'angle'},\n",
        "  {'coeff': 10, 'attr': 'angle'},\n",
        "  {'coeff': 11, 'attr': 'angle'},\n",
        "  {'coeff': 12, 'attr': 'angle'},\n",
        "  {'coeff': 13, 'attr': 'angle'},\n",
        "  {'coeff': 14, 'attr': 'angle'},\n",
        "  {'coeff': 15, 'attr': 'angle'},\n",
        "  {'coeff': 16, 'attr': 'angle'},\n",
        "  {'coeff': 17, 'attr': 'angle'},\n",
        "  {'coeff': 18, 'attr': 'angle'},\n",
        "  {'coeff': 19, 'attr': 'angle'},\n",
        "  {'coeff': 20, 'attr': 'angle'},\n",
        "  {'coeff': 21, 'attr': 'angle'},\n",
        "  {'coeff': 22, 'attr': 'angle'},\n",
        "  {'coeff': 23, 'attr': 'angle'},\n",
        "  {'coeff': 24, 'attr': 'angle'},\n",
        "  {'coeff': 25, 'attr': 'angle'},\n",
        "  {'coeff': 26, 'attr': 'angle'},\n",
        "  {'coeff': 27, 'attr': 'angle'},\n",
        "  {'coeff': 28, 'attr': 'angle'},\n",
        "  {'coeff': 29, 'attr': 'angle'},\n",
        "  {'coeff': 30, 'attr': 'angle'},\n",
        "  {'coeff': 31, 'attr': 'angle'},\n",
        "  {'coeff': 32, 'attr': 'angle'},\n",
        "  {'coeff': 33, 'attr': 'angle'},\n",
        "  {'coeff': 34, 'attr': 'angle'},\n",
        "  {'coeff': 35, 'attr': 'angle'},\n",
        "  {'coeff': 36, 'attr': 'angle'},\n",
        "  {'coeff': 37, 'attr': 'angle'},\n",
        "  {'coeff': 38, 'attr': 'angle'},\n",
        "  {'coeff': 39, 'attr': 'angle'},\n",
        "  {'coeff': 40, 'attr': 'angle'},\n",
        "  {'coeff': 41, 'attr': 'angle'},\n",
        "  {'coeff': 42, 'attr': 'angle'},\n",
        "  {'coeff': 43, 'attr': 'angle'},\n",
        "  {'coeff': 44, 'attr': 'angle'},\n",
        "  {'coeff': 45, 'attr': 'angle'},\n",
        "  {'coeff': 46, 'attr': 'angle'},\n",
        "  {'coeff': 47, 'attr': 'angle'},\n",
        "  {'coeff': 48, 'attr': 'angle'},\n",
        "  {'coeff': 49, 'attr': 'angle'},\n",
        "  {'coeff': 50, 'attr': 'angle'},\n",
        "  {'coeff': 51, 'attr': 'angle'},\n",
        "  {'coeff': 52, 'attr': 'angle'},\n",
        "  {'coeff': 53, 'attr': 'angle'},\n",
        "  {'coeff': 54, 'attr': 'angle'},\n",
        "  {'coeff': 55, 'attr': 'angle'},\n",
        "  {'coeff': 56, 'attr': 'angle'},\n",
        "  {'coeff': 57, 'attr': 'angle'},\n",
        "  {'coeff': 58, 'attr': 'angle'},\n",
        "  {'coeff': 59, 'attr': 'angle'},\n",
        "  {'coeff': 60, 'attr': 'angle'},\n",
        "  {'coeff': 61, 'attr': 'angle'},\n",
        "  {'coeff': 62, 'attr': 'angle'},\n",
        "  {'coeff': 63, 'attr': 'angle'},\n",
        "  {'coeff': 64, 'attr': 'angle'},\n",
        "  {'coeff': 65, 'attr': 'angle'},\n",
        "  {'coeff': 66, 'attr': 'angle'},\n",
        "  {'coeff': 67, 'attr': 'angle'},\n",
        "  {'coeff': 68, 'attr': 'angle'},\n",
        "  {'coeff': 69, 'attr': 'angle'},\n",
        "  {'coeff': 70, 'attr': 'angle'},\n",
        "  {'coeff': 71, 'attr': 'angle'},\n",
        "  {'coeff': 72, 'attr': 'angle'},\n",
        "  {'coeff': 73, 'attr': 'angle'},\n",
        "  {'coeff': 74, 'attr': 'angle'},\n",
        "  {'coeff': 75, 'attr': 'angle'},\n",
        "  {'coeff': 76, 'attr': 'angle'},\n",
        "  {'coeff': 77, 'attr': 'angle'},\n",
        "  {'coeff': 78, 'attr': 'angle'},\n",
        "  {'coeff': 79, 'attr': 'angle'},\n",
        "  {'coeff': 80, 'attr': 'angle'},\n",
        "  {'coeff': 81, 'attr': 'angle'},\n",
        "  {'coeff': 82, 'attr': 'angle'},\n",
        "  {'coeff': 83, 'attr': 'angle'},\n",
        "  {'coeff': 84, 'attr': 'angle'},\n",
        "  {'coeff': 85, 'attr': 'angle'},\n",
        "  {'coeff': 86, 'attr': 'angle'},\n",
        "  {'coeff': 87, 'attr': 'angle'},\n",
        "  {'coeff': 88, 'attr': 'angle'},\n",
        "  {'coeff': 89, 'attr': 'angle'},\n",
        "  {'coeff': 90, 'attr': 'angle'},\n",
        "  {'coeff': 91, 'attr': 'angle'},\n",
        "  {'coeff': 92, 'attr': 'angle'},\n",
        "  {'coeff': 93, 'attr': 'angle'},\n",
        "  {'coeff': 94, 'attr': 'angle'},\n",
        "  {'coeff': 95, 'attr': 'angle'},\n",
        "  {'coeff': 96, 'attr': 'angle'},\n",
        "  {'coeff': 97, 'attr': 'angle'},\n",
        "  {'coeff': 98, 'attr': 'angle'},\n",
        "  {'coeff': 99, 'attr': 'angle'}],\n",
        " 'fft_aggregated': [{'aggtype': 'centroid'},\n",
        "  {'aggtype': 'variance'},\n",
        "  {'aggtype': 'skew'},\n",
        "  {'aggtype': 'kurtosis'}],\n",
        " 'value_count': [{'value': 0}, {'value': 1}, {'value': -1}],\n",
        " 'range_count': [{'min': -1, 'max': 1},\n",
        "  {'min': 1000000000000.0, 'max': 0},\n",
        "  {'min': 0, 'max': 1000000000000.0}],\n",
        " 'approximate_entropy': [{'m': 2, 'r': 0.1},\n",
        "  {'m': 2, 'r': 0.3},\n",
        "  {'m': 2, 'r': 0.5},\n",
        "  {'m': 2, 'r': 0.7},\n",
        "  {'m': 2, 'r': 0.9}],\n",
        " 'friedrich_coefficients': [{'coeff': 0, 'm': 3, 'r': 30},\n",
        "  {'coeff': 1, 'm': 3, 'r': 30},\n",
        "  {'coeff': 2, 'm': 3, 'r': 30},\n",
        "  {'coeff': 3, 'm': 3, 'r': 30}],\n",
        " 'max_langevin_fixed_point': [{'m': 3, 'r': 30}],\n",
        " 'linear_trend': [{'attr': 'pvalue'},\n",
        "  {'attr': 'rvalue'},\n",
        "  {'attr': 'intercept'},\n",
        "  {'attr': 'slope'},\n",
        "  {'attr': 'stderr'}],\n",
        " 'agg_linear_trend': [{'attr': 'rvalue', 'chunk_len': 5, 'f_agg': 'max'},\n",
        "  {'attr': 'rvalue', 'chunk_len': 5, 'f_agg': 'min'},\n",
        "  {'attr': 'rvalue', 'chunk_len': 5, 'f_agg': 'mean'},\n",
        "  {'attr': 'rvalue', 'chunk_len': 5, 'f_agg': 'var'},\n",
        "  {'attr': 'rvalue', 'chunk_len': 10, 'f_agg': 'max'},\n",
        "  {'attr': 'rvalue', 'chunk_len': 10, 'f_agg': 'min'},\n",
        "  {'attr': 'rvalue', 'chunk_len': 10, 'f_agg': 'mean'},\n",
        "  {'attr': 'rvalue', 'chunk_len': 10, 'f_agg': 'var'},\n",
        "  {'attr': 'rvalue', 'chunk_len': 50, 'f_agg': 'max'},\n",
        "  {'attr': 'rvalue', 'chunk_len': 50, 'f_agg': 'min'},\n",
        "  {'attr': 'rvalue', 'chunk_len': 50, 'f_agg': 'mean'},\n",
        "  {'attr': 'rvalue', 'chunk_len': 50, 'f_agg': 'var'},\n",
        "  {'attr': 'intercept', 'chunk_len': 5, 'f_agg': 'max'},\n",
        "  {'attr': 'intercept', 'chunk_len': 5, 'f_agg': 'min'},\n",
        "  {'attr': 'intercept', 'chunk_len': 5, 'f_agg': 'mean'},\n",
        "  {'attr': 'intercept', 'chunk_len': 5, 'f_agg': 'var'},\n",
        "  {'attr': 'intercept', 'chunk_len': 10, 'f_agg': 'max'},\n",
        "  {'attr': 'intercept', 'chunk_len': 10, 'f_agg': 'min'},\n",
        "  {'attr': 'intercept', 'chunk_len': 10, 'f_agg': 'mean'},\n",
        "  {'attr': 'intercept', 'chunk_len': 10, 'f_agg': 'var'},\n",
        "  {'attr': 'intercept', 'chunk_len': 50, 'f_agg': 'max'},\n",
        "  {'attr': 'intercept', 'chunk_len': 50, 'f_agg': 'min'},\n",
        "  {'attr': 'intercept', 'chunk_len': 50, 'f_agg': 'mean'},\n",
        "  {'attr': 'intercept', 'chunk_len': 50, 'f_agg': 'var'},\n",
        "  {'attr': 'slope', 'chunk_len': 5, 'f_agg': 'max'},\n",
        "  {'attr': 'slope', 'chunk_len': 5, 'f_agg': 'min'},\n",
        "  {'attr': 'slope', 'chunk_len': 5, 'f_agg': 'mean'},\n",
        "  {'attr': 'slope', 'chunk_len': 5, 'f_agg': 'var'},\n",
        "  {'attr': 'slope', 'chunk_len': 10, 'f_agg': 'max'},\n",
        "  {'attr': 'slope', 'chunk_len': 10, 'f_agg': 'min'},\n",
        "  {'attr': 'slope', 'chunk_len': 10, 'f_agg': 'mean'},\n",
        "  {'attr': 'slope', 'chunk_len': 10, 'f_agg': 'var'},\n",
        "  {'attr': 'slope', 'chunk_len': 50, 'f_agg': 'max'},\n",
        "  {'attr': 'slope', 'chunk_len': 50, 'f_agg': 'min'},\n",
        "  {'attr': 'slope', 'chunk_len': 50, 'f_agg': 'mean'},\n",
        "  {'attr': 'slope', 'chunk_len': 50, 'f_agg': 'var'},\n",
        "  {'attr': 'stderr', 'chunk_len': 5, 'f_agg': 'max'},\n",
        "  {'attr': 'stderr', 'chunk_len': 5, 'f_agg': 'min'},\n",
        "  {'attr': 'stderr', 'chunk_len': 5, 'f_agg': 'mean'},\n",
        "  {'attr': 'stderr', 'chunk_len': 5, 'f_agg': 'var'},\n",
        "  {'attr': 'stderr', 'chunk_len': 10, 'f_agg': 'max'},\n",
        "  {'attr': 'stderr', 'chunk_len': 10, 'f_agg': 'min'},\n",
        "  {'attr': 'stderr', 'chunk_len': 10, 'f_agg': 'mean'},\n",
        "  {'attr': 'stderr', 'chunk_len': 10, 'f_agg': 'var'},\n",
        "  {'attr': 'stderr', 'chunk_len': 50, 'f_agg': 'max'},\n",
        "  {'attr': 'stderr', 'chunk_len': 50, 'f_agg': 'min'},\n",
        "  {'attr': 'stderr', 'chunk_len': 50, 'f_agg': 'mean'},\n",
        "  {'attr': 'stderr', 'chunk_len': 50, 'f_agg': 'var'}],\n",
        " 'augmented_dickey_fuller': [{'attr': 'teststat'},\n",
        "  {'attr': 'pvalue'},\n",
        "  {'attr': 'usedlag'}],\n",
        " 'number_crossing_m': [{'m': 0}, {'m': -1}, {'m': 1}],\n",
        " 'energy_ratio_by_chunks': [{'num_segments': 10, 'segment_focus': 0},\n",
        "  {'num_segments': 10, 'segment_focus': 1},\n",
        "  {'num_segments': 10, 'segment_focus': 2},\n",
        "  {'num_segments': 10, 'segment_focus': 3},\n",
        "  {'num_segments': 10, 'segment_focus': 4},\n",
        "  {'num_segments': 10, 'segment_focus': 5},\n",
        "  {'num_segments': 10, 'segment_focus': 6},\n",
        "  {'num_segments': 10, 'segment_focus': 7},\n",
        "  {'num_segments': 10, 'segment_focus': 8},\n",
        "  {'num_segments': 10, 'segment_focus': 9}],\n",
        " 'ratio_beyond_r_sigma': [{'r': 0.5},\n",
        "  {'r': 1},\n",
        "  {'r': 1.5},\n",
        "  {'r': 2},\n",
        "  {'r': 2.5},\n",
        "  {'r': 3},\n",
        "  {'r': 5},\n",
        "  {'r': 6},\n",
        "  {'r': 7},\n",
        "  {'r': 10}]}"
      ],
      "execution_count": 0,
      "outputs": []
    },
    {
      "cell_type": "markdown",
      "metadata": {
        "id": "DPvrDh-U-Wo3",
        "colab_type": "text"
      },
      "source": [
        "### 1rst Selection"
      ]
    },
    {
      "cell_type": "code",
      "metadata": {
        "id": "XfZvX7Hk5xux",
        "colab_type": "code",
        "colab": {}
      },
      "source": [
        "settings={\n",
        "'standard_deviation': None,\n",
        " 'variance': None,\n",
        " 'skewness': None,\n",
        " 'kurtosis': None,\n",
        " 'absolute_sum_of_changes': None,\n",
        "\n",
        "'last_location_of_maximum': None,\n",
        " 'first_location_of_maximum': None,\n",
        " 'last_location_of_minimum': None,\n",
        "'first_location_of_minimum': None,\n",
        "'count_above_mean': None,\n",
        " 'count_below_mean': None,\n",
        " 'maximum': None,\n",
        " 'minimum': None,\n",
        "\n",
        "    \n",
        " 'c3': [{'lag': 100}, {'lag': 2000}, {'lag': 3000},{'lag': 10000}],\n",
        "\n",
        "'number_peaks': [{'n': 1}, {'n': 5},{'n': 100},{'n': 1000}],\n",
        "'fft_coefficient': \n",
        " [{'coeff': 0, 'attr': 'real'},\n",
        "  {'coeff': 1, 'attr': 'real'},\n",
        "  {'coeff': 2, 'attr': 'real'},\n",
        "  {'coeff': 3, 'attr': 'real'},\n",
        "  {'coeff': 4, 'attr': 'real'},\n",
        "\n",
        "  {'coeff': 0, 'attr': 'imag'},\n",
        "  {'coeff': 1, 'attr': 'imag'},\n",
        "  {'coeff': 2, 'attr': 'imag'},\n",
        "  {'coeff': 3, 'attr': 'imag'},\n",
        "  {'coeff': 4, 'attr': 'imag'},\n",
        "  {'coeff': 5, 'attr': 'imag'},\n",
        "\n",
        "  {'coeff': 0, 'attr': 'abs'},\n",
        "  {'coeff': 1, 'attr': 'abs'},\n",
        "  {'coeff': 2, 'attr': 'abs'},\n",
        "  {'coeff': 3, 'attr': 'abs'},\n",
        "  {'coeff': 4, 'attr': 'abs'},\n",
        "  {'coeff': 5, 'attr': 'abs'},\n",
        "\n",
        "  {'coeff': 0, 'attr': 'angle'},\n",
        "  {'coeff': 1, 'attr': 'angle'},\n",
        "  {'coeff': 2, 'attr': 'angle'},\n",
        "  {'coeff': 3, 'attr': 'angle'},\n",
        "  {'coeff': 4, 'attr': 'angle'},\n",
        "  {'coeff': 5, 'attr': 'angle'},\n",
        "],\n",
        " 'agg_linear_trend': [\n",
        "     {'attr': 'rvalue', 'chunk_len': 500, 'f_agg': 'max'},\n",
        "  {'attr': 'rvalue', 'chunk_len': 500, 'f_agg': 'min'},\n",
        "  {'attr': 'rvalue', 'chunk_len': 500, 'f_agg': 'mean'},\n",
        "  {'attr': 'rvalue', 'chunk_len': 500, 'f_agg': 'var'},\n",
        "  {'attr': 'rvalue', 'chunk_len': 1000, 'f_agg': 'max'},\n",
        "  {'attr': 'rvalue', 'chunk_len': 1000, 'f_agg': 'min'},\n",
        "  {'attr': 'rvalue', 'chunk_len': 1000, 'f_agg': 'mean'},\n",
        "  {'attr': 'rvalue', 'chunk_len': 1000, 'f_agg': 'var'},\n",
        "  {'attr': 'rvalue', 'chunk_len': 5000, 'f_agg': 'max'},\n",
        "  {'attr': 'rvalue', 'chunk_len': 5000, 'f_agg': 'min'},\n",
        "  {'attr': 'rvalue', 'chunk_len': 5000, 'f_agg': 'mean'},\n",
        "  {'attr': 'rvalue', 'chunk_len': 5000, 'f_agg': 'var'},\n",
        "  {'attr': 'intercept', 'chunk_len': 500, 'f_agg': 'max'},\n",
        "  {'attr': 'intercept', 'chunk_len': 500, 'f_agg': 'min'},\n",
        "  {'attr': 'intercept', 'chunk_len': 500, 'f_agg': 'mean'},\n",
        "  {'attr': 'intercept', 'chunk_len': 500, 'f_agg': 'var'},\n",
        "  {'attr': 'intercept', 'chunk_len': 1000, 'f_agg': 'max'},\n",
        "  {'attr': 'intercept', 'chunk_len': 1000, 'f_agg': 'min'},\n",
        "  {'attr': 'intercept', 'chunk_len': 1000, 'f_agg': 'mean'},\n",
        "  {'attr': 'intercept', 'chunk_len': 1000, 'f_agg': 'var'},\n",
        "  {'attr': 'intercept', 'chunk_len': 5000, 'f_agg': 'max'},\n",
        "  {'attr': 'intercept', 'chunk_len': 5000, 'f_agg': 'min'},\n",
        "  {'attr': 'intercept', 'chunk_len': 5000, 'f_agg': 'mean'},\n",
        "  {'attr': 'intercept', 'chunk_len': 5000, 'f_agg': 'var'},\n",
        "  {'attr': 'slope', 'chunk_len': 500, 'f_agg': 'max'},\n",
        "  {'attr': 'slope', 'chunk_len': 500, 'f_agg': 'min'},\n",
        "  {'attr': 'slope', 'chunk_len': 500, 'f_agg': 'mean'},\n",
        "  {'attr': 'slope', 'chunk_len': 500, 'f_agg': 'var'},\n",
        "  {'attr': 'slope', 'chunk_len': 1000, 'f_agg': 'max'},\n",
        "  {'attr': 'slope', 'chunk_len': 1000, 'f_agg': 'min'},\n",
        "  {'attr': 'slope', 'chunk_len': 1000, 'f_agg': 'mean'},\n",
        "  {'attr': 'slope', 'chunk_len': 1000, 'f_agg': 'var'},\n",
        "  {'attr': 'slope', 'chunk_len': 5000, 'f_agg': 'max'},\n",
        "  {'attr': 'slope', 'chunk_len': 5000, 'f_agg': 'min'},\n",
        "  {'attr': 'slope', 'chunk_len': 5000, 'f_agg': 'mean'},\n",
        "  {'attr': 'slope', 'chunk_len': 5000, 'f_agg': 'var'},\n",
        "  {'attr': 'stderr', 'chunk_len': 500, 'f_agg': 'max'},\n",
        "  {'attr': 'stderr', 'chunk_len': 500, 'f_agg': 'min'},\n",
        "  {'attr': 'stderr', 'chunk_len': 500, 'f_agg': 'mean'},\n",
        "  {'attr': 'stderr', 'chunk_len': 500, 'f_agg': 'var'},\n",
        "  {'attr': 'stderr', 'chunk_len': 1000, 'f_agg': 'max'},\n",
        "  {'attr': 'stderr', 'chunk_len': 1000, 'f_agg': 'min'},\n",
        "  {'attr': 'stderr', 'chunk_len': 1000, 'f_agg': 'mean'},\n",
        "  {'attr': 'stderr', 'chunk_len': 1000, 'f_agg': 'var'},\n",
        "  {'attr': 'stderr', 'chunk_len': 5000, 'f_agg': 'max'},\n",
        "  {'attr': 'stderr', 'chunk_len': 5000, 'f_agg': 'min'},\n",
        "  {'attr': 'stderr', 'chunk_len': 5000, 'f_agg': 'mean'},\n",
        "  {'attr': 'stderr', 'chunk_len': 5000, 'f_agg': 'var'}],\n",
        " 'index_mass_quantile': [{'q': 0.1},\n",
        "  {'q': 0.2},\n",
        "  {'q': 0.3},\n",
        "  {'q': 0.4},\n",
        "  {'q': 0.6},\n",
        "  {'q': 0.7},\n",
        "  {'q': 0.8},\n",
        "  {'q': 0.9}],\n",
        "\n",
        " 'spkt_welch_density': [{'coeff': 2}, {'coeff': 5}, {'coeff': 8}],\n",
        " 'ar_coefficient': [{'coeff': 0, 'k': 10},\n",
        "  {'coeff': 1, 'k': 10},\n",
        "  {'coeff': 2, 'k': 10},\n",
        "  {'coeff': 3, 'k': 10},\n",
        "  {'coeff': 4, 'k': 10}],\n",
        "\n",
        " 'energy_ratio_by_chunks': [{'num_segments': 10, 'segment_focus': 0},\n",
        "  {'num_segments': 10, 'segment_focus': 1},\n",
        "  {'num_segments': 10, 'segment_focus': 2},\n",
        "  {'num_segments': 10, 'segment_focus': 3},\n",
        "  {'num_segments': 10, 'segment_focus': 4},\n",
        "  {'num_segments': 10, 'segment_focus': 5},\n",
        "  {'num_segments': 10, 'segment_focus': 6},\n",
        "  {'num_segments': 10, 'segment_focus': 7},\n",
        "  {'num_segments': 10, 'segment_focus': 8},\n",
        "  {'num_segments': 10, 'segment_focus': 9}],\n",
        " 'ratio_beyond_r_sigma': [{'r': 0.5},\n",
        "  {'r': 1},\n",
        "  {'r': 1.5},\n",
        "  {'r': 2},\n",
        "  {'r': 2.5},\n",
        "  {'r': 3},\n",
        "  {'r': 5},\n",
        "  {'r': 6},\n",
        "  {'r': 7},\n",
        "  {'r': 10}],\n",
        "'max_langevin_fixed_point': [{'m': 3, 'r': 30}],\n",
        "    'change_quantiles': [{'ql': 0.0, 'qh': 0.2, 'isabs': False, 'f_agg': 'mean'},\n",
        "  {'ql': 0.0, 'qh': 0.2, 'isabs': False, 'f_agg': 'var'},\n",
        "  {'ql': 0.0, 'qh': 0.2, 'isabs': True, 'f_agg': 'mean'},\n",
        "  {'ql': 0.0, 'qh': 0.2, 'isabs': True, 'f_agg': 'var'},\n",
        "  {'ql': 0.0, 'qh': 0.4, 'isabs': False, 'f_agg': 'mean'},\n",
        "  {'ql': 0.0, 'qh': 0.4, 'isabs': False, 'f_agg': 'var'},\n",
        "  {'ql': 0.0, 'qh': 0.4, 'isabs': True, 'f_agg': 'mean'},\n",
        "  {'ql': 0.0, 'qh': 0.4, 'isabs': True, 'f_agg': 'var'},\n",
        "  {'ql': 0.0, 'qh': 0.6, 'isabs': False, 'f_agg': 'mean'},\n",
        "  {'ql': 0.0, 'qh': 0.6, 'isabs': False, 'f_agg': 'var'},\n",
        "  {'ql': 0.0, 'qh': 0.6, 'isabs': True, 'f_agg': 'mean'},\n",
        "  {'ql': 0.0, 'qh': 0.6, 'isabs': True, 'f_agg': 'var'},\n",
        "  {'ql': 0.0, 'qh': 0.8, 'isabs': False, 'f_agg': 'mean'},\n",
        "  {'ql': 0.0, 'qh': 0.8, 'isabs': False, 'f_agg': 'var'},\n",
        "  {'ql': 0.0, 'qh': 0.8, 'isabs': True, 'f_agg': 'mean'},\n",
        "  {'ql': 0.0, 'qh': 0.8, 'isabs': True, 'f_agg': 'var'},\n",
        "  {'ql': 0.0, 'qh': 1.0, 'isabs': False, 'f_agg': 'mean'}]\n",
        "\n",
        "}"
      ],
      "execution_count": 0,
      "outputs": []
    },
    {
      "cell_type": "markdown",
      "metadata": {
        "id": "cyqqRzZc-cct",
        "colab_type": "text"
      },
      "source": [
        "### 2nd Selection"
      ]
    },
    {
      "cell_type": "code",
      "metadata": {
        "id": "sJG2B_TD8Fgz",
        "colab_type": "code",
        "colab": {}
      },
      "source": [
        "settings={ \n",
        "  'standard_deviation': None,    \n",
        "  'variance': None,\n",
        "  'skewness': None,\n",
        "  'kurtosis': None,\n",
        "  'count_above_mean': None,\n",
        "  'count_below_mean': None,\n",
        "  'last_location_of_maximum': None,\n",
        "  'first_location_of_maximum': None,\n",
        "  'last_location_of_minimum': None,\n",
        "  'first_location_of_minimum': None,\n",
        "  'maximum': None,\n",
        "  'minimum': None,\n",
        "\n",
        "  'c3': [{'lag': 100}, {'lag': 2000}, {'lag': 3000},{'lag': 10000}],\n",
        "\n",
        "  'number_peaks': \n",
        "    [{'n': 1},\n",
        "    {'n': 2},\n",
        "    {'n': 3},\n",
        "    {'n': 5},\n",
        "    {'n': 8},\n",
        "    {'n': 13},\n",
        "    {'n': 21},\n",
        "    {'n': 100},\n",
        "    {'n': 5000}\n",
        "    ],\n",
        "    \n",
        "'fft_coefficient': \n",
        " [{'coeff': 0, 'attr': 'real'},\n",
        "  {'coeff': 1, 'attr': 'real'},\n",
        "  {'coeff': 2, 'attr': 'real'},\n",
        "  {'coeff': 3, 'attr': 'real'},\n",
        "  {'coeff': 4, 'attr': 'real'},\n",
        "\n",
        "  {'coeff': 0, 'attr': 'imag'},\n",
        "  {'coeff': 1, 'attr': 'imag'},\n",
        "  {'coeff': 2, 'attr': 'imag'},\n",
        "  {'coeff': 3, 'attr': 'imag'},\n",
        "  {'coeff': 4, 'attr': 'imag'},\n",
        "  {'coeff': 5, 'attr': 'imag'},\n",
        "\n",
        "  {'coeff': 0, 'attr': 'abs'},\n",
        "  {'coeff': 1, 'attr': 'abs'},\n",
        "  {'coeff': 2, 'attr': 'abs'},\n",
        "  {'coeff': 3, 'attr': 'abs'},\n",
        "  {'coeff': 4, 'attr': 'abs'},\n",
        "  {'coeff': 5, 'attr': 'abs'},\n",
        "\n",
        "  {'coeff': 0, 'attr': 'angle'},\n",
        "  {'coeff': 1, 'attr': 'angle'},\n",
        "  {'coeff': 2, 'attr': 'angle'},\n",
        "  {'coeff': 3, 'attr': 'angle'},\n",
        "  {'coeff': 4, 'attr': 'angle'},\n",
        "  {'coeff': 5, 'attr': 'angle'},],\n",
        "    \n",
        "  'agg_linear_trend': \n",
        "    [{'attr': 'rvalue', 'chunk_len': 500, 'f_agg': 'max'}, \n",
        "    {'attr': 'rvalue', 'chunk_len': 500, 'f_agg': 'min'},\n",
        "    {'attr': 'rvalue', 'chunk_len': 500, 'f_agg': 'mean'},\n",
        "    {'attr': 'rvalue', 'chunk_len': 500, 'f_agg': 'var'},\n",
        "    {'attr': 'rvalue', 'chunk_len': 1000, 'f_agg': 'max'},\n",
        "    {'attr': 'rvalue', 'chunk_len': 1000, 'f_agg': 'min'},\n",
        "    {'attr': 'rvalue', 'chunk_len': 1000, 'f_agg': 'mean'},\n",
        "    {'attr': 'rvalue', 'chunk_len': 1000, 'f_agg': 'var'},\n",
        "    {'attr': 'rvalue', 'chunk_len': 5000, 'f_agg': 'max'},\n",
        "    {'attr': 'rvalue', 'chunk_len': 5000, 'f_agg': 'min'},\n",
        "    {'attr': 'rvalue', 'chunk_len': 5000, 'f_agg': 'mean'},\n",
        "    {'attr': 'rvalue', 'chunk_len': 5000, 'f_agg': 'var'},\n",
        "    {'attr': 'intercept', 'chunk_len': 500, 'f_agg': 'max'},\n",
        "    {'attr': 'intercept', 'chunk_len': 500, 'f_agg': 'min'},\n",
        "    {'attr': 'intercept', 'chunk_len': 500, 'f_agg': 'mean'},\n",
        "    {'attr': 'intercept', 'chunk_len': 500, 'f_agg': 'var'},\n",
        "    {'attr': 'intercept', 'chunk_len': 1000, 'f_agg': 'max'},\n",
        "    {'attr': 'intercept', 'chunk_len': 1000, 'f_agg': 'min'},\n",
        "    {'attr': 'intercept', 'chunk_len': 1000, 'f_agg': 'mean'},\n",
        "    {'attr': 'intercept', 'chunk_len': 1000, 'f_agg': 'var'},\n",
        "    {'attr': 'intercept', 'chunk_len': 5000, 'f_agg': 'max'},\n",
        "    {'attr': 'intercept', 'chunk_len': 5000, 'f_agg': 'min'},\n",
        "    {'attr': 'intercept', 'chunk_len': 5000, 'f_agg': 'mean'},\n",
        "    {'attr': 'intercept', 'chunk_len': 5000, 'f_agg': 'var'},\n",
        "    {'attr': 'slope', 'chunk_len': 500, 'f_agg': 'max'},\n",
        "    {'attr': 'slope', 'chunk_len': 500, 'f_agg': 'min'},\n",
        "    {'attr': 'slope', 'chunk_len': 500, 'f_agg': 'mean'},\n",
        "    {'attr': 'slope', 'chunk_len': 500, 'f_agg': 'var'},\n",
        "    {'attr': 'slope', 'chunk_len': 1000, 'f_agg': 'max'},\n",
        "    {'attr': 'slope', 'chunk_len': 1000, 'f_agg': 'min'},\n",
        "    {'attr': 'slope', 'chunk_len': 1000, 'f_agg': 'mean'},\n",
        "    {'attr': 'slope', 'chunk_len': 1000, 'f_agg': 'var'},\n",
        "    {'attr': 'slope', 'chunk_len': 5000, 'f_agg': 'max'},\n",
        "    {'attr': 'slope', 'chunk_len': 5000, 'f_agg': 'min'},\n",
        "    {'attr': 'slope', 'chunk_len': 5000, 'f_agg': 'mean'},\n",
        "    {'attr': 'slope', 'chunk_len': 5000, 'f_agg': 'var'},\n",
        "    {'attr': 'stderr', 'chunk_len': 500, 'f_agg': 'max'},\n",
        "    {'attr': 'stderr', 'chunk_len': 500, 'f_agg': 'min'},\n",
        "    {'attr': 'stderr', 'chunk_len': 500, 'f_agg': 'mean'},\n",
        "    {'attr': 'stderr', 'chunk_len': 500, 'f_agg': 'var'},\n",
        "    {'attr': 'stderr', 'chunk_len': 1000, 'f_agg': 'max'},\n",
        "    {'attr': 'stderr', 'chunk_len': 1000, 'f_agg': 'min'},\n",
        "    {'attr': 'stderr', 'chunk_len': 1000, 'f_agg': 'mean'},\n",
        "    {'attr': 'stderr', 'chunk_len': 1000, 'f_agg': 'var'},\n",
        "    {'attr': 'stderr', 'chunk_len': 5000, 'f_agg': 'max'},\n",
        "    {'attr': 'stderr', 'chunk_len': 5000, 'f_agg': 'min'},\n",
        "    {'attr': 'stderr', 'chunk_len': 5000, 'f_agg': 'mean'},\n",
        "    {'attr': 'stderr', 'chunk_len': 5000, 'f_agg': 'var'}],\n",
        "    \n",
        "  'index_mass_quantile':\n",
        "    [{'q': 0.1},     \n",
        "    {'q': 0.2},\n",
        "    {'q': 0.3},\n",
        "    {'q': 0.4},\n",
        "    {'q': 0.6},\n",
        "    {'q': 0.7},\n",
        "    {'q': 0.8},\n",
        "    {'q': 0.9}],\n",
        "\n",
        "  'spkt_welch_density': [{'coeff': 2}, {'coeff': 5}, {'coeff': 8}],\n",
        "\n",
        "  'ar_coefficient': \n",
        "    [{'coeff': 0, 'k': 10},\n",
        "    {'coeff': 1, 'k': 10},\n",
        "    {'coeff': 2, 'k': 10},\n",
        "    {'coeff': 3, 'k': 10},\n",
        "    {'coeff': 4, 'k': 10}],\n",
        "\n",
        "  'energy_ratio_by_chunks': [{'num_segments': 10, 'segment_focus': 0},\n",
        "    {'num_segments': 10, 'segment_focus': 1},\n",
        "    {'num_segments': 10, 'segment_focus': 2},\n",
        "    {'num_segments': 10, 'segment_focus': 3},\n",
        "    {'num_segments': 10, 'segment_focus': 4},\n",
        "    {'num_segments': 10, 'segment_focus': 5},\n",
        "    {'num_segments': 10, 'segment_focus': 6},\n",
        "    {'num_segments': 10, 'segment_focus': 7},\n",
        "    {'num_segments': 10, 'segment_focus': 8},\n",
        "    {'num_segments': 10, 'segment_focus': 9}],\n",
        "    \n",
        "  'ratio_beyond_r_sigma': \n",
        "    [{'r': 0.5},\n",
        "    {'r': 1},\n",
        "    {'r': 1.5},\n",
        "    {'r': 2},\n",
        "    {'r': 2.5},\n",
        "    {'r': 3},\n",
        "    {'r': 5},\n",
        "    {'r': 6},\n",
        "    {'r': 7},\n",
        "    {'r': 10}],\n",
        "\n",
        "  'max_langevin_fixed_point': [{'m': 3, 'r': 30}],\n",
        "\n",
        "  }\n",
        "\n",
        "peak={\n",
        "  'number_peaks': \n",
        "    [{'n': 1},\n",
        "    {'n': 2},\n",
        "    {'n': 3},\n",
        "    {'n': 5},\n",
        "    {'n': 8},\n",
        "    {'n': 13},\n",
        "    {'n': 21}]\n",
        "}"
      ],
      "execution_count": 0,
      "outputs": []
    },
    {
      "cell_type": "code",
      "metadata": {
        "id": "YQv0gNNE6ijc",
        "colab_type": "code",
        "colab": {}
      },
      "source": [
        "settings={\n",
        "'standard_deviation': None,\n",
        " 'variance': None,\n",
        " 'skewness': None,\n",
        " 'kurtosis': None,\n",
        "\n",
        " 'count_above_mean': None,\n",
        " 'count_below_mean': None,\n",
        "'last_location_of_maximum': None,\n",
        " 'first_location_of_maximum': None,\n",
        " 'last_location_of_minimum': None,\n",
        "'first_location_of_minimum': None,\n",
        "\n",
        " 'maximum': None,\n",
        " 'minimum': None,\n",
        "\n",
        " 'c3': [{'lag': 100}, {'lag': 2000}, {'lag': 3000},{'lag': 10000}],\n",
        "\n",
        "'number_peaks': [{'n': 1}, \n",
        "                  {'n': 3}, \n",
        "                  {'n': 5},{'n': 100},{'n': 5000}],\n",
        "'fft_coefficient': \n",
        " [{'coeff': 0, 'attr': 'real'},\n",
        "  {'coeff': 1, 'attr': 'real'},\n",
        "  {'coeff': 2, 'attr': 'real'},\n",
        "  {'coeff': 3, 'attr': 'real'},\n",
        "  {'coeff': 4, 'attr': 'real'},\n",
        "\n",
        "  {'coeff': 0, 'attr': 'imag'},\n",
        "  {'coeff': 1, 'attr': 'imag'},\n",
        "  {'coeff': 2, 'attr': 'imag'},\n",
        "  {'coeff': 3, 'attr': 'imag'},\n",
        "  {'coeff': 4, 'attr': 'imag'},\n",
        "  {'coeff': 5, 'attr': 'imag'},\n",
        "\n",
        "  {'coeff': 0, 'attr': 'abs'},\n",
        "  {'coeff': 1, 'attr': 'abs'},\n",
        "  {'coeff': 2, 'attr': 'abs'},\n",
        "  {'coeff': 3, 'attr': 'abs'},\n",
        "  {'coeff': 4, 'attr': 'abs'},\n",
        "  {'coeff': 5, 'attr': 'abs'},\n",
        "\n",
        "  {'coeff': 0, 'attr': 'angle'},\n",
        "  {'coeff': 1, 'attr': 'angle'},\n",
        "  {'coeff': 2, 'attr': 'angle'},\n",
        "  {'coeff': 3, 'attr': 'angle'},\n",
        "  {'coeff': 4, 'attr': 'angle'},\n",
        "  {'coeff': 5, 'attr': 'angle'},\n",
        "],\n",
        " 'agg_linear_trend': [\n",
        "     {'attr': 'rvalue', 'chunk_len': 500, 'f_agg': 'max'},\n",
        "  {'attr': 'rvalue', 'chunk_len': 500, 'f_agg': 'min'},\n",
        "  {'attr': 'rvalue', 'chunk_len': 500, 'f_agg': 'mean'},\n",
        "  {'attr': 'rvalue', 'chunk_len': 500, 'f_agg': 'var'},\n",
        "  {'attr': 'rvalue', 'chunk_len': 1000, 'f_agg': 'max'},\n",
        "  {'attr': 'rvalue', 'chunk_len': 1000, 'f_agg': 'min'},\n",
        "  {'attr': 'rvalue', 'chunk_len': 1000, 'f_agg': 'mean'},\n",
        "  {'attr': 'rvalue', 'chunk_len': 1000, 'f_agg': 'var'},\n",
        "  {'attr': 'rvalue', 'chunk_len': 5000, 'f_agg': 'max'},\n",
        "  {'attr': 'rvalue', 'chunk_len': 5000, 'f_agg': 'min'},\n",
        "  {'attr': 'rvalue', 'chunk_len': 5000, 'f_agg': 'mean'},\n",
        "  {'attr': 'rvalue', 'chunk_len': 5000, 'f_agg': 'var'},\n",
        "  {'attr': 'intercept', 'chunk_len': 500, 'f_agg': 'max'},\n",
        "  {'attr': 'intercept', 'chunk_len': 500, 'f_agg': 'min'},\n",
        "  {'attr': 'intercept', 'chunk_len': 500, 'f_agg': 'mean'},\n",
        "  {'attr': 'intercept', 'chunk_len': 500, 'f_agg': 'var'},\n",
        "  {'attr': 'intercept', 'chunk_len': 1000, 'f_agg': 'max'},\n",
        "  {'attr': 'intercept', 'chunk_len': 1000, 'f_agg': 'min'},\n",
        "  {'attr': 'intercept', 'chunk_len': 1000, 'f_agg': 'mean'},\n",
        "  {'attr': 'intercept', 'chunk_len': 1000, 'f_agg': 'var'},\n",
        "  {'attr': 'intercept', 'chunk_len': 5000, 'f_agg': 'max'},\n",
        "  {'attr': 'intercept', 'chunk_len': 5000, 'f_agg': 'min'},\n",
        "  {'attr': 'intercept', 'chunk_len': 5000, 'f_agg': 'mean'},\n",
        "  {'attr': 'intercept', 'chunk_len': 5000, 'f_agg': 'var'},\n",
        "  {'attr': 'slope', 'chunk_len': 500, 'f_agg': 'max'},\n",
        "  {'attr': 'slope', 'chunk_len': 500, 'f_agg': 'min'},\n",
        "  {'attr': 'slope', 'chunk_len': 500, 'f_agg': 'mean'},\n",
        "  {'attr': 'slope', 'chunk_len': 500, 'f_agg': 'var'},\n",
        "  {'attr': 'slope', 'chunk_len': 1000, 'f_agg': 'max'},\n",
        "  {'attr': 'slope', 'chunk_len': 1000, 'f_agg': 'min'},\n",
        "  {'attr': 'slope', 'chunk_len': 1000, 'f_agg': 'mean'},\n",
        "  {'attr': 'slope', 'chunk_len': 1000, 'f_agg': 'var'},\n",
        "  {'attr': 'slope', 'chunk_len': 5000, 'f_agg': 'max'},\n",
        "  {'attr': 'slope', 'chunk_len': 5000, 'f_agg': 'min'},\n",
        "  {'attr': 'slope', 'chunk_len': 5000, 'f_agg': 'mean'},\n",
        "  {'attr': 'slope', 'chunk_len': 5000, 'f_agg': 'var'},\n",
        "  {'attr': 'stderr', 'chunk_len': 500, 'f_agg': 'max'},\n",
        "  {'attr': 'stderr', 'chunk_len': 500, 'f_agg': 'min'},\n",
        "  {'attr': 'stderr', 'chunk_len': 500, 'f_agg': 'mean'},\n",
        "  {'attr': 'stderr', 'chunk_len': 500, 'f_agg': 'var'},\n",
        "  {'attr': 'stderr', 'chunk_len': 1000, 'f_agg': 'max'},\n",
        "  {'attr': 'stderr', 'chunk_len': 1000, 'f_agg': 'min'},\n",
        "  {'attr': 'stderr', 'chunk_len': 1000, 'f_agg': 'mean'},\n",
        "  {'attr': 'stderr', 'chunk_len': 1000, 'f_agg': 'var'},\n",
        "  {'attr': 'stderr', 'chunk_len': 5000, 'f_agg': 'max'},\n",
        "  {'attr': 'stderr', 'chunk_len': 5000, 'f_agg': 'min'},\n",
        "  {'attr': 'stderr', 'chunk_len': 5000, 'f_agg': 'mean'},\n",
        "  {'attr': 'stderr', 'chunk_len': 5000, 'f_agg': 'var'}],\n",
        " 'index_mass_quantile': [{'q': 0.1},\n",
        "  {'q': 0.2},\n",
        "  {'q': 0.3},\n",
        "  {'q': 0.4},\n",
        "  {'q': 0.6},\n",
        "  {'q': 0.7},\n",
        "  {'q': 0.8},\n",
        "  {'q': 0.9}],\n",
        "\n",
        " 'spkt_welch_density': [{'coeff': 2}, {'coeff': 5}, {'coeff': 8}],\n",
        " 'ar_coefficient': [{'coeff': 0, 'k': 10},\n",
        "  {'coeff': 1, 'k': 10},\n",
        "  {'coeff': 2, 'k': 10},\n",
        "  {'coeff': 3, 'k': 10},\n",
        "  {'coeff': 4, 'k': 10}],\n",
        "\n",
        " 'energy_ratio_by_chunks': [{'num_segments': 10, 'segment_focus': 0},\n",
        "  {'num_segments': 10, 'segment_focus': 1},\n",
        "  {'num_segments': 10, 'segment_focus': 2},\n",
        "  {'num_segments': 10, 'segment_focus': 3},\n",
        "  {'num_segments': 10, 'segment_focus': 4},\n",
        "  {'num_segments': 10, 'segment_focus': 5},\n",
        "  {'num_segments': 10, 'segment_focus': 6},\n",
        "  {'num_segments': 10, 'segment_focus': 7},\n",
        "  {'num_segments': 10, 'segment_focus': 8},\n",
        "  {'num_segments': 10, 'segment_focus': 9}],\n",
        " 'ratio_beyond_r_sigma': [{'r': 0.5},\n",
        "  {'r': 1},\n",
        "  {'r': 1.5},\n",
        "  {'r': 2},\n",
        "  {'r': 2.5},\n",
        "  {'r': 3},\n",
        "  {'r': 5},\n",
        "  {'r': 6},\n",
        "  {'r': 7},\n",
        "  {'r': 10}],\n",
        "'max_langevin_fixed_point': [{'m': 3, 'r': 30}],\n",
        "\n",
        "}\n",
        "peak={\n",
        "'number_peaks': [{'n': 1}, \n",
        "                  {'n': 3}, \n",
        "                  {'n': 5}, \n",
        "                  {'n': 10}]}"
      ],
      "execution_count": 0,
      "outputs": []
    },
    {
      "cell_type": "markdown",
      "metadata": {
        "id": "9B3MvUY16ZG-",
        "colab_type": "text"
      },
      "source": [
        "## Comp. Analysis"
      ]
    },
    {
      "cell_type": "code",
      "metadata": {
        "id": "3HSTA2yB6I3d",
        "colab_type": "code",
        "outputId": "1e803ade-4e8f-4081-db33-803f22eab621",
        "colab": {
          "base_uri": "https://localhost:8080/",
          "height": 141
        }
      },
      "source": [
        "train_t = train[:150000]\n",
        "train_t = pd.concat([pd.DataFrame({'id': np.ones(train_t.shape[0])}, dtype=np.int16),\n",
        "                     pd.DataFrame({'time': range(train_t.shape[0])}, dtype=np.int32),\n",
        "                     train_t.iloc[:,0]],axis=1)\n",
        "\n",
        "print(train_t.shape)\n",
        "print(train_t.head())"
      ],
      "execution_count": 0,
      "outputs": [
        {
          "output_type": "stream",
          "text": [
            "(4194, 508)\n",
            "   id  time  acoustic_data__number_peaks__n_1\n",
            "0   1     0                               NaN\n",
            "1   1     1                               NaN\n",
            "2   1     2                               NaN\n",
            "3   1     3                               NaN\n",
            "4   1     4                               NaN\n"
          ],
          "name": "stdout"
        }
      ]
    },
    {
      "cell_type": "code",
      "metadata": {
        "id": "KgXxQxLn62IA",
        "colab_type": "code",
        "colab": {}
      },
      "source": [
        "res  = pd.DataFrame()\n",
        "n_ts = 20\n",
        "l_ts = 1000\n",
        "n_ti = 3\n",
        "\n",
        "def tsfresh_time(sett):\n",
        "  for f, param in tqdm_notebook(sett.items()):\n",
        "    res.loc[f, \"feature\"] = f\n",
        "    res.loc[f, \"n_samp\"] = n_ts\n",
        "    res.loc[f, \"length\"] = l_ts\n",
        "\n",
        "    fc_dict = {f:param}\n",
        "\n",
        "    t = timeit.timeit(lambda : extract_features(train_t, \n",
        "                     column_id='id',\n",
        "                     column_sort='time',\n",
        "                     column_value=\"acoustic_data\",\n",
        "                     n_jobs=1, \n",
        "                     default_fc_parameters=fc_dict, \n",
        "                     disable_progressbar=True), \n",
        "                      number=n_ti)\n",
        "    n_fs = 1\n",
        "    res.loc[f, \"n_fs\"] = n_fs\n",
        "    res.loc[f, \"t_abs\"] = t * 1.0/n_fs\n",
        "    res.loc[f, \"t_1ts\"] = t*1.0/(n_ts*n_fs)\n",
        "  return res"
      ],
      "execution_count": 0,
      "outputs": []
    },
    {
      "cell_type": "code",
      "metadata": {
        "id": "q3KkbZU57Bri",
        "colab_type": "code",
        "colab": {}
      },
      "source": [
        "res = pd.DataFrame()\n",
        "res = tsfresh_time(settings)\n",
        "res[\"feature\"] = res.feature.astype(str)\n",
        "res = res.sort_values(by=\"feature\")\n",
        "\n",
        "plt.figure(figsize=(6, 20))\n",
        "sns.barplot(y=\"feature\", x=\"t_abs\", data=res)\n",
        "plt.title(\"Runtime of 1 apply features for 1 time series of length 15000\")\n",
        "plt.show()"
      ],
      "execution_count": 0,
      "outputs": []
    },
    {
      "cell_type": "markdown",
      "metadata": {
        "id": "fENrRlEwAOP7",
        "colab_type": "text"
      },
      "source": [
        "## Create derived features"
      ]
    },
    {
      "cell_type": "code",
      "metadata": {
        "id": "-1xNIRW8Agxr",
        "colab_type": "code",
        "colab": {}
      },
      "source": [
        "def ts_features(train1,settings):\n",
        "  X = extract_features(train1, column_id='id', column_sort='time', \n",
        "                       column_value=\"acoustic_data\", \n",
        "                       default_fc_parameters=settings,\n",
        "                       n_jobs = 0,\n",
        "#                        impute_function = impute,\n",
        "                       disable_progressbar=True,\n",
        "                       show_warnings=True)\n",
        "  return X"
      ],
      "execution_count": 0,
      "outputs": []
    },
    {
      "cell_type": "code",
      "metadata": {
        "id": "bjaUYI0m6j_X",
        "colab_type": "code",
        "colab": {}
      },
      "source": [
        "train_path = '/content/train.csv'\n",
        "n = 150000\n",
        "\n",
        "parts_n = 4\n",
        "parts_seg = n//parts_n\n",
        "\n",
        "len_df = 629145480  # sum(1 for line in open(train_path))-1\n",
        "segments = ((len_df + n - 1)//n)-1\n",
        "\n",
        "ids = pd.DataFrame({'id': np.ones(n)}, dtype=np.int16)\n",
        "times = pd.DataFrame({'time': range(n)}, dtype=np.int32)\n",
        "\n",
        "y_tr = pd.DataFrame(index=range(segments), dtype=np.float64,\n",
        "                    columns=['time_to_failure'])\n",
        "\n",
        "x_processed = pd.DataFrame()\n",
        "for chunk in tqdm_notebook(pd.read_csv(train_path, chunksize=n),\n",
        "                           total=segments):\n",
        "  \n",
        "  p_placehold = pd.DataFrame()\n",
        "  \n",
        "  train_placehold = pd.concat([ids,\n",
        "                               times,\n",
        "                               chunk.reset_index(drop=True)],\n",
        "                              axis=1)\n",
        "  \n",
        "  y = chunk['time_to_failure'].values[-1]  # TODO explore\n",
        "  y_tr.loc[i, 'time_to_failure'] = y\n",
        "  \n",
        "  x_features = ts_features(train_placehold, y)  # Features in whole segment\n",
        "  \n",
        "  for j in range(parts_n):  # Features in quarters\n",
        "      \n",
        "      p_features = ts_features(train_placehold[j*parts_seg : (j+1)*parts_seg],\n",
        "                               settings).add_prefix('q_'+str(j))\n",
        "      \n",
        "      p_placehold = pd.concat([p_placehold, p_features], axis = 1)\n",
        "      \n",
        "  x_processed = x_processed.append(pd.concat([x_features, p_placehold], \n",
        "                                             axis=1))\n",
        "#   print(x_processed.head())"
      ],
      "execution_count": 0,
      "outputs": []
    },
    {
      "cell_type": "code",
      "metadata": {
        "id": "HJqINmZZGrMV",
        "colab_type": "code",
        "colab": {}
      },
      "source": [
        "train_path = '/content/train.csv'\n",
        "n = 150000\n",
        "\n",
        "parts_n = 4\n",
        "parts_seg = n//parts_n\n",
        "\n",
        "len_df = 629145480  # sum(1 for line in open(train_path))-1\n",
        "segments = ((len_df + n - 1)//n)-1\n",
        "\n",
        "ids = pd.DataFrame({'id': np.ones(n)}, dtype=np.int16)\n",
        "times = pd.DataFrame({'time': range(n)}, dtype=np.int32)\n",
        "\n",
        "\n",
        "for chunk in tqdm_notebook(pd.read_csv(train_path, chunksize=n),\n",
        "                           total=segments):\n",
        "  \n",
        "\n",
        "  train_placehold = pd.concat([ids,\n",
        "                               times,\n",
        "                               chunk.reset_index(drop=True)],\n",
        "                              axis=1)\n",
        "  \n",
        "  x = train_placehold[['id','time','acoustic_data']]\n",
        "  \n",
        "  y = train_placehold['time_to_failure']\n",
        "  y.index = np.ones(n)\n",
        "  \n",
        "  x_feat = extract_relevant_features(x, y, column_id='id',\n",
        "                                     column_sort='time', \n",
        "                                     column_value='acoustic_data', \n",
        "                                     default_fc_parameters=EfficientFCParameters(),\n",
        "                                     n_jobs = 0,\n",
        "#                                      chunksize = 0, \n",
        "                                     disable_progressbar=True,\n",
        "                                     show_warnings=True)\n",
        "  break\n"
      ],
      "execution_count": 0,
      "outputs": []
    },
    {
      "cell_type": "code",
      "metadata": {
        "id": "9X_VI4D0BNsE",
        "colab_type": "code",
        "colab": {}
      },
      "source": [
        "y.head()"
      ],
      "execution_count": 0,
      "outputs": []
    },
    {
      "cell_type": "code",
      "metadata": {
        "id": "qxO1RnL69tPW",
        "colab_type": "code",
        "outputId": "61abdd60-c981-4919-addf-81fbac954fa6",
        "colab": {
          "base_uri": "https://localhost:8080/",
          "height": 34
        }
      },
      "source": [
        "chunk['time_to_failure'].values[-1]"
      ],
      "execution_count": 0,
      "outputs": [
        {
          "output_type": "execute_result",
          "data": {
            "text/plain": [
              "9.7597955148"
            ]
          },
          "metadata": {
            "tags": []
          },
          "execution_count": 36
        }
      ]
    },
    {
      "cell_type": "code",
      "metadata": {
        "id": "zLU5D_oSH3yG",
        "colab_type": "code",
        "colab": {}
      },
      "source": [
        "X_filtered = x_processed.reset_index().drop(['id'], axis=1)\n",
        "\n",
        "print(X_filtered.shape)\n",
        "print(y_tr.shape)\n",
        "# del train"
      ],
      "execution_count": 0,
      "outputs": []
    },
    {
      "cell_type": "markdown",
      "metadata": {
        "id": "WoJkuRUpIZXz",
        "colab_type": "text"
      },
      "source": [
        "### Feature Extraction for submission"
      ]
    },
    {
      "cell_type": "code",
      "metadata": {
        "id": "72rAe6GRIV96",
        "colab_type": "code",
        "outputId": "5951e1d0-929d-4d1e-9d66-ce01efa3b85a",
        "colab": {
          "resources": {
            "http://localhost:8080/nbextensions/google.colab/colabwidgets/controls.css": {
              "data": "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",
              "ok": true,
              "headers": [
                [
                  "content-type",
                  "text/css"
                ]
              ],
              "status": 200,
              "status_text": ""
            }
          },
          "base_uri": "https://localhost:8080/",
          "height": 17
        }
      },
      "source": [
        "submission = pd.read_csv('sample_submission.csv', index_col='seg_id')\n",
        "\n",
        "X_testfresh = pd.DataFrame()\n",
        "# Load each test data, create the feature matrix, get numeric prediction\n",
        "for i in tqdm_notebook(range(len(submission))): \n",
        "#   print(i)\n",
        "  X1 = pd.DataFrame()\n",
        "  ids = pd.DataFrame({'id': [submission.index[i] for number in range(n)]}, dtype=np.int16)\n",
        "  seg = pd.read_csv(submission.index[i] + '.csv' )\n",
        "  x = seg['acoustic_data']\n",
        "  test=pd.concat([ids,times,x],axis=1)\n",
        "\n",
        "#   Features in whole segment\n",
        "  X2=ts_features(test,peak)\n",
        "#   Features per section 5x30000\n",
        "  for j in range(4):\n",
        "      X=ts_features(test[j * parts:(j + 1) *parts],settings).add_prefix('q_' +str(j))\n",
        "      X1=pd.concat([X1,X], axis=1)\n",
        "      \n",
        "#   print(X1.shape)\n",
        "  X_testfresh = X_testfresh.append(pd.concat([X1,X2], axis=1))\n",
        "  "
      ],
      "execution_count": 0,
      "outputs": [
        {
          "output_type": "display_data",
          "data": {
            "application/vnd.jupyter.widget-view+json": {
              "model_id": "de2856d8aa334cc89854f0a82523e409",
              "version_minor": 0,
              "version_major": 2
            },
            "text/plain": [
              "HBox(children=(IntProgress(value=0, max=2624), HTML(value='')))"
            ]
          },
          "metadata": {
            "tags": []
          }
        }
      ]
    },
    {
      "cell_type": "markdown",
      "metadata": {
        "id": "-VLvQuky0CDH",
        "colab_type": "text"
      },
      "source": [
        "## Save/Load Data"
      ]
    },
    {
      "cell_type": "code",
      "metadata": {
        "id": "LustK-9ETJA7",
        "colab_type": "code",
        "colab": {}
      },
      "source": [
        "# X_filtered.to_csv('X_filtered.csv', index=False)\n",
        "# X_testfresh.to_csv('X_testfresh.csv', index=False)\n",
        "# y_tr.to_csv('y_tr.csv', index=False)\n",
        "\n",
        "X_filtered.head()"
      ],
      "execution_count": 0,
      "outputs": []
    },
    {
      "cell_type": "code",
      "metadata": {
        "id": "JIHhtm_0W2gq",
        "colab_type": "code",
        "outputId": "197d9d3f-6e8d-4d78-ae4a-41b929c877da",
        "colab": {
          "base_uri": "https://localhost:8080/",
          "height": 34
        }
      },
      "source": [
        "# X_filtered_loaded = pd.read_csv('X_filtered.csv')\n",
        "X_testfresh_loaded = pd.read_csv('X_testfresh.csv', index_col='id')\n",
        "# y_tr_loaded = pd.read_csv('y_tr.csv')\n",
        "\n",
        "# print(X_filtered_loaded.shape)\n",
        "print(X_testfresh_loaded.shape)\n",
        "# print(y_tr_loaded.shape)"
      ],
      "execution_count": 0,
      "outputs": [
        {
          "output_type": "stream",
          "text": [
            "(2624, 520)\n"
          ],
          "name": "stdout"
        }
      ]
    },
    {
      "cell_type": "code",
      "metadata": {
        "id": "HPAr3Cg4Shqj",
        "colab_type": "code",
        "colab": {}
      },
      "source": [
        "# X_filteredd = X_filtered_loaded \n",
        "X_testfresh = X_testfresh_loaded\n",
        "# y_tr = y_tr_loaded"
      ],
      "execution_count": 0,
      "outputs": []
    },
    {
      "cell_type": "code",
      "metadata": {
        "id": "aZCbGYdxOboa",
        "colab_type": "code",
        "colab": {}
      },
      "source": [
        "X_testfresh.head()"
      ],
      "execution_count": 0,
      "outputs": []
    },
    {
      "cell_type": "markdown",
      "metadata": {
        "id": "RFTMmijUP7HB",
        "colab_type": "text"
      },
      "source": [
        "### Filtering Data to remove repeating values as well as N/A values."
      ]
    },
    {
      "cell_type": "code",
      "metadata": {
        "id": "2F4b4KaNPo9S",
        "colab_type": "code",
        "colab": {}
      },
      "source": [
        "dfb=X_filtered.reset_index(drop=True).append(X_testfresh)\n",
        "dfb.to_csv('unfiltered.csv',index=False)\n",
        "print(dfb.shape)\n",
        "dfb=dfb.dropna(axis='rows')\n",
        "dfb=dfb.loc[:, (dfb != dfb.iloc[0]).any()] \n",
        "print(dfb.shape)\n",
        "dfb.head()"
      ],
      "execution_count": 0,
      "outputs": []
    },
    {
      "cell_type": "code",
      "metadata": {
        "id": "PUuEMBmhT4aO",
        "colab_type": "code",
        "colab": {}
      },
      "source": [
        "df=pd.concat([y_tr,dfb[:X_filtered.shape[0]]], axis=1)\n",
        "df.to_csv('tsfreshFeaturestrain.csv',index=False)\n",
        "test=dfb[-X_testfresh.shape[0]:]\n",
        "test.to_csv('tsfreshFeaturestest.csv',index=False)\n",
        "\n",
        "X=df[df.columns.difference(['time_to_failure'])]\n",
        "y=df['time_to_failure']\n",
        "\n",
        "#Scaling train and test features at the same time\n",
        "scaler=MinMaxScaler(feature_range=(0, 1))\n",
        "scaled=scaler.fit_transform(X.append(test))\n",
        "\n",
        "train=pd.DataFrame(scaled[:X.shape[0]], columns=X.columns.values)\n",
        "test=pd.DataFrame(scaled[-test.shape[0]:], columns=X.columns.values)"
      ],
      "execution_count": 0,
      "outputs": []
    },
    {
      "cell_type": "code",
      "metadata": {
        "id": "RzkGHwHPUdsb",
        "colab_type": "code",
        "colab": {}
      },
      "source": [
        "# train_shuffled = train.sample(frac=1)\n",
        "trainX, testX, trainy, testy = train_test_split(train, y, test_size=0.01, shuffle=True)"
      ],
      "execution_count": 0,
      "outputs": []
    },
    {
      "cell_type": "markdown",
      "metadata": {
        "id": "TmfZ1DjsWFwp",
        "colab_type": "text"
      },
      "source": [
        "## Regression with GBM and LightGBM"
      ]
    },
    {
      "cell_type": "markdown",
      "metadata": {
        "id": "nS-Ki0hpaI14",
        "colab_type": "text"
      },
      "source": [
        "### GBM"
      ]
    },
    {
      "cell_type": "markdown",
      "metadata": {
        "id": "KRDa_SO79bRl",
        "colab_type": "text"
      },
      "source": [
        ""
      ]
    },
    {
      "cell_type": "code",
      "metadata": {
        "id": "BAAUUTrO9bkG",
        "colab_type": "code",
        "outputId": "1260085e-13a6-4de6-baaf-bec7bdb43b10",
        "colab": {
          "base_uri": "https://localhost:8080/",
          "height": 34
        }
      },
      "source": [
        "# np.any(np.isnan(trainy))\n",
        "np.all(np.isfinite(trainX))"
      ],
      "execution_count": 0,
      "outputs": [
        {
          "output_type": "execute_result",
          "data": {
            "text/plain": [
              "True"
            ]
          },
          "metadata": {
            "tags": []
          },
          "execution_count": 38
        }
      ]
    },
    {
      "cell_type": "code",
      "metadata": {
        "id": "GZj4q1C1WFBz",
        "colab_type": "code",
        "outputId": "ca907699-b63e-483a-d303-ab711180cbf8",
        "colab": {
          "base_uri": "https://localhost:8080/",
          "height": 852
        }
      },
      "source": [
        "%%time\n",
        "model = GradientBoostingRegressor(learning_rate=0.009, loss='huber',\n",
        "                                  max_depth=5,max_features=150,n_estimators=650)\n",
        "num_folds = 5\n",
        "cross_validate_results = cross_validate(model, trainX, trainy, n_jobs=-1,\n",
        "                                        return_estimator= True,\n",
        "                                        return_train_score=True, cv=num_folds,\n",
        "                                        scoring=\"neg_mean_absolute_error\" )\n",
        "\n",
        "for i in range(num_folds):\n",
        "    print(\"Fold: {} Training MAE: {}\".format(i,-cross_validate_results['train_score'][i]))\n",
        "    print(\"Fold: {} Validation MAE: {}\".format(i,-cross_validate_results['test_score'][i]))\n",
        "print(-cross_validate_results['train_score'].mean(), cross_validate_results['train_score'].std())\n",
        "print(-cross_validate_results['test_score'].mean(), cross_validate_results['test_score'].std())\n",
        "\n",
        "model.fit(trainX, trainy)\n",
        "data=pd.concat([pd.DataFrame(X.columns.values,columns={'Features'}),\n",
        "           pd.DataFrame(model.feature_importances_,columns={'Importance'})*100],\n",
        "               axis=1).sort_values(by='Importance', ascending=False)\n",
        "\n",
        "data.to_csv('FeaturesImportance.csv', index=False)\n",
        "\n",
        "plt.figure(figsize=(6, 20))\n",
        "sns.barplot(y=\"Features\", x=\"Importance\", data=data[:150])\n",
        "plt.title(\"Features\")\n",
        "plt.show()"
      ],
      "execution_count": 0,
      "outputs": [
        {
          "output_type": "error",
          "ename": "ValueError",
          "evalue": "ignored",
          "traceback": [
            "\u001b[0;31m---------------------------------------------------------------------------\u001b[0m",
            "\u001b[0;31m_RemoteTraceback\u001b[0m                          Traceback (most recent call last)",
            "\u001b[0;31m_RemoteTraceback\u001b[0m: \n\"\"\"\nTraceback (most recent call last):\n  File \"/usr/local/lib/python3.6/dist-packages/joblib/externals/loky/process_executor.py\", line 420, in _process_worker\n    r = call_item.fn(*call_item.args, **call_item.kwargs)\n  File \"/usr/local/lib/python3.6/dist-packages/joblib/_parallel_backends.py\", line 563, in __call__\n    return self.func(*args, **kwargs)\n  File \"/usr/local/lib/python3.6/dist-packages/joblib/parallel.py\", line 261, in __call__\n    for func, args, kwargs in self.items]\n  File \"/usr/local/lib/python3.6/dist-packages/joblib/parallel.py\", line 261, in <listcomp>\n    for func, args, kwargs in self.items]\n  File \"/usr/local/lib/python3.6/dist-packages/sklearn/model_selection/_validation.py\", line 514, in _fit_and_score\n    estimator.fit(X_train, y_train, **fit_params)\n  File \"/usr/local/lib/python3.6/dist-packages/sklearn/ensemble/gradient_boosting.py\", line 1437, in fit\n    X = check_array(X, accept_sparse=['csr', 'csc', 'coo'], dtype=DTYPE)\n  File \"/usr/local/lib/python3.6/dist-packages/sklearn/utils/validation.py\", line 542, in check_array\n    allow_nan=force_all_finite == 'allow-nan')\n  File \"/usr/local/lib/python3.6/dist-packages/sklearn/utils/validation.py\", line 56, in _assert_all_finite\n    raise ValueError(msg_err.format(type_err, X.dtype))\nValueError: Input contains NaN, infinity or a value too large for dtype('float32').\n\"\"\"",
            "\nThe above exception was the direct cause of the following exception:\n",
            "\u001b[0;31mValueError\u001b[0m                                Traceback (most recent call last)",
            "\u001b[0;32m<ipython-input-64-6c87883f4d50>\u001b[0m in \u001b[0;36m<module>\u001b[0;34m()\u001b[0m\n\u001b[0;32m----> 1\u001b[0;31m \u001b[0mget_ipython\u001b[0m\u001b[0;34m(\u001b[0m\u001b[0;34m)\u001b[0m\u001b[0;34m.\u001b[0m\u001b[0mrun_cell_magic\u001b[0m\u001b[0;34m(\u001b[0m\u001b[0;34m'time'\u001b[0m\u001b[0;34m,\u001b[0m \u001b[0;34m''\u001b[0m\u001b[0;34m,\u001b[0m \u001b[0;34m'model = GradientBoostingRegressor(learning_rate=0.009, loss=\\'huber\\',\\n                                  max_depth=5,max_features=150,n_estimators=650)\\nnum_folds = 5\\ncross_validate_results = cross_validate(model, trainX, trainy, n_jobs=-1,\\n                                        return_estimator= True,\\n                                        return_train_score=True, cv=num_folds,\\n                                        scoring=\"neg_mean_absolute_error\" )\\n\\nfor i in range(num_folds):\\n    print(\"Fold: {} Training MAE: {}\".format(i,-cross_validate_results[\\'train_score\\'][i]))\\n    print(\"Fold: {} Validation MAE: {}\".format(i,-cross_validate_results[\\'test_score\\'][i]))\\nprint(-cross_validate_results[\\'train_score\\'].mean(), cross_validate_results[\\'train_score\\'].std())\\nprint(-cross_validate_results[\\'test_score\\'].mean(), cross_validate_results[\\'test_score\\'].std())\\n\\nmodel.fit(trainX, trainy)\\ndata=pd.concat([pd.DataFrame(X.columns.values,columns={\\'Features\\'}),\\n           pd.DataFrame(model.feature_importances_,columns={\\'Importance\\'})*100],\\n               axis=1).sort_values(by=\\'Importance\\', ascending=False)\\n\\ndata.to_csv(\\'FeaturesImportance.csv\\', index=False)\\n\\nplt.figure(figsize=(6, 20))\\nsns.barplot(y=\"Features\", x=\"Importance\", data=data[:150])\\nplt.title(\"Features\")\\nplt.sh...\n\u001b[0m",
            "\u001b[0;32m/usr/local/lib/python3.6/dist-packages/IPython/core/interactiveshell.py\u001b[0m in \u001b[0;36mrun_cell_magic\u001b[0;34m(self, magic_name, line, cell)\u001b[0m\n\u001b[1;32m   2115\u001b[0m             \u001b[0mmagic_arg_s\u001b[0m \u001b[0;34m=\u001b[0m \u001b[0mself\u001b[0m\u001b[0;34m.\u001b[0m\u001b[0mvar_expand\u001b[0m\u001b[0;34m(\u001b[0m\u001b[0mline\u001b[0m\u001b[0;34m,\u001b[0m \u001b[0mstack_depth\u001b[0m\u001b[0;34m)\u001b[0m\u001b[0;34m\u001b[0m\u001b[0;34m\u001b[0m\u001b[0m\n\u001b[1;32m   2116\u001b[0m             \u001b[0;32mwith\u001b[0m \u001b[0mself\u001b[0m\u001b[0;34m.\u001b[0m\u001b[0mbuiltin_trap\u001b[0m\u001b[0;34m:\u001b[0m\u001b[0;34m\u001b[0m\u001b[0;34m\u001b[0m\u001b[0m\n\u001b[0;32m-> 2117\u001b[0;31m                 \u001b[0mresult\u001b[0m \u001b[0;34m=\u001b[0m \u001b[0mfn\u001b[0m\u001b[0;34m(\u001b[0m\u001b[0mmagic_arg_s\u001b[0m\u001b[0;34m,\u001b[0m \u001b[0mcell\u001b[0m\u001b[0;34m)\u001b[0m\u001b[0;34m\u001b[0m\u001b[0;34m\u001b[0m\u001b[0m\n\u001b[0m\u001b[1;32m   2118\u001b[0m             \u001b[0;32mreturn\u001b[0m \u001b[0mresult\u001b[0m\u001b[0;34m\u001b[0m\u001b[0;34m\u001b[0m\u001b[0m\n\u001b[1;32m   2119\u001b[0m \u001b[0;34m\u001b[0m\u001b[0m\n",
            "\u001b[0;32m</usr/local/lib/python3.6/dist-packages/decorator.py:decorator-gen-60>\u001b[0m in \u001b[0;36mtime\u001b[0;34m(self, line, cell, local_ns)\u001b[0m\n",
            "\u001b[0;32m/usr/local/lib/python3.6/dist-packages/IPython/core/magic.py\u001b[0m in \u001b[0;36m<lambda>\u001b[0;34m(f, *a, **k)\u001b[0m\n\u001b[1;32m    186\u001b[0m     \u001b[0;31m# but it's overkill for just that one bit of state.\u001b[0m\u001b[0;34m\u001b[0m\u001b[0;34m\u001b[0m\u001b[0;34m\u001b[0m\u001b[0m\n\u001b[1;32m    187\u001b[0m     \u001b[0;32mdef\u001b[0m \u001b[0mmagic_deco\u001b[0m\u001b[0;34m(\u001b[0m\u001b[0marg\u001b[0m\u001b[0;34m)\u001b[0m\u001b[0;34m:\u001b[0m\u001b[0;34m\u001b[0m\u001b[0;34m\u001b[0m\u001b[0m\n\u001b[0;32m--> 188\u001b[0;31m         \u001b[0mcall\u001b[0m \u001b[0;34m=\u001b[0m \u001b[0;32mlambda\u001b[0m \u001b[0mf\u001b[0m\u001b[0;34m,\u001b[0m \u001b[0;34m*\u001b[0m\u001b[0ma\u001b[0m\u001b[0;34m,\u001b[0m \u001b[0;34m**\u001b[0m\u001b[0mk\u001b[0m\u001b[0;34m:\u001b[0m \u001b[0mf\u001b[0m\u001b[0;34m(\u001b[0m\u001b[0;34m*\u001b[0m\u001b[0ma\u001b[0m\u001b[0;34m,\u001b[0m \u001b[0;34m**\u001b[0m\u001b[0mk\u001b[0m\u001b[0;34m)\u001b[0m\u001b[0;34m\u001b[0m\u001b[0;34m\u001b[0m\u001b[0m\n\u001b[0m\u001b[1;32m    189\u001b[0m \u001b[0;34m\u001b[0m\u001b[0m\n\u001b[1;32m    190\u001b[0m         \u001b[0;32mif\u001b[0m \u001b[0mcallable\u001b[0m\u001b[0;34m(\u001b[0m\u001b[0marg\u001b[0m\u001b[0;34m)\u001b[0m\u001b[0;34m:\u001b[0m\u001b[0;34m\u001b[0m\u001b[0;34m\u001b[0m\u001b[0m\n",
            "\u001b[0;32m/usr/local/lib/python3.6/dist-packages/IPython/core/magics/execution.py\u001b[0m in \u001b[0;36mtime\u001b[0;34m(self, line, cell, local_ns)\u001b[0m\n\u001b[1;32m   1191\u001b[0m         \u001b[0;32melse\u001b[0m\u001b[0;34m:\u001b[0m\u001b[0;34m\u001b[0m\u001b[0;34m\u001b[0m\u001b[0m\n\u001b[1;32m   1192\u001b[0m             \u001b[0mst\u001b[0m \u001b[0;34m=\u001b[0m \u001b[0mclock2\u001b[0m\u001b[0;34m(\u001b[0m\u001b[0;34m)\u001b[0m\u001b[0;34m\u001b[0m\u001b[0;34m\u001b[0m\u001b[0m\n\u001b[0;32m-> 1193\u001b[0;31m             \u001b[0mexec\u001b[0m\u001b[0;34m(\u001b[0m\u001b[0mcode\u001b[0m\u001b[0;34m,\u001b[0m \u001b[0mglob\u001b[0m\u001b[0;34m,\u001b[0m \u001b[0mlocal_ns\u001b[0m\u001b[0;34m)\u001b[0m\u001b[0;34m\u001b[0m\u001b[0;34m\u001b[0m\u001b[0m\n\u001b[0m\u001b[1;32m   1194\u001b[0m             \u001b[0mend\u001b[0m \u001b[0;34m=\u001b[0m \u001b[0mclock2\u001b[0m\u001b[0;34m(\u001b[0m\u001b[0;34m)\u001b[0m\u001b[0;34m\u001b[0m\u001b[0;34m\u001b[0m\u001b[0m\n\u001b[1;32m   1195\u001b[0m             \u001b[0mout\u001b[0m \u001b[0;34m=\u001b[0m \u001b[0;32mNone\u001b[0m\u001b[0;34m\u001b[0m\u001b[0;34m\u001b[0m\u001b[0m\n",
            "\u001b[0;32m<timed exec>\u001b[0m in \u001b[0;36m<module>\u001b[0;34m()\u001b[0m\n",
            "\u001b[0;32m/usr/local/lib/python3.6/dist-packages/sklearn/model_selection/_validation.py\u001b[0m in \u001b[0;36mcross_validate\u001b[0;34m(estimator, X, y, groups, scoring, cv, n_jobs, verbose, fit_params, pre_dispatch, return_train_score, return_estimator, error_score)\u001b[0m\n\u001b[1;32m    229\u001b[0m             \u001b[0mreturn_times\u001b[0m\u001b[0;34m=\u001b[0m\u001b[0;32mTrue\u001b[0m\u001b[0;34m,\u001b[0m \u001b[0mreturn_estimator\u001b[0m\u001b[0;34m=\u001b[0m\u001b[0mreturn_estimator\u001b[0m\u001b[0;34m,\u001b[0m\u001b[0;34m\u001b[0m\u001b[0;34m\u001b[0m\u001b[0m\n\u001b[1;32m    230\u001b[0m             error_score=error_score)\n\u001b[0;32m--> 231\u001b[0;31m         for train, test in cv.split(X, y, groups))\n\u001b[0m\u001b[1;32m    232\u001b[0m \u001b[0;34m\u001b[0m\u001b[0m\n\u001b[1;32m    233\u001b[0m     \u001b[0mzipped_scores\u001b[0m \u001b[0;34m=\u001b[0m \u001b[0mlist\u001b[0m\u001b[0;34m(\u001b[0m\u001b[0mzip\u001b[0m\u001b[0;34m(\u001b[0m\u001b[0;34m*\u001b[0m\u001b[0mscores\u001b[0m\u001b[0;34m)\u001b[0m\u001b[0;34m)\u001b[0m\u001b[0;34m\u001b[0m\u001b[0;34m\u001b[0m\u001b[0m\n",
            "\u001b[0;32m/usr/local/lib/python3.6/dist-packages/joblib/parallel.py\u001b[0m in \u001b[0;36m__call__\u001b[0;34m(self, iterable)\u001b[0m\n\u001b[1;32m    994\u001b[0m \u001b[0;34m\u001b[0m\u001b[0m\n\u001b[1;32m    995\u001b[0m             \u001b[0;32mwith\u001b[0m \u001b[0mself\u001b[0m\u001b[0;34m.\u001b[0m\u001b[0m_backend\u001b[0m\u001b[0;34m.\u001b[0m\u001b[0mretrieval_context\u001b[0m\u001b[0;34m(\u001b[0m\u001b[0;34m)\u001b[0m\u001b[0;34m:\u001b[0m\u001b[0;34m\u001b[0m\u001b[0;34m\u001b[0m\u001b[0m\n\u001b[0;32m--> 996\u001b[0;31m                 \u001b[0mself\u001b[0m\u001b[0;34m.\u001b[0m\u001b[0mretrieve\u001b[0m\u001b[0;34m(\u001b[0m\u001b[0;34m)\u001b[0m\u001b[0;34m\u001b[0m\u001b[0;34m\u001b[0m\u001b[0m\n\u001b[0m\u001b[1;32m    997\u001b[0m             \u001b[0;31m# Make sure that we get a last message telling us we are done\u001b[0m\u001b[0;34m\u001b[0m\u001b[0;34m\u001b[0m\u001b[0;34m\u001b[0m\u001b[0m\n\u001b[1;32m    998\u001b[0m             \u001b[0melapsed_time\u001b[0m \u001b[0;34m=\u001b[0m \u001b[0mtime\u001b[0m\u001b[0;34m.\u001b[0m\u001b[0mtime\u001b[0m\u001b[0;34m(\u001b[0m\u001b[0;34m)\u001b[0m \u001b[0;34m-\u001b[0m \u001b[0mself\u001b[0m\u001b[0;34m.\u001b[0m\u001b[0m_start_time\u001b[0m\u001b[0;34m\u001b[0m\u001b[0;34m\u001b[0m\u001b[0m\n",
            "\u001b[0;32m/usr/local/lib/python3.6/dist-packages/joblib/parallel.py\u001b[0m in \u001b[0;36mretrieve\u001b[0;34m(self)\u001b[0m\n\u001b[1;32m    897\u001b[0m             \u001b[0;32mtry\u001b[0m\u001b[0;34m:\u001b[0m\u001b[0;34m\u001b[0m\u001b[0;34m\u001b[0m\u001b[0m\n\u001b[1;32m    898\u001b[0m                 \u001b[0;32mif\u001b[0m \u001b[0mgetattr\u001b[0m\u001b[0;34m(\u001b[0m\u001b[0mself\u001b[0m\u001b[0;34m.\u001b[0m\u001b[0m_backend\u001b[0m\u001b[0;34m,\u001b[0m \u001b[0;34m'supports_timeout'\u001b[0m\u001b[0;34m,\u001b[0m \u001b[0;32mFalse\u001b[0m\u001b[0;34m)\u001b[0m\u001b[0;34m:\u001b[0m\u001b[0;34m\u001b[0m\u001b[0;34m\u001b[0m\u001b[0m\n\u001b[0;32m--> 899\u001b[0;31m                     \u001b[0mself\u001b[0m\u001b[0;34m.\u001b[0m\u001b[0m_output\u001b[0m\u001b[0;34m.\u001b[0m\u001b[0mextend\u001b[0m\u001b[0;34m(\u001b[0m\u001b[0mjob\u001b[0m\u001b[0;34m.\u001b[0m\u001b[0mget\u001b[0m\u001b[0;34m(\u001b[0m\u001b[0mtimeout\u001b[0m\u001b[0;34m=\u001b[0m\u001b[0mself\u001b[0m\u001b[0;34m.\u001b[0m\u001b[0mtimeout\u001b[0m\u001b[0;34m)\u001b[0m\u001b[0;34m)\u001b[0m\u001b[0;34m\u001b[0m\u001b[0;34m\u001b[0m\u001b[0m\n\u001b[0m\u001b[1;32m    900\u001b[0m                 \u001b[0;32melse\u001b[0m\u001b[0;34m:\u001b[0m\u001b[0;34m\u001b[0m\u001b[0;34m\u001b[0m\u001b[0m\n\u001b[1;32m    901\u001b[0m                     \u001b[0mself\u001b[0m\u001b[0;34m.\u001b[0m\u001b[0m_output\u001b[0m\u001b[0;34m.\u001b[0m\u001b[0mextend\u001b[0m\u001b[0;34m(\u001b[0m\u001b[0mjob\u001b[0m\u001b[0;34m.\u001b[0m\u001b[0mget\u001b[0m\u001b[0;34m(\u001b[0m\u001b[0;34m)\u001b[0m\u001b[0;34m)\u001b[0m\u001b[0;34m\u001b[0m\u001b[0;34m\u001b[0m\u001b[0m\n",
            "\u001b[0;32m/usr/local/lib/python3.6/dist-packages/joblib/_parallel_backends.py\u001b[0m in \u001b[0;36mwrap_future_result\u001b[0;34m(future, timeout)\u001b[0m\n\u001b[1;32m    515\u001b[0m         AsyncResults.get from multiprocessing.\"\"\"\n\u001b[1;32m    516\u001b[0m         \u001b[0;32mtry\u001b[0m\u001b[0;34m:\u001b[0m\u001b[0;34m\u001b[0m\u001b[0;34m\u001b[0m\u001b[0m\n\u001b[0;32m--> 517\u001b[0;31m             \u001b[0;32mreturn\u001b[0m \u001b[0mfuture\u001b[0m\u001b[0;34m.\u001b[0m\u001b[0mresult\u001b[0m\u001b[0;34m(\u001b[0m\u001b[0mtimeout\u001b[0m\u001b[0;34m=\u001b[0m\u001b[0mtimeout\u001b[0m\u001b[0;34m)\u001b[0m\u001b[0;34m\u001b[0m\u001b[0;34m\u001b[0m\u001b[0m\n\u001b[0m\u001b[1;32m    518\u001b[0m         \u001b[0;32mexcept\u001b[0m \u001b[0mLokyTimeoutError\u001b[0m\u001b[0;34m:\u001b[0m\u001b[0;34m\u001b[0m\u001b[0;34m\u001b[0m\u001b[0m\n\u001b[1;32m    519\u001b[0m             \u001b[0;32mraise\u001b[0m \u001b[0mTimeoutError\u001b[0m\u001b[0;34m(\u001b[0m\u001b[0;34m)\u001b[0m\u001b[0;34m\u001b[0m\u001b[0;34m\u001b[0m\u001b[0m\n",
            "\u001b[0;32m/usr/lib/python3.6/concurrent/futures/_base.py\u001b[0m in \u001b[0;36mresult\u001b[0;34m(self, timeout)\u001b[0m\n\u001b[1;32m    430\u001b[0m                 \u001b[0;32mraise\u001b[0m \u001b[0mCancelledError\u001b[0m\u001b[0;34m(\u001b[0m\u001b[0;34m)\u001b[0m\u001b[0;34m\u001b[0m\u001b[0;34m\u001b[0m\u001b[0m\n\u001b[1;32m    431\u001b[0m             \u001b[0;32melif\u001b[0m \u001b[0mself\u001b[0m\u001b[0;34m.\u001b[0m\u001b[0m_state\u001b[0m \u001b[0;34m==\u001b[0m \u001b[0mFINISHED\u001b[0m\u001b[0;34m:\u001b[0m\u001b[0;34m\u001b[0m\u001b[0;34m\u001b[0m\u001b[0m\n\u001b[0;32m--> 432\u001b[0;31m                 \u001b[0;32mreturn\u001b[0m \u001b[0mself\u001b[0m\u001b[0;34m.\u001b[0m\u001b[0m__get_result\u001b[0m\u001b[0;34m(\u001b[0m\u001b[0;34m)\u001b[0m\u001b[0;34m\u001b[0m\u001b[0;34m\u001b[0m\u001b[0m\n\u001b[0m\u001b[1;32m    433\u001b[0m             \u001b[0;32melse\u001b[0m\u001b[0;34m:\u001b[0m\u001b[0;34m\u001b[0m\u001b[0;34m\u001b[0m\u001b[0m\n\u001b[1;32m    434\u001b[0m                 \u001b[0;32mraise\u001b[0m \u001b[0mTimeoutError\u001b[0m\u001b[0;34m(\u001b[0m\u001b[0;34m)\u001b[0m\u001b[0;34m\u001b[0m\u001b[0;34m\u001b[0m\u001b[0m\n",
            "\u001b[0;32m/usr/lib/python3.6/concurrent/futures/_base.py\u001b[0m in \u001b[0;36m__get_result\u001b[0;34m(self)\u001b[0m\n\u001b[1;32m    382\u001b[0m     \u001b[0;32mdef\u001b[0m \u001b[0m__get_result\u001b[0m\u001b[0;34m(\u001b[0m\u001b[0mself\u001b[0m\u001b[0;34m)\u001b[0m\u001b[0;34m:\u001b[0m\u001b[0;34m\u001b[0m\u001b[0;34m\u001b[0m\u001b[0m\n\u001b[1;32m    383\u001b[0m         \u001b[0;32mif\u001b[0m \u001b[0mself\u001b[0m\u001b[0;34m.\u001b[0m\u001b[0m_exception\u001b[0m\u001b[0;34m:\u001b[0m\u001b[0;34m\u001b[0m\u001b[0;34m\u001b[0m\u001b[0m\n\u001b[0;32m--> 384\u001b[0;31m             \u001b[0;32mraise\u001b[0m \u001b[0mself\u001b[0m\u001b[0;34m.\u001b[0m\u001b[0m_exception\u001b[0m\u001b[0;34m\u001b[0m\u001b[0;34m\u001b[0m\u001b[0m\n\u001b[0m\u001b[1;32m    385\u001b[0m         \u001b[0;32melse\u001b[0m\u001b[0;34m:\u001b[0m\u001b[0;34m\u001b[0m\u001b[0;34m\u001b[0m\u001b[0m\n\u001b[1;32m    386\u001b[0m             \u001b[0;32mreturn\u001b[0m \u001b[0mself\u001b[0m\u001b[0;34m.\u001b[0m\u001b[0m_result\u001b[0m\u001b[0;34m\u001b[0m\u001b[0;34m\u001b[0m\u001b[0m\n",
            "\u001b[0;31mValueError\u001b[0m: Input contains NaN, infinity or a value too large for dtype('float32')."
          ]
        }
      ]
    },
    {
      "cell_type": "code",
      "metadata": {
        "id": "mjb4CJqpYZJN",
        "colab_type": "code",
        "colab": {}
      },
      "source": [
        "data.head(20)"
      ],
      "execution_count": 0,
      "outputs": []
    },
    {
      "cell_type": "code",
      "metadata": {
        "id": "5Vp0-ZEeXP2W",
        "colab_type": "code",
        "outputId": "516e08c9-773d-4fa6-b357-e1583b269175",
        "colab": {
          "base_uri": "https://localhost:8080/",
          "height": 387
        }
      },
      "source": [
        "from sklearn.metrics import mean_absolute_error\n",
        "mae = np.array([])\n",
        "predictions1 = np.zeros(len(test))\n",
        "feature_importance_df = pd.DataFrame()\n",
        "#run model\n",
        "\n",
        "n_fold = 5\n",
        "folds = KFold(n_splits=n_fold, shuffle=True, random_state=42)\n",
        "train_columns = trainX.columns.values\n",
        "\n",
        "for fold_, (trn_idx, val_idx) in enumerate(folds.split(trainX,trainy.values)):\n",
        "    strLog = \"fold {}\".format(fold_)\n",
        "    \n",
        "    X_tr, X_val = trainX.iloc[trn_idx], trainX.iloc[val_idx]\n",
        "    y_tr, y_val = trainy.iloc[trn_idx], trainy.iloc[val_idx]\n",
        "\n",
        "    \n",
        "    model.fit(X_tr, y_tr)\n",
        "    \n",
        "    mae = np.append(mae, mean_absolute_error(y_val, model.predict(X_val)))\n",
        "    print(\"Fold: {} Validation MAE: {}\".format(strLog,mae[fold_]))\n",
        "  \n",
        "    #predictions\n",
        "    predictions1 += model.predict(test) / folds.n_splits\n",
        "np.mean(mae)"
      ],
      "execution_count": 0,
      "outputs": [
        {
          "output_type": "error",
          "ename": "ValueError",
          "evalue": "ignored",
          "traceback": [
            "\u001b[0;31m---------------------------------------------------------------------------\u001b[0m",
            "\u001b[0;31mValueError\u001b[0m                                Traceback (most recent call last)",
            "\u001b[0;32m<ipython-input-31-6563ecdd86a3>\u001b[0m in \u001b[0;36m<module>\u001b[0;34m()\u001b[0m\n\u001b[1;32m     18\u001b[0m     \u001b[0mmodel\u001b[0m\u001b[0;34m.\u001b[0m\u001b[0mfit\u001b[0m\u001b[0;34m(\u001b[0m\u001b[0mX_tr\u001b[0m\u001b[0;34m,\u001b[0m \u001b[0my_tr\u001b[0m\u001b[0;34m)\u001b[0m\u001b[0;34m\u001b[0m\u001b[0;34m\u001b[0m\u001b[0m\n\u001b[1;32m     19\u001b[0m \u001b[0;34m\u001b[0m\u001b[0m\n\u001b[0;32m---> 20\u001b[0;31m     \u001b[0mmae\u001b[0m \u001b[0;34m=\u001b[0m \u001b[0mnp\u001b[0m\u001b[0;34m.\u001b[0m\u001b[0mappend\u001b[0m\u001b[0;34m(\u001b[0m\u001b[0mmae\u001b[0m\u001b[0;34m,\u001b[0m \u001b[0mmean_absolute_error\u001b[0m\u001b[0;34m(\u001b[0m\u001b[0my_val\u001b[0m\u001b[0;34m,\u001b[0m \u001b[0mmodel\u001b[0m\u001b[0;34m.\u001b[0m\u001b[0mpredict\u001b[0m\u001b[0;34m(\u001b[0m\u001b[0mX_val\u001b[0m\u001b[0;34m)\u001b[0m\u001b[0;34m)\u001b[0m\u001b[0;34m)\u001b[0m\u001b[0;34m\u001b[0m\u001b[0;34m\u001b[0m\u001b[0m\n\u001b[0m\u001b[1;32m     21\u001b[0m     \u001b[0mprint\u001b[0m\u001b[0;34m(\u001b[0m\u001b[0;34m\"Fold: {} Validation MAE: {}\"\u001b[0m\u001b[0;34m.\u001b[0m\u001b[0mformat\u001b[0m\u001b[0;34m(\u001b[0m\u001b[0mstrLog\u001b[0m\u001b[0;34m,\u001b[0m\u001b[0mmae\u001b[0m\u001b[0;34m[\u001b[0m\u001b[0mfold_\u001b[0m\u001b[0;34m]\u001b[0m\u001b[0;34m)\u001b[0m\u001b[0;34m)\u001b[0m\u001b[0;34m\u001b[0m\u001b[0;34m\u001b[0m\u001b[0m\n\u001b[1;32m     22\u001b[0m \u001b[0;34m\u001b[0m\u001b[0m\n",
            "\u001b[0;32m/usr/local/lib/python3.6/dist-packages/sklearn/metrics/regression.py\u001b[0m in \u001b[0;36mmean_absolute_error\u001b[0;34m(y_true, y_pred, sample_weight, multioutput)\u001b[0m\n\u001b[1;32m    170\u001b[0m     \"\"\"\n\u001b[1;32m    171\u001b[0m     y_type, y_true, y_pred, multioutput = _check_reg_targets(\n\u001b[0;32m--> 172\u001b[0;31m         y_true, y_pred, multioutput)\n\u001b[0m\u001b[1;32m    173\u001b[0m     \u001b[0mcheck_consistent_length\u001b[0m\u001b[0;34m(\u001b[0m\u001b[0my_true\u001b[0m\u001b[0;34m,\u001b[0m \u001b[0my_pred\u001b[0m\u001b[0;34m,\u001b[0m \u001b[0msample_weight\u001b[0m\u001b[0;34m)\u001b[0m\u001b[0;34m\u001b[0m\u001b[0;34m\u001b[0m\u001b[0m\n\u001b[1;32m    174\u001b[0m     output_errors = np.average(np.abs(y_pred - y_true),\n",
            "\u001b[0;32m/usr/local/lib/python3.6/dist-packages/sklearn/metrics/regression.py\u001b[0m in \u001b[0;36m_check_reg_targets\u001b[0;34m(y_true, y_pred, multioutput)\u001b[0m\n\u001b[1;32m     76\u001b[0m     \"\"\"\n\u001b[1;32m     77\u001b[0m     \u001b[0mcheck_consistent_length\u001b[0m\u001b[0;34m(\u001b[0m\u001b[0my_true\u001b[0m\u001b[0;34m,\u001b[0m \u001b[0my_pred\u001b[0m\u001b[0;34m)\u001b[0m\u001b[0;34m\u001b[0m\u001b[0;34m\u001b[0m\u001b[0m\n\u001b[0;32m---> 78\u001b[0;31m     \u001b[0my_true\u001b[0m \u001b[0;34m=\u001b[0m \u001b[0mcheck_array\u001b[0m\u001b[0;34m(\u001b[0m\u001b[0my_true\u001b[0m\u001b[0;34m,\u001b[0m \u001b[0mensure_2d\u001b[0m\u001b[0;34m=\u001b[0m\u001b[0;32mFalse\u001b[0m\u001b[0;34m)\u001b[0m\u001b[0;34m\u001b[0m\u001b[0;34m\u001b[0m\u001b[0m\n\u001b[0m\u001b[1;32m     79\u001b[0m     \u001b[0my_pred\u001b[0m \u001b[0;34m=\u001b[0m \u001b[0mcheck_array\u001b[0m\u001b[0;34m(\u001b[0m\u001b[0my_pred\u001b[0m\u001b[0;34m,\u001b[0m \u001b[0mensure_2d\u001b[0m\u001b[0;34m=\u001b[0m\u001b[0;32mFalse\u001b[0m\u001b[0;34m)\u001b[0m\u001b[0;34m\u001b[0m\u001b[0;34m\u001b[0m\u001b[0m\n\u001b[1;32m     80\u001b[0m \u001b[0;34m\u001b[0m\u001b[0m\n",
            "\u001b[0;32m/usr/local/lib/python3.6/dist-packages/sklearn/utils/validation.py\u001b[0m in \u001b[0;36mcheck_array\u001b[0;34m(array, accept_sparse, accept_large_sparse, dtype, order, copy, force_all_finite, ensure_2d, allow_nd, ensure_min_samples, ensure_min_features, warn_on_dtype, estimator)\u001b[0m\n\u001b[1;32m    540\u001b[0m         \u001b[0;32mif\u001b[0m \u001b[0mforce_all_finite\u001b[0m\u001b[0;34m:\u001b[0m\u001b[0;34m\u001b[0m\u001b[0;34m\u001b[0m\u001b[0m\n\u001b[1;32m    541\u001b[0m             _assert_all_finite(array,\n\u001b[0;32m--> 542\u001b[0;31m                                allow_nan=force_all_finite == 'allow-nan')\n\u001b[0m\u001b[1;32m    543\u001b[0m \u001b[0;34m\u001b[0m\u001b[0m\n\u001b[1;32m    544\u001b[0m     \u001b[0;32mif\u001b[0m \u001b[0mensure_min_samples\u001b[0m \u001b[0;34m>\u001b[0m \u001b[0;36m0\u001b[0m\u001b[0;34m:\u001b[0m\u001b[0;34m\u001b[0m\u001b[0;34m\u001b[0m\u001b[0m\n",
            "\u001b[0;32m/usr/local/lib/python3.6/dist-packages/sklearn/utils/validation.py\u001b[0m in \u001b[0;36m_assert_all_finite\u001b[0;34m(X, allow_nan)\u001b[0m\n\u001b[1;32m     54\u001b[0m                 not allow_nan and not np.isfinite(X).all()):\n\u001b[1;32m     55\u001b[0m             \u001b[0mtype_err\u001b[0m \u001b[0;34m=\u001b[0m \u001b[0;34m'infinity'\u001b[0m \u001b[0;32mif\u001b[0m \u001b[0mallow_nan\u001b[0m \u001b[0;32melse\u001b[0m \u001b[0;34m'NaN, infinity'\u001b[0m\u001b[0;34m\u001b[0m\u001b[0;34m\u001b[0m\u001b[0m\n\u001b[0;32m---> 56\u001b[0;31m             \u001b[0;32mraise\u001b[0m \u001b[0mValueError\u001b[0m\u001b[0;34m(\u001b[0m\u001b[0mmsg_err\u001b[0m\u001b[0;34m.\u001b[0m\u001b[0mformat\u001b[0m\u001b[0;34m(\u001b[0m\u001b[0mtype_err\u001b[0m\u001b[0;34m,\u001b[0m \u001b[0mX\u001b[0m\u001b[0;34m.\u001b[0m\u001b[0mdtype\u001b[0m\u001b[0;34m)\u001b[0m\u001b[0;34m)\u001b[0m\u001b[0;34m\u001b[0m\u001b[0;34m\u001b[0m\u001b[0m\n\u001b[0m\u001b[1;32m     57\u001b[0m     \u001b[0;31m# for object dtype data, we only check for NaNs (GH-13254)\u001b[0m\u001b[0;34m\u001b[0m\u001b[0;34m\u001b[0m\u001b[0;34m\u001b[0m\u001b[0m\n\u001b[1;32m     58\u001b[0m     \u001b[0;32melif\u001b[0m \u001b[0mX\u001b[0m\u001b[0;34m.\u001b[0m\u001b[0mdtype\u001b[0m \u001b[0;34m==\u001b[0m \u001b[0mnp\u001b[0m\u001b[0;34m.\u001b[0m\u001b[0mdtype\u001b[0m\u001b[0;34m(\u001b[0m\u001b[0;34m'object'\u001b[0m\u001b[0;34m)\u001b[0m \u001b[0;32mand\u001b[0m \u001b[0;32mnot\u001b[0m \u001b[0mallow_nan\u001b[0m\u001b[0;34m:\u001b[0m\u001b[0;34m\u001b[0m\u001b[0;34m\u001b[0m\u001b[0m\n",
            "\u001b[0;31mValueError\u001b[0m: Input contains NaN, infinity or a value too large for dtype('float64')."
          ]
        }
      ]
    },
    {
      "cell_type": "code",
      "metadata": {
        "id": "SztZaszCaCsI",
        "colab_type": "code",
        "outputId": "f233e7f6-5e58-4b63-cc40-d3b7f6e0c968",
        "colab": {
          "base_uri": "https://localhost:8080/",
          "height": 227
        }
      },
      "source": [
        "submission.time_to_failure = predictions1\n",
        "submission.to_csv('submissiongbm.csv',index=True)\n",
        "submission.head()"
      ],
      "execution_count": 0,
      "outputs": [
        {
          "output_type": "execute_result",
          "data": {
            "text/html": [
              "<div>\n",
              "<style scoped>\n",
              "    .dataframe tbody tr th:only-of-type {\n",
              "        vertical-align: middle;\n",
              "    }\n",
              "\n",
              "    .dataframe tbody tr th {\n",
              "        vertical-align: top;\n",
              "    }\n",
              "\n",
              "    .dataframe thead th {\n",
              "        text-align: right;\n",
              "    }\n",
              "</style>\n",
              "<table border=\"1\" class=\"dataframe\">\n",
              "  <thead>\n",
              "    <tr style=\"text-align: right;\">\n",
              "      <th></th>\n",
              "      <th>time_to_failure</th>\n",
              "    </tr>\n",
              "    <tr>\n",
              "      <th>seg_id</th>\n",
              "      <th></th>\n",
              "    </tr>\n",
              "  </thead>\n",
              "  <tbody>\n",
              "    <tr>\n",
              "      <th>seg_00030f</th>\n",
              "      <td>3.698928</td>\n",
              "    </tr>\n",
              "    <tr>\n",
              "      <th>seg_0012b5</th>\n",
              "      <td>6.098628</td>\n",
              "    </tr>\n",
              "    <tr>\n",
              "      <th>seg_00184e</th>\n",
              "      <td>6.680970</td>\n",
              "    </tr>\n",
              "    <tr>\n",
              "      <th>seg_003339</th>\n",
              "      <td>8.088127</td>\n",
              "    </tr>\n",
              "    <tr>\n",
              "      <th>seg_0042cc</th>\n",
              "      <td>7.376599</td>\n",
              "    </tr>\n",
              "  </tbody>\n",
              "</table>\n",
              "</div>"
            ],
            "text/plain": [
              "            time_to_failure\n",
              "seg_id                     \n",
              "seg_00030f         3.698928\n",
              "seg_0012b5         6.098628\n",
              "seg_00184e         6.680970\n",
              "seg_003339         8.088127\n",
              "seg_0042cc         7.376599"
            ]
          },
          "metadata": {
            "tags": []
          },
          "execution_count": 65
        }
      ]
    },
    {
      "cell_type": "markdown",
      "metadata": {
        "id": "zSbkPWEAYuHR",
        "colab_type": "text"
      },
      "source": [
        "### LightGBM"
      ]
    },
    {
      "cell_type": "code",
      "metadata": {
        "id": "8NVatJuUaY3M",
        "colab_type": "code",
        "outputId": "46f5e400-5201-470d-81d3-29e110e63732",
        "colab": {
          "base_uri": "https://localhost:8080/",
          "height": 327
        }
      },
      "source": [
        "params={'bagging_fraction': 0.72,\n",
        "        'boosting': 'gbdt',\n",
        "        'feature_fraction' : 0.55,\n",
        "        'lambda_l1': 4.2030167201177235,\n",
        "        'lambda_l2': 2.8818379730100174,\n",
        "        'learning_rate': 0.04197920600013021,\n",
        "        'max_bin': 182,\n",
        "        'max_depth': 13,\n",
        "        'metric': 'RMSE',\n",
        "        'min_data_in_bin': 106,\n",
        "        'min_data_in_leaf': 83,\n",
        "        'num_leaves': 1415,\n",
        "        'objective': 'fair',\n",
        "        'subsample': 0.5807414994404817}\n",
        "predictions2 = np.zeros(len(test))\n",
        "feature_importance_df = pd.DataFrame()\n",
        "#run model\n",
        "\n",
        "n_fold = 5\n",
        "folds = KFold(n_splits=n_fold, shuffle=True, random_state=42)\n",
        "train_columns = trainX.columns.values\n",
        "\n",
        "for fold_, (trn_idx, val_idx) in enumerate(folds.split(trainX,trainy.values)):\n",
        "    strLog = \"fold {}\".format(fold_)\n",
        "    \n",
        "    X_tr, X_val = trainX.iloc[trn_idx], trainX.iloc[val_idx]\n",
        "    y_tr, y_val = trainy.iloc[trn_idx], trainy.iloc[val_idx]\n",
        "\n",
        "    print(strLog)\n",
        "    \n",
        "    model = lgb.LGBMRegressor(**params, n_estimators = 20000, n_jobs = -1)\n",
        "    model.fit(X_tr, \n",
        "              y_tr, \n",
        "              eval_set=[(X_tr, y_tr), (X_val, y_val)], \n",
        "              eval_metric='mae',\n",
        "              verbose=1000, \n",
        "              early_stopping_rounds=1000)\n",
        "    mae = np.append(mae, mean_absolute_error(y_val, model.predict(X_val)))\n",
        "    print(\"Fold: {} Validation MAE: {}\".format(strLog,mae[fold_]))\n",
        "    #predictions\n",
        "    predictions2 += model.predict(test, num_iteration=model.best_iteration_) / folds.n_splits\n",
        "np.mean(mae)"
      ],
      "execution_count": 0,
      "outputs": [
        {
          "output_type": "stream",
          "text": [
            "fold 0\n",
            "Training until validation scores don't improve for 1000 rounds.\n",
            "[1000]\ttraining's l1: nan\ttraining's rmse: nan\tvalid_1's l1: nan\tvalid_1's rmse: nan\n",
            "Early stopping, best iteration is:\n",
            "[1]\ttraining's l1: nan\ttraining's rmse: nan\tvalid_1's l1: nan\tvalid_1's rmse: nan\n"
          ],
          "name": "stdout"
        },
        {
          "output_type": "error",
          "ename": "NameError",
          "evalue": "ignored",
          "traceback": [
            "\u001b[0;31m---------------------------------------------------------------------------\u001b[0m",
            "\u001b[0;31mNameError\u001b[0m                                 Traceback (most recent call last)",
            "\u001b[0;32m<ipython-input-30-11ad45b646c2>\u001b[0m in \u001b[0;36m<module>\u001b[0;34m()\u001b[0m\n\u001b[1;32m     36\u001b[0m               \u001b[0mverbose\u001b[0m\u001b[0;34m=\u001b[0m\u001b[0;36m1000\u001b[0m\u001b[0;34m,\u001b[0m\u001b[0;34m\u001b[0m\u001b[0;34m\u001b[0m\u001b[0m\n\u001b[1;32m     37\u001b[0m               early_stopping_rounds=1000)\n\u001b[0;32m---> 38\u001b[0;31m     \u001b[0mmae\u001b[0m \u001b[0;34m=\u001b[0m \u001b[0mnp\u001b[0m\u001b[0;34m.\u001b[0m\u001b[0mappend\u001b[0m\u001b[0;34m(\u001b[0m\u001b[0mmae\u001b[0m\u001b[0;34m,\u001b[0m \u001b[0mmean_absolute_error\u001b[0m\u001b[0;34m(\u001b[0m\u001b[0my_val\u001b[0m\u001b[0;34m,\u001b[0m \u001b[0mmodel\u001b[0m\u001b[0;34m.\u001b[0m\u001b[0mpredict\u001b[0m\u001b[0;34m(\u001b[0m\u001b[0mX_val\u001b[0m\u001b[0;34m)\u001b[0m\u001b[0;34m)\u001b[0m\u001b[0;34m)\u001b[0m\u001b[0;34m\u001b[0m\u001b[0;34m\u001b[0m\u001b[0m\n\u001b[0m\u001b[1;32m     39\u001b[0m     \u001b[0mprint\u001b[0m\u001b[0;34m(\u001b[0m\u001b[0;34m\"Fold: {} Validation MAE: {}\"\u001b[0m\u001b[0;34m.\u001b[0m\u001b[0mformat\u001b[0m\u001b[0;34m(\u001b[0m\u001b[0mstrLog\u001b[0m\u001b[0;34m,\u001b[0m\u001b[0mmae\u001b[0m\u001b[0;34m[\u001b[0m\u001b[0mfold_\u001b[0m\u001b[0;34m]\u001b[0m\u001b[0;34m)\u001b[0m\u001b[0;34m)\u001b[0m\u001b[0;34m\u001b[0m\u001b[0;34m\u001b[0m\u001b[0m\n\u001b[1;32m     40\u001b[0m     \u001b[0;31m#predictions\u001b[0m\u001b[0;34m\u001b[0m\u001b[0;34m\u001b[0m\u001b[0;34m\u001b[0m\u001b[0m\n",
            "\u001b[0;31mNameError\u001b[0m: name 'mae' is not defined"
          ]
        }
      ]
    },
    {
      "cell_type": "markdown",
      "metadata": {
        "id": "EKxF34ymobJ-",
        "colab_type": "text"
      },
      "source": [
        "# LANL Earthquake with H2O AutoML"
      ]
    },
    {
      "cell_type": "code",
      "metadata": {
        "id": "O7z2R-82o_o5",
        "colab_type": "code",
        "outputId": "c65d78a9-8ed8-4134-b7b9-381c0bf505ad",
        "colab": {
          "base_uri": "https://localhost:8080/",
          "height": 319
        }
      },
      "source": [
        "!pip install h2o"
      ],
      "execution_count": 0,
      "outputs": [
        {
          "output_type": "stream",
          "text": [
            "Collecting h2o\n",
            "\u001b[?25l  Downloading https://files.pythonhosted.org/packages/eb/c8/2b41bfc87f55285445f0b83603f5179d1909200eb45bab47d7f9eecd5c6b/h2o-3.24.0.3.tar.gz (121.8MB)\n",
            "\u001b[K     |████████████████████████████████| 121.8MB 161kB/s \n",
            "\u001b[?25hRequirement already satisfied: requests in /usr/local/lib/python3.6/dist-packages (from h2o) (2.21.0)\n",
            "Requirement already satisfied: tabulate in /usr/local/lib/python3.6/dist-packages (from h2o) (0.8.3)\n",
            "Requirement already satisfied: future in /usr/local/lib/python3.6/dist-packages (from h2o) (0.16.0)\n",
            "Collecting colorama>=0.3.8 (from h2o)\n",
            "  Downloading https://files.pythonhosted.org/packages/4f/a6/728666f39bfff1719fc94c481890b2106837da9318031f71a8424b662e12/colorama-0.4.1-py2.py3-none-any.whl\n",
            "Requirement already satisfied: idna<2.9,>=2.5 in /usr/local/lib/python3.6/dist-packages (from requests->h2o) (2.8)\n",
            "Requirement already satisfied: urllib3<1.25,>=1.21.1 in /usr/local/lib/python3.6/dist-packages (from requests->h2o) (1.24.3)\n",
            "Requirement already satisfied: certifi>=2017.4.17 in /usr/local/lib/python3.6/dist-packages (from requests->h2o) (2019.3.9)\n",
            "Requirement already satisfied: chardet<3.1.0,>=3.0.2 in /usr/local/lib/python3.6/dist-packages (from requests->h2o) (3.0.4)\n",
            "Building wheels for collected packages: h2o\n",
            "  Building wheel for h2o (setup.py) ... \u001b[?25l\u001b[?25hdone\n",
            "  Stored in directory: /root/.cache/pip/wheels/36/73/57/2ea67a8a35ea9114f7d66cc8c5ec46c915698c909321f8a17d\n",
            "Successfully built h2o\n",
            "Installing collected packages: colorama, h2o\n",
            "Successfully installed colorama-0.4.1 h2o-3.24.0.3\n"
          ],
          "name": "stdout"
        }
      ]
    },
    {
      "cell_type": "code",
      "metadata": {
        "id": "MvoELV1hobzs",
        "colab_type": "code",
        "outputId": "e11ae7f2-a673-47f7-ea59-b5d2ba6e38f4",
        "colab": {
          "base_uri": "https://localhost:8080/",
          "height": 526
        }
      },
      "source": [
        "import h2o\n",
        "print(h2o.__version__)\n",
        "from h2o.automl import H2OAutoML\n",
        "\n",
        "h2o.init() # max_mem_size='16G'"
      ],
      "execution_count": 0,
      "outputs": [
        {
          "output_type": "stream",
          "text": [
            "3.24.0.3\n",
            "Checking whether there is an H2O instance running at http://localhost:54321 ..... not found.\n",
            "Attempting to start a local H2O server...\n",
            "  Java Version: openjdk version \"11.0.3\" 2019-04-16; OpenJDK Runtime Environment (build 11.0.3+7-Ubuntu-1ubuntu218.04.1); OpenJDK 64-Bit Server VM (build 11.0.3+7-Ubuntu-1ubuntu218.04.1, mixed mode, sharing)\n",
            "  Starting server from /usr/local/lib/python3.6/dist-packages/h2o/backend/bin/h2o.jar\n",
            "  Ice root: /tmp/tmpqpcn64ay\n",
            "  JVM stdout: /tmp/tmpqpcn64ay/h2o_unknownUser_started_from_python.out\n",
            "  JVM stderr: /tmp/tmpqpcn64ay/h2o_unknownUser_started_from_python.err\n",
            "  Server is running at http://127.0.0.1:54321\n",
            "Connecting to H2O server at http://127.0.0.1:54321 ... successful.\n"
          ],
          "name": "stdout"
        },
        {
          "output_type": "display_data",
          "data": {
            "text/html": [
              "<div style=\"overflow:auto\"><table style=\"width:50%\"><tr><td>H2O cluster uptime:</td>\n",
              "<td>02 secs</td></tr>\n",
              "<tr><td>H2O cluster timezone:</td>\n",
              "<td>Etc/UTC</td></tr>\n",
              "<tr><td>H2O data parsing timezone:</td>\n",
              "<td>UTC</td></tr>\n",
              "<tr><td>H2O cluster version:</td>\n",
              "<td>3.24.0.3</td></tr>\n",
              "<tr><td>H2O cluster version age:</td>\n",
              "<td>14 days, 5 hours and 19 minutes </td></tr>\n",
              "<tr><td>H2O cluster name:</td>\n",
              "<td>H2O_from_python_unknownUser_a6wgtc</td></tr>\n",
              "<tr><td>H2O cluster total nodes:</td>\n",
              "<td>1</td></tr>\n",
              "<tr><td>H2O cluster free memory:</td>\n",
              "<td>2.938 Gb</td></tr>\n",
              "<tr><td>H2O cluster total cores:</td>\n",
              "<td>2</td></tr>\n",
              "<tr><td>H2O cluster allowed cores:</td>\n",
              "<td>2</td></tr>\n",
              "<tr><td>H2O cluster status:</td>\n",
              "<td>accepting new members, healthy</td></tr>\n",
              "<tr><td>H2O connection url:</td>\n",
              "<td>http://127.0.0.1:54321</td></tr>\n",
              "<tr><td>H2O connection proxy:</td>\n",
              "<td>None</td></tr>\n",
              "<tr><td>H2O internal security:</td>\n",
              "<td>False</td></tr>\n",
              "<tr><td>H2O API Extensions:</td>\n",
              "<td>Amazon S3, XGBoost, Algos, AutoML, Core V3, Core V4</td></tr>\n",
              "<tr><td>Python version:</td>\n",
              "<td>3.6.7 final</td></tr></table></div>"
            ],
            "text/plain": [
              "--------------------------  ---------------------------------------------------\n",
              "H2O cluster uptime:         02 secs\n",
              "H2O cluster timezone:       Etc/UTC\n",
              "H2O data parsing timezone:  UTC\n",
              "H2O cluster version:        3.24.0.3\n",
              "H2O cluster version age:    14 days, 5 hours and 19 minutes\n",
              "H2O cluster name:           H2O_from_python_unknownUser_a6wgtc\n",
              "H2O cluster total nodes:    1\n",
              "H2O cluster free memory:    2.938 Gb\n",
              "H2O cluster total cores:    2\n",
              "H2O cluster allowed cores:  2\n",
              "H2O cluster status:         accepting new members, healthy\n",
              "H2O connection url:         http://127.0.0.1:54321\n",
              "H2O connection proxy:\n",
              "H2O internal security:      False\n",
              "H2O API Extensions:         Amazon S3, XGBoost, Algos, AutoML, Core V3, Core V4\n",
              "Python version:             3.6.7 final\n",
              "--------------------------  ---------------------------------------------------"
            ]
          },
          "metadata": {
            "tags": []
          }
        }
      ]
    },
    {
      "cell_type": "code",
      "metadata": {
        "id": "RVW-LwCbpMvA",
        "colab_type": "code",
        "outputId": "99d03540-d8c4-4fe3-bfc6-d748201fef11",
        "colab": {
          "base_uri": "https://localhost:8080/",
          "height": 67
        }
      },
      "source": [
        "train = h2o.import_file(\"X_tr.csv\")\n",
        "test = h2o.import_file(\"X_test.csv\")\n",
        "y_train = h2o.import_file(\"y_tr.csv\")"
      ],
      "execution_count": 0,
      "outputs": [
        {
          "output_type": "stream",
          "text": [
            "Parse progress: |█████████████████████████████████████████████████████████| 100%\n",
            "Parse progress: |█████████████████████████████████████████████████████████| 100%\n",
            "Parse progress: |█████████████████████████████████████████████████████████| 100%\n"
          ],
          "name": "stdout"
        }
      ]
    },
    {
      "cell_type": "code",
      "metadata": {
        "id": "goq1GO95pbAA",
        "colab_type": "code",
        "outputId": "3b625e4f-7714-44d6-b1ac-de85715e7752",
        "colab": {
          "base_uri": "https://localhost:8080/",
          "height": 426
        }
      },
      "source": [
        "train.head()"
      ],
      "execution_count": 0,
      "outputs": [
        {
          "output_type": "display_data",
          "data": {
            "text/html": [
              "<table>\n",
              "<thead>\n",
              "<tr><th style=\"text-align: right;\">   mean</th><th style=\"text-align: right;\">    std</th><th style=\"text-align: right;\">  max</th><th style=\"text-align: right;\">  min</th><th style=\"text-align: right;\">  mean_change_abs</th><th style=\"text-align: right;\">  mean_change_rate</th><th style=\"text-align: right;\">  abs_max</th><th style=\"text-align: right;\">  abs_min</th><th style=\"text-align: right;\">  std_first_50000</th><th style=\"text-align: right;\">  std_last_50000</th><th style=\"text-align: right;\">  std_first_10000</th><th style=\"text-align: right;\">  std_last_10000</th><th style=\"text-align: right;\">  avg_first_50000</th><th style=\"text-align: right;\">  avg_last_50000</th><th style=\"text-align: right;\">  avg_first_10000</th><th style=\"text-align: right;\">  avg_last_10000</th><th style=\"text-align: right;\">  min_first_50000</th><th style=\"text-align: right;\">  min_last_50000</th><th style=\"text-align: right;\">  min_first_10000</th><th style=\"text-align: right;\">  min_last_10000</th><th style=\"text-align: right;\">  max_first_50000</th><th style=\"text-align: right;\">  max_last_50000</th><th style=\"text-align: right;\">  max_first_10000</th><th style=\"text-align: right;\">  max_last_10000</th><th style=\"text-align: right;\">  max_to_min</th><th style=\"text-align: right;\">  max_to_min_diff</th><th style=\"text-align: right;\">  count_big</th><th style=\"text-align: right;\">   sum</th><th style=\"text-align: right;\">  mean_change_rate_first_50000</th><th style=\"text-align: right;\">  mean_change_rate_last_50000</th><th style=\"text-align: right;\">  mean_change_rate_first_10000</th><th style=\"text-align: right;\">  mean_change_rate_last_10000</th><th style=\"text-align: right;\">  q95</th><th style=\"text-align: right;\">  q99</th><th style=\"text-align: right;\">  q05</th><th style=\"text-align: right;\">  q01</th><th style=\"text-align: right;\">  abs_q95</th><th style=\"text-align: right;\">  abs_q99</th><th style=\"text-align: right;\">  abs_q05</th><th style=\"text-align: right;\">  abs_q01</th><th style=\"text-align: right;\">       trend</th><th style=\"text-align: right;\">   abs_trend</th><th style=\"text-align: right;\">  abs_mean</th><th style=\"text-align: right;\">  abs_std</th><th style=\"text-align: right;\">    mad</th><th style=\"text-align: right;\">    kurt</th><th style=\"text-align: right;\">      skew</th><th style=\"text-align: right;\">  med</th><th style=\"text-align: right;\">  Hilbert_mean</th><th style=\"text-align: right;\">  Hann_window_mean</th><th style=\"text-align: right;\">  classic_sta_lta1_mean</th><th style=\"text-align: right;\">  classic_sta_lta2_mean</th><th style=\"text-align: right;\">  classic_sta_lta3_mean</th><th style=\"text-align: right;\">  classic_sta_lta4_mean</th><th style=\"text-align: right;\">  Moving_average_700_mean</th><th style=\"text-align: right;\">  Moving_average_1500_mean</th><th style=\"text-align: right;\">  Moving_average_3000_mean</th><th style=\"text-align: right;\">  Moving_average_6000_mean</th><th style=\"text-align: right;\">  exp_Moving_average_300_mean</th><th style=\"text-align: right;\">  exp_Moving_average_3000_mean</th><th style=\"text-align: right;\">  exp_Moving_average_30000_mean</th><th style=\"text-align: right;\">  MA_700MA_std_mean</th><th style=\"text-align: right;\">  MA_700MA_BB_high_mean</th><th style=\"text-align: right;\">  MA_700MA_BB_low_mean</th><th style=\"text-align: right;\">  MA_400MA_std_mean</th><th style=\"text-align: right;\">  MA_400MA_BB_high_mean</th><th style=\"text-align: right;\">  MA_400MA_BB_low_mean</th><th style=\"text-align: right;\">  MA_1000MA_std_mean</th><th style=\"text-align: right;\">  iqr</th><th style=\"text-align: right;\">  q999</th><th style=\"text-align: right;\">  q001</th><th style=\"text-align: right;\">  ave10</th><th style=\"text-align: right;\">  ave_roll_std_10</th><th style=\"text-align: right;\">  std_roll_std_10</th><th style=\"text-align: right;\">  max_roll_std_10</th><th style=\"text-align: right;\">  min_roll_std_10</th><th style=\"text-align: right;\">  q01_roll_std_10</th><th style=\"text-align: right;\">  q05_roll_std_10</th><th style=\"text-align: right;\">  q95_roll_std_10</th><th style=\"text-align: right;\">  q99_roll_std_10</th><th style=\"text-align: right;\">  av_change_abs_roll_std_10</th><th style=\"text-align: right;\">  av_change_rate_roll_std_10</th><th style=\"text-align: right;\">  abs_max_roll_std_10</th><th style=\"text-align: right;\">  ave_roll_mean_10</th><th style=\"text-align: right;\">  std_roll_mean_10</th><th style=\"text-align: right;\">  max_roll_mean_10</th><th style=\"text-align: right;\">  min_roll_mean_10</th><th style=\"text-align: right;\">  q01_roll_mean_10</th><th style=\"text-align: right;\">  q05_roll_mean_10</th><th style=\"text-align: right;\">  q95_roll_mean_10</th><th style=\"text-align: right;\">  q99_roll_mean_10</th><th style=\"text-align: right;\">  av_change_abs_roll_mean_10</th><th style=\"text-align: right;\">  av_change_rate_roll_mean_10</th><th style=\"text-align: right;\">  abs_max_roll_mean_10</th><th style=\"text-align: right;\">  ave_roll_std_100</th><th style=\"text-align: right;\">  std_roll_std_100</th><th style=\"text-align: right;\">  max_roll_std_100</th><th style=\"text-align: right;\">  min_roll_std_100</th><th style=\"text-align: right;\">  q01_roll_std_100</th><th style=\"text-align: right;\">  q05_roll_std_100</th><th style=\"text-align: right;\">  q95_roll_std_100</th><th style=\"text-align: right;\">  q99_roll_std_100</th><th style=\"text-align: right;\">  av_change_abs_roll_std_100</th><th style=\"text-align: right;\">  av_change_rate_roll_std_100</th><th style=\"text-align: right;\">  abs_max_roll_std_100</th><th style=\"text-align: right;\">  ave_roll_mean_100</th><th style=\"text-align: right;\">  std_roll_mean_100</th><th style=\"text-align: right;\">  max_roll_mean_100</th><th style=\"text-align: right;\">  min_roll_mean_100</th><th style=\"text-align: right;\">  q01_roll_mean_100</th><th style=\"text-align: right;\">  q05_roll_mean_100</th><th style=\"text-align: right;\">  q95_roll_mean_100</th><th style=\"text-align: right;\">  q99_roll_mean_100</th><th style=\"text-align: right;\">  av_change_abs_roll_mean_100</th><th style=\"text-align: right;\">  av_change_rate_roll_mean_100</th><th style=\"text-align: right;\">  abs_max_roll_mean_100</th><th style=\"text-align: right;\">  ave_roll_std_1000</th><th style=\"text-align: right;\">  std_roll_std_1000</th><th style=\"text-align: right;\">  max_roll_std_1000</th><th style=\"text-align: right;\">  min_roll_std_1000</th><th style=\"text-align: right;\">  q01_roll_std_1000</th><th style=\"text-align: right;\">  q05_roll_std_1000</th><th style=\"text-align: right;\">  q95_roll_std_1000</th><th style=\"text-align: right;\">  q99_roll_std_1000</th><th style=\"text-align: right;\">  av_change_abs_roll_std_1000</th><th style=\"text-align: right;\">  av_change_rate_roll_std_1000</th><th style=\"text-align: right;\">  abs_max_roll_std_1000</th><th style=\"text-align: right;\">  ave_roll_mean_1000</th><th style=\"text-align: right;\">  std_roll_mean_1000</th><th style=\"text-align: right;\">  max_roll_mean_1000</th><th style=\"text-align: right;\">  min_roll_mean_1000</th><th style=\"text-align: right;\">  q01_roll_mean_1000</th><th style=\"text-align: right;\">  q05_roll_mean_1000</th><th style=\"text-align: right;\">  q95_roll_mean_1000</th><th style=\"text-align: right;\">  q99_roll_mean_1000</th><th style=\"text-align: right;\">  av_change_abs_roll_mean_1000</th><th style=\"text-align: right;\">  av_change_rate_roll_mean_1000</th><th style=\"text-align: right;\">  abs_max_roll_mean_1000</th></tr>\n",
              "</thead>\n",
              "<tbody>\n",
              "<tr><td style=\"text-align: right;\">4.88411</td><td style=\"text-align: right;\">5.10111</td><td style=\"text-align: right;\">  104</td><td style=\"text-align: right;\">  -98</td><td style=\"text-align: right;\">     -8.00005e-05</td><td style=\"text-align: right;\">           74836.6</td><td style=\"text-align: right;\">      104</td><td style=\"text-align: right;\">        0</td><td style=\"text-align: right;\">          6.48855</td><td style=\"text-align: right;\">         3.66466</td><td style=\"text-align: right;\">         11.2072 </td><td style=\"text-align: right;\">         4.36141</td><td style=\"text-align: right;\">          4.9621 </td><td style=\"text-align: right;\">         4.62046</td><td style=\"text-align: right;\">           5.182 </td><td style=\"text-align: right;\">          4.6756</td><td style=\"text-align: right;\">              -98</td><td style=\"text-align: right;\">             -21</td><td style=\"text-align: right;\">              -98</td><td style=\"text-align: right;\">             -16</td><td style=\"text-align: right;\">              104</td><td style=\"text-align: right;\">              30</td><td style=\"text-align: right;\">              104</td><td style=\"text-align: right;\">              26</td><td style=\"text-align: right;\">    1.06122 </td><td style=\"text-align: right;\">                6</td><td style=\"text-align: right;\">          0</td><td style=\"text-align: right;\">732617</td><td style=\"text-align: right;\">                       24942.3</td><td style=\"text-align: right;\">                      25002.3</td><td style=\"text-align: right;\">                       4981.15</td><td style=\"text-align: right;\">                      4983.58</td><td style=\"text-align: right;\">   11</td><td style=\"text-align: right;\">   18</td><td style=\"text-align: right;\">   -2</td><td style=\"text-align: right;\">   -8</td><td style=\"text-align: right;\">       12</td><td style=\"text-align: right;\">       20</td><td style=\"text-align: right;\">        1</td><td style=\"text-align: right;\">        0</td><td style=\"text-align: right;\">-3.2683e-06 </td><td style=\"text-align: right;\">-1.12785e-05</td><td style=\"text-align: right;\">   5.57657</td><td style=\"text-align: right;\">  4.33332</td><td style=\"text-align: right;\">3.2634 </td><td style=\"text-align: right;\"> 33.6625</td><td style=\"text-align: right;\">-0.0240612</td><td style=\"text-align: right;\">    5</td><td style=\"text-align: right;\">       7.02703</td><td style=\"text-align: right;\">           4.88333</td><td style=\"text-align: right;\">               0.920976</td><td style=\"text-align: right;\">               0.266087</td><td style=\"text-align: right;\">               0.935911</td><td style=\"text-align: right;\">               0.808124</td><td style=\"text-align: right;\">                  4.88359</td><td style=\"text-align: right;\">                   4.88267</td><td style=\"text-align: right;\">                   4.8805 </td><td style=\"text-align: right;\">                   4.87777</td><td style=\"text-align: right;\">                      4.88465</td><td style=\"text-align: right;\">                       4.88735</td><td style=\"text-align: right;\">                        4.89181</td><td style=\"text-align: right;\">            4.22942</td><td style=\"text-align: right;\">                13.3424</td><td style=\"text-align: right;\">              -3.57524</td><td style=\"text-align: right;\">            4.15581</td><td style=\"text-align: right;\">                13.1952</td><td style=\"text-align: right;\">              -3.42802</td><td style=\"text-align: right;\">             4.28859</td><td style=\"text-align: right;\">    4</td><td style=\"text-align: right;\">40    </td><td style=\"text-align: right;\">   -30</td><td style=\"text-align: right;\">4.86934</td><td style=\"text-align: right;\">          3.50712</td><td style=\"text-align: right;\">          2.80907</td><td style=\"text-align: right;\">          78.313 </td><td style=\"text-align: right;\">         0.421637</td><td style=\"text-align: right;\">          1.26491</td><td style=\"text-align: right;\">          1.63639</td><td style=\"text-align: right;\">          7.22649</td><td style=\"text-align: right;\">          15.0342</td><td style=\"text-align: right;\">               -1.53422e-06</td><td style=\"text-align: right;\">                     74731  </td><td style=\"text-align: right;\">              78.313 </td><td style=\"text-align: right;\">           4.88409</td><td style=\"text-align: right;\">           2.8018 </td><td style=\"text-align: right;\">              68.5</td><td style=\"text-align: right;\">             -60  </td><td style=\"text-align: right;\">             -2.4 </td><td style=\"text-align: right;\">               1.7</td><td style=\"text-align: right;\">               8.1</td><td style=\"text-align: right;\">             12.4 </td><td style=\"text-align: right;\">                -1.13341e-05</td><td style=\"text-align: right;\">                      74736.7</td><td style=\"text-align: right;\">                  68.5</td><td style=\"text-align: right;\">           4.05045</td><td style=\"text-align: right;\">           3.11152</td><td style=\"text-align: right;\">           52.3353</td><td style=\"text-align: right;\">           1.93542</td><td style=\"text-align: right;\">           2.30263</td><td style=\"text-align: right;\">           2.47564</td><td style=\"text-align: right;\">           8.1959 </td><td style=\"text-align: right;\">           16.9488</td><td style=\"text-align: right;\">                -5.23545e-06</td><td style=\"text-align: right;\">                      74759.6</td><td style=\"text-align: right;\">               52.3353</td><td style=\"text-align: right;\">            4.88386</td><td style=\"text-align: right;\">           0.452294</td><td style=\"text-align: right;\">              10.04</td><td style=\"text-align: right;\">               1.04</td><td style=\"text-align: right;\">               3.81</td><td style=\"text-align: right;\">               4.16</td><td style=\"text-align: right;\">               5.58</td><td style=\"text-align: right;\">               5.95</td><td style=\"text-align: right;\">                 -2.4016e-06 </td><td style=\"text-align: right;\">                       74760.1</td><td style=\"text-align: right;\">                  10.04</td><td style=\"text-align: right;\">            4.28859</td><td style=\"text-align: right;\">            2.76977</td><td style=\"text-align: right;\">            31.0294</td><td style=\"text-align: right;\">            2.53663</td><td style=\"text-align: right;\">            2.61609</td><td style=\"text-align: right;\">            2.70647</td><td style=\"text-align: right;\">            8.18576</td><td style=\"text-align: right;\">            15.056 </td><td style=\"text-align: right;\">                 -1.17955e-05</td><td style=\"text-align: right;\">                       74223.6</td><td style=\"text-align: right;\">                31.0294</td><td style=\"text-align: right;\">             4.88342</td><td style=\"text-align: right;\">            0.295715</td><td style=\"text-align: right;\">               5.629</td><td style=\"text-align: right;\">               3.896</td><td style=\"text-align: right;\">               4.072</td><td style=\"text-align: right;\">               4.379</td><td style=\"text-align: right;\">               5.338</td><td style=\"text-align: right;\">               5.484</td><td style=\"text-align: right;\">                  -1.7047e-06 </td><td style=\"text-align: right;\">                        74222.3</td><td style=\"text-align: right;\">                   5.629</td></tr>\n",
              "<tr><td style=\"text-align: right;\">4.72577</td><td style=\"text-align: right;\">6.58882</td><td style=\"text-align: right;\">  181</td><td style=\"text-align: right;\"> -154</td><td style=\"text-align: right;\">      0          </td><td style=\"text-align: right;\">           74891.7</td><td style=\"text-align: right;\">      181</td><td style=\"text-align: right;\">        0</td><td style=\"text-align: right;\">          7.30523</td><td style=\"text-align: right;\">         5.49307</td><td style=\"text-align: right;\">          3.97675</td><td style=\"text-align: right;\">         3.66789</td><td style=\"text-align: right;\">          4.6984 </td><td style=\"text-align: right;\">         4.78834</td><td style=\"text-align: right;\">           4.7772</td><td style=\"text-align: right;\">          4.9144</td><td style=\"text-align: right;\">             -154</td><td style=\"text-align: right;\">            -115</td><td style=\"text-align: right;\">              -23</td><td style=\"text-align: right;\">             -24</td><td style=\"text-align: right;\">              181</td><td style=\"text-align: right;\">             111</td><td style=\"text-align: right;\">               29</td><td style=\"text-align: right;\">              29</td><td style=\"text-align: right;\">    1.17532 </td><td style=\"text-align: right;\">               27</td><td style=\"text-align: right;\">          0</td><td style=\"text-align: right;\">708865</td><td style=\"text-align: right;\">                       25027.3</td><td style=\"text-align: right;\">                      24957.8</td><td style=\"text-align: right;\">                       4990.56</td><td style=\"text-align: right;\">                      4978.31</td><td style=\"text-align: right;\">   12</td><td style=\"text-align: right;\">   21</td><td style=\"text-align: right;\">   -2</td><td style=\"text-align: right;\">  -11</td><td style=\"text-align: right;\">       12</td><td style=\"text-align: right;\">       24</td><td style=\"text-align: right;\">        1</td><td style=\"text-align: right;\">        0</td><td style=\"text-align: right;\"> 9.09042e-07</td><td style=\"text-align: right;\">-5.38941e-06</td><td style=\"text-align: right;\">   5.73417</td><td style=\"text-align: right;\">  5.73278</td><td style=\"text-align: right;\">3.5743 </td><td style=\"text-align: right;\"> 98.7585</td><td style=\"text-align: right;\"> 0.390561 </td><td style=\"text-align: right;\">    5</td><td style=\"text-align: right;\">       7.38038</td><td style=\"text-align: right;\">           4.72505</td><td style=\"text-align: right;\">               0.965946</td><td style=\"text-align: right;\">               0.285984</td><td style=\"text-align: right;\">               0.948883</td><td style=\"text-align: right;\">               0.79155 </td><td style=\"text-align: right;\">                  4.72482</td><td style=\"text-align: right;\">                   4.72491</td><td style=\"text-align: right;\">                   4.72367</td><td style=\"text-align: right;\">                   4.7182 </td><td style=\"text-align: right;\">                      4.72605</td><td style=\"text-align: right;\">                       4.72803</td><td style=\"text-align: right;\">                        4.72762</td><td style=\"text-align: right;\">            4.73535</td><td style=\"text-align: right;\">                14.1955</td><td style=\"text-align: right;\">              -4.74589</td><td style=\"text-align: right;\">            4.60858</td><td style=\"text-align: right;\">                13.942 </td><td style=\"text-align: right;\">              -4.49234</td><td style=\"text-align: right;\">             4.84349</td><td style=\"text-align: right;\">    5</td><td style=\"text-align: right;\">59    </td><td style=\"text-align: right;\">   -47</td><td style=\"text-align: right;\">4.7242 </td><td style=\"text-align: right;\">          3.76143</td><td style=\"text-align: right;\">          4.12078</td><td style=\"text-align: right;\">         122.978 </td><td style=\"text-align: right;\">         0.421637</td><td style=\"text-align: right;\">          1.28668</td><td style=\"text-align: right;\">          1.64655</td><td style=\"text-align: right;\">          8.26573</td><td style=\"text-align: right;\">          18.7727</td><td style=\"text-align: right;\">               -3.28446e-06</td><td style=\"text-align: right;\">                     74835.4</td><td style=\"text-align: right;\">             122.978 </td><td style=\"text-align: right;\">           4.72573</td><td style=\"text-align: right;\">           3.92407</td><td style=\"text-align: right;\">             145.1</td><td style=\"text-align: right;\">            -128  </td><td style=\"text-align: right;\">             -4.6 </td><td style=\"text-align: right;\">               1.2</td><td style=\"text-align: right;\">               8.2</td><td style=\"text-align: right;\">             13.8 </td><td style=\"text-align: right;\">                 2.66684e-06</td><td style=\"text-align: right;\">                      74828.6</td><td style=\"text-align: right;\">                 145.1</td><td style=\"text-align: right;\">           4.43636</td><td style=\"text-align: right;\">           4.89343</td><td style=\"text-align: right;\">           87.9726</td><td style=\"text-align: right;\">           1.99137</td><td style=\"text-align: right;\">           2.30029</td><td style=\"text-align: right;\">           2.47597</td><td style=\"text-align: right;\">           9.82992</td><td style=\"text-align: right;\">           23.4573</td><td style=\"text-align: right;\">                -4.87196e-07</td><td style=\"text-align: right;\">                      74802  </td><td style=\"text-align: right;\">               87.9726</td><td style=\"text-align: right;\">            4.72562</td><td style=\"text-align: right;\">           0.49622 </td><td style=\"text-align: right;\">              16.67</td><td style=\"text-align: right;\">              -4.09</td><td style=\"text-align: right;\">               3.64</td><td style=\"text-align: right;\">               4.05</td><td style=\"text-align: right;\">               5.39</td><td style=\"text-align: right;\">               5.75</td><td style=\"text-align: right;\">                 -7.33823e-07</td><td style=\"text-align: right;\">                       74800.1</td><td style=\"text-align: right;\">                  16.67</td><td style=\"text-align: right;\">            4.84349</td><td style=\"text-align: right;\">            4.49291</td><td style=\"text-align: right;\">            38.6432</td><td style=\"text-align: right;\">            2.50945</td><td style=\"text-align: right;\">            2.61248</td><td style=\"text-align: right;\">            2.67488</td><td style=\"text-align: right;\">           10.545  </td><td style=\"text-align: right;\">            33.7043</td><td style=\"text-align: right;\">                 -2.30973e-07</td><td style=\"text-align: right;\">                       74363.7</td><td style=\"text-align: right;\">                38.6432</td><td style=\"text-align: right;\">             4.72488</td><td style=\"text-align: right;\">            0.231587</td><td style=\"text-align: right;\">               5.667</td><td style=\"text-align: right;\">               3.412</td><td style=\"text-align: right;\">               4.233</td><td style=\"text-align: right;\">               4.345</td><td style=\"text-align: right;\">               5.066</td><td style=\"text-align: right;\">               5.223</td><td style=\"text-align: right;\">                  -2.44966e-06</td><td style=\"text-align: right;\">                        74364.4</td><td style=\"text-align: right;\">                   5.667</td></tr>\n",
              "<tr><td style=\"text-align: right;\">4.90639</td><td style=\"text-align: right;\">6.9674 </td><td style=\"text-align: right;\">  140</td><td style=\"text-align: right;\"> -106</td><td style=\"text-align: right;\">     -1.33334e-05</td><td style=\"text-align: right;\">           75099.2</td><td style=\"text-align: right;\">      140</td><td style=\"text-align: right;\">        0</td><td style=\"text-align: right;\">          6.10484</td><td style=\"text-align: right;\">         8.6037 </td><td style=\"text-align: right;\">          8.45472</td><td style=\"text-align: right;\">         9.49398</td><td style=\"text-align: right;\">          4.7061 </td><td style=\"text-align: right;\">         5.08742</td><td style=\"text-align: right;\">           4.6814</td><td style=\"text-align: right;\">          5.1811</td><td style=\"text-align: right;\">              -87</td><td style=\"text-align: right;\">            -106</td><td style=\"text-align: right;\">              -87</td><td style=\"text-align: right;\">             -71</td><td style=\"text-align: right;\">               97</td><td style=\"text-align: right;\">             140</td><td style=\"text-align: right;\">               97</td><td style=\"text-align: right;\">              95</td><td style=\"text-align: right;\">    1.32075 </td><td style=\"text-align: right;\">               34</td><td style=\"text-align: right;\">          0</td><td style=\"text-align: right;\">735959</td><td style=\"text-align: right;\">                       24941.6</td><td style=\"text-align: right;\">                      25124.1</td><td style=\"text-align: right;\">                       5011.78</td><td style=\"text-align: right;\">                      4970.44</td><td style=\"text-align: right;\">   13</td><td style=\"text-align: right;\">   26</td><td style=\"text-align: right;\">   -3</td><td style=\"text-align: right;\">  -15</td><td style=\"text-align: right;\">       14</td><td style=\"text-align: right;\">       30</td><td style=\"text-align: right;\">        1</td><td style=\"text-align: right;\">        0</td><td style=\"text-align: right;\"> 3.96218e-06</td><td style=\"text-align: right;\"> 9.92427e-06</td><td style=\"text-align: right;\">   6.15265</td><td style=\"text-align: right;\">  5.89594</td><td style=\"text-align: right;\">3.94841</td><td style=\"text-align: right;\"> 33.5552</td><td style=\"text-align: right;\"> 0.217391 </td><td style=\"text-align: right;\">    5</td><td style=\"text-align: right;\">       8.01693</td><td style=\"text-align: right;\">           4.90551</td><td style=\"text-align: right;\">               0.948771</td><td style=\"text-align: right;\">               0.512603</td><td style=\"text-align: right;\">               0.947003</td><td style=\"text-align: right;\">               0.877822</td><td style=\"text-align: right;\">                  4.90598</td><td style=\"text-align: right;\">                   4.9061 </td><td style=\"text-align: right;\">                   4.90529</td><td style=\"text-align: right;\">                   4.90253</td><td style=\"text-align: right;\">                      4.90629</td><td style=\"text-align: right;\">                       4.9039 </td><td style=\"text-align: right;\">                        4.90007</td><td style=\"text-align: right;\">            5.28318</td><td style=\"text-align: right;\">                15.4723</td><td style=\"text-align: right;\">              -5.66038</td><td style=\"text-align: right;\">            5.12256</td><td style=\"text-align: right;\">                15.1511</td><td style=\"text-align: right;\">              -5.33914</td><td style=\"text-align: right;\">             5.42301</td><td style=\"text-align: right;\">    5</td><td style=\"text-align: right;\">59    </td><td style=\"text-align: right;\">   -47</td><td style=\"text-align: right;\">4.89482</td><td style=\"text-align: right;\">          4.08084</td><td style=\"text-align: right;\">          4.22796</td><td style=\"text-align: right;\">          96.2474</td><td style=\"text-align: right;\">         0.516398</td><td style=\"text-align: right;\">          1.31656</td><td style=\"text-align: right;\">          1.68655</td><td style=\"text-align: right;\">         10.2116 </td><td style=\"text-align: right;\">          23.865 </td><td style=\"text-align: right;\">                5.65989e-06</td><td style=\"text-align: right;\">                     75176.3</td><td style=\"text-align: right;\">              96.2474</td><td style=\"text-align: right;\">           4.90623</td><td style=\"text-align: right;\">           4.17973</td><td style=\"text-align: right;\">              94.8</td><td style=\"text-align: right;\">             -72.9</td><td style=\"text-align: right;\">             -7.31</td><td style=\"text-align: right;\">               0.8</td><td style=\"text-align: right;\">               9.1</td><td style=\"text-align: right;\">             17   </td><td style=\"text-align: right;\">                -6.0004e-06 </td><td style=\"text-align: right;\">                      75167.4</td><td style=\"text-align: right;\">                  94.8</td><td style=\"text-align: right;\">           4.91733</td><td style=\"text-align: right;\">           4.95923</td><td style=\"text-align: right;\">           53.3538</td><td style=\"text-align: right;\">           1.96946</td><td style=\"text-align: right;\">           2.37461</td><td style=\"text-align: right;\">           2.53859</td><td style=\"text-align: right;\">          13.4853 </td><td style=\"text-align: right;\">           28.5984</td><td style=\"text-align: right;\">                 5.38877e-06</td><td style=\"text-align: right;\">                      75024.8</td><td style=\"text-align: right;\">               53.3538</td><td style=\"text-align: right;\">            4.90609</td><td style=\"text-align: right;\">           0.530151</td><td style=\"text-align: right;\">              12.38</td><td style=\"text-align: right;\">              -1.55</td><td style=\"text-align: right;\">               3.65</td><td style=\"text-align: right;\">               4.14</td><td style=\"text-align: right;\">               5.66</td><td style=\"text-align: right;\">               6.26</td><td style=\"text-align: right;\">                  5.07005e-06</td><td style=\"text-align: right;\">                       75019.8</td><td style=\"text-align: right;\">                  12.38</td><td style=\"text-align: right;\">            5.42301</td><td style=\"text-align: right;\">            4.40214</td><td style=\"text-align: right;\">            35.3269</td><td style=\"text-align: right;\">            2.5841 </td><td style=\"text-align: right;\">            2.66018</td><td style=\"text-align: right;\">            2.76153</td><td style=\"text-align: right;\">           14.8458 </td><td style=\"text-align: right;\">            23.9289</td><td style=\"text-align: right;\">                  2.46159e-06</td><td style=\"text-align: right;\">                       74594.6</td><td style=\"text-align: right;\">                35.3269</td><td style=\"text-align: right;\">             4.90584</td><td style=\"text-align: right;\">            0.267012</td><td style=\"text-align: right;\">               5.957</td><td style=\"text-align: right;\">               4.055</td><td style=\"text-align: right;\">               4.239</td><td style=\"text-align: right;\">               4.446</td><td style=\"text-align: right;\">               5.344</td><td style=\"text-align: right;\">               5.486</td><td style=\"text-align: right;\">                   1.14094e-06</td><td style=\"text-align: right;\">                        74595  </td><td style=\"text-align: right;\">                   5.957</td></tr>\n",
              "<tr><td style=\"text-align: right;\">4.90224</td><td style=\"text-align: right;\">6.92231</td><td style=\"text-align: right;\">  197</td><td style=\"text-align: right;\"> -199</td><td style=\"text-align: right;\">      0          </td><td style=\"text-align: right;\">           74934  </td><td style=\"text-align: right;\">      199</td><td style=\"text-align: right;\">        0</td><td style=\"text-align: right;\">          6.23811</td><td style=\"text-align: right;\">         5.65244</td><td style=\"text-align: right;\">          6.86618</td><td style=\"text-align: right;\">         4.36443</td><td style=\"text-align: right;\">          4.84364</td><td style=\"text-align: right;\">         5.03346</td><td style=\"text-align: right;\">           5.0364</td><td style=\"text-align: right;\">          5.1725</td><td style=\"text-align: right;\">              -63</td><td style=\"text-align: right;\">             -79</td><td style=\"text-align: right;\">              -48</td><td style=\"text-align: right;\">             -36</td><td style=\"text-align: right;\">               75</td><td style=\"text-align: right;\">              84</td><td style=\"text-align: right;\">               75</td><td style=\"text-align: right;\">              35</td><td style=\"text-align: right;\">    0.98995 </td><td style=\"text-align: right;\">               -2</td><td style=\"text-align: right;\">          0</td><td style=\"text-align: right;\">735336</td><td style=\"text-align: right;\">                       24956.6</td><td style=\"text-align: right;\">                      25026.2</td><td style=\"text-align: right;\">                       5012.67</td><td style=\"text-align: right;\">                      4996.74</td><td style=\"text-align: right;\">   12</td><td style=\"text-align: right;\">   22</td><td style=\"text-align: right;\">   -2</td><td style=\"text-align: right;\">  -12</td><td style=\"text-align: right;\">       13</td><td style=\"text-align: right;\">       26</td><td style=\"text-align: right;\">        1</td><td style=\"text-align: right;\">        0</td><td style=\"text-align: right;\"> 1.63721e-06</td><td style=\"text-align: right;\">-2.25514e-06</td><td style=\"text-align: right;\">   5.93396</td><td style=\"text-align: right;\">  6.06121</td><td style=\"text-align: right;\">3.64712</td><td style=\"text-align: right;\">116.548 </td><td style=\"text-align: right;\"> 0.757278 </td><td style=\"text-align: right;\">    5</td><td style=\"text-align: right;\">       7.60685</td><td style=\"text-align: right;\">           4.90143</td><td style=\"text-align: right;\">               0.938831</td><td style=\"text-align: right;\">               0.261155</td><td style=\"text-align: right;\">               0.95061 </td><td style=\"text-align: right;\">               0.828963</td><td style=\"text-align: right;\">                  4.90145</td><td style=\"text-align: right;\">                   4.9014 </td><td style=\"text-align: right;\">                   4.90058</td><td style=\"text-align: right;\">                   4.89698</td><td style=\"text-align: right;\">                      4.90225</td><td style=\"text-align: right;\">                       4.90458</td><td style=\"text-align: right;\">                        4.90408</td><td style=\"text-align: right;\">            4.82637</td><td style=\"text-align: right;\">                14.5542</td><td style=\"text-align: right;\">              -4.75129</td><td style=\"text-align: right;\">            4.69889</td><td style=\"text-align: right;\">                14.2992</td><td style=\"text-align: right;\">              -4.49633</td><td style=\"text-align: right;\">             4.93928</td><td style=\"text-align: right;\">    5</td><td style=\"text-align: right;\">60.001</td><td style=\"text-align: right;\">   -50</td><td style=\"text-align: right;\">4.89438</td><td style=\"text-align: right;\">          3.78819</td><td style=\"text-align: right;\">          4.28418</td><td style=\"text-align: right;\">         141.451 </td><td style=\"text-align: right;\">         0.516398</td><td style=\"text-align: right;\">          1.2693 </td><td style=\"text-align: right;\">          1.64992</td><td style=\"text-align: right;\">          8.38053</td><td style=\"text-align: right;\">          19.2494</td><td style=\"text-align: right;\">               -3.18453e-05</td><td style=\"text-align: right;\">                     74887.3</td><td style=\"text-align: right;\">             141.451 </td><td style=\"text-align: right;\">           4.90229</td><td style=\"text-align: right;\">           4.29946</td><td style=\"text-align: right;\">             125.3</td><td style=\"text-align: right;\">            -136.6</td><td style=\"text-align: right;\">             -5.1 </td><td style=\"text-align: right;\">               1.3</td><td style=\"text-align: right;\">               8.5</td><td style=\"text-align: right;\">             14.8 </td><td style=\"text-align: right;\">                 7.33382e-06</td><td style=\"text-align: right;\">                      74892.6</td><td style=\"text-align: right;\">                 136.6</td><td style=\"text-align: right;\">           4.53334</td><td style=\"text-align: right;\">           5.24713</td><td style=\"text-align: right;\">          103.997 </td><td style=\"text-align: right;\">           1.95533</td><td style=\"text-align: right;\">           2.33054</td><td style=\"text-align: right;\">           2.49644</td><td style=\"text-align: right;\">          10.3675 </td><td style=\"text-align: right;\">           26.3803</td><td style=\"text-align: right;\">                -8.67822e-06</td><td style=\"text-align: right;\">                      74863  </td><td style=\"text-align: right;\">              103.997 </td><td style=\"text-align: right;\">            4.90195</td><td style=\"text-align: right;\">           0.581874</td><td style=\"text-align: right;\">              18.26</td><td style=\"text-align: right;\">              -9.37</td><td style=\"text-align: right;\">               3.76</td><td style=\"text-align: right;\">               4.16</td><td style=\"text-align: right;\">               5.61</td><td style=\"text-align: right;\">               6.09</td><td style=\"text-align: right;\">                 -5.33689e-07</td><td style=\"text-align: right;\">                       74866.9</td><td style=\"text-align: right;\">                  18.26</td><td style=\"text-align: right;\">            4.93928</td><td style=\"text-align: right;\">            4.87352</td><td style=\"text-align: right;\">            52.8057</td><td style=\"text-align: right;\">            2.52415</td><td style=\"text-align: right;\">            2.62496</td><td style=\"text-align: right;\">            2.71699</td><td style=\"text-align: right;\">           11.7156 </td><td style=\"text-align: right;\">            21.951 </td><td style=\"text-align: right;\">                 -3.23487e-06</td><td style=\"text-align: right;\">                       74332.3</td><td style=\"text-align: right;\">                52.8057</td><td style=\"text-align: right;\">             4.90149</td><td style=\"text-align: right;\">            0.2667  </td><td style=\"text-align: right;\">               5.858</td><td style=\"text-align: right;\">               3.722</td><td style=\"text-align: right;\">               4.304</td><td style=\"text-align: right;\">               4.433</td><td style=\"text-align: right;\">               5.317</td><td style=\"text-align: right;\">               5.453</td><td style=\"text-align: right;\">                  -2.55034e-06</td><td style=\"text-align: right;\">                        74333.1</td><td style=\"text-align: right;\">                   5.858</td></tr>\n",
              "<tr><td style=\"text-align: right;\">4.90872</td><td style=\"text-align: right;\">7.30111</td><td style=\"text-align: right;\">  145</td><td style=\"text-align: right;\"> -126</td><td style=\"text-align: right;\">     -6.66671e-06</td><td style=\"text-align: right;\">           75010  </td><td style=\"text-align: right;\">      145</td><td style=\"text-align: right;\">        0</td><td style=\"text-align: right;\">          5.32383</td><td style=\"text-align: right;\">         7.69451</td><td style=\"text-align: right;\">          5.16459</td><td style=\"text-align: right;\">        11.4049 </td><td style=\"text-align: right;\">          4.89116</td><td style=\"text-align: right;\">         4.82906</td><td style=\"text-align: right;\">           4.9405</td><td style=\"text-align: right;\">          4.7085</td><td style=\"text-align: right;\">              -96</td><td style=\"text-align: right;\">            -126</td><td style=\"text-align: right;\">              -44</td><td style=\"text-align: right;\">            -126</td><td style=\"text-align: right;\">               93</td><td style=\"text-align: right;\">             128</td><td style=\"text-align: right;\">               57</td><td style=\"text-align: right;\">             128</td><td style=\"text-align: right;\">    1.15079 </td><td style=\"text-align: right;\">               19</td><td style=\"text-align: right;\">          0</td><td style=\"text-align: right;\">736308</td><td style=\"text-align: right;\">                       24982.9</td><td style=\"text-align: right;\">                      25034.8</td><td style=\"text-align: right;\">                       4977.73</td><td style=\"text-align: right;\">                      4986.52</td><td style=\"text-align: right;\">   12</td><td style=\"text-align: right;\">   26</td><td style=\"text-align: right;\">   -2</td><td style=\"text-align: right;\">  -15</td><td style=\"text-align: right;\">       13</td><td style=\"text-align: right;\">       32</td><td style=\"text-align: right;\">        1</td><td style=\"text-align: right;\">        0</td><td style=\"text-align: right;\">-6.66839e-07</td><td style=\"text-align: right;\"> 4.69152e-06</td><td style=\"text-align: right;\">   6.11059</td><td style=\"text-align: right;\">  6.32949</td><td style=\"text-align: right;\">3.82605</td><td style=\"text-align: right;\"> 52.9779</td><td style=\"text-align: right;\"> 0.0645311</td><td style=\"text-align: right;\">    5</td><td style=\"text-align: right;\">       7.8954 </td><td style=\"text-align: right;\">           4.90812</td><td style=\"text-align: right;\">               1.01092 </td><td style=\"text-align: right;\">               0.325636</td><td style=\"text-align: right;\">               0.9464  </td><td style=\"text-align: right;\">               0.846109</td><td style=\"text-align: right;\">                  4.91001</td><td style=\"text-align: right;\">                   4.91015</td><td style=\"text-align: right;\">                   4.90959</td><td style=\"text-align: right;\">                   4.91014</td><td style=\"text-align: right;\">                      4.9088 </td><td style=\"text-align: right;\">                       4.90816</td><td style=\"text-align: right;\">                        4.90948</td><td style=\"text-align: right;\">            5.02348</td><td style=\"text-align: right;\">                14.957 </td><td style=\"text-align: right;\">              -5.13694</td><td style=\"text-align: right;\">            4.91052</td><td style=\"text-align: right;\">                14.731 </td><td style=\"text-align: right;\">              -4.91102</td><td style=\"text-align: right;\">             5.12187</td><td style=\"text-align: right;\">    5</td><td style=\"text-align: right;\">65    </td><td style=\"text-align: right;\">   -56</td><td style=\"text-align: right;\">4.89583</td><td style=\"text-align: right;\">          3.8356 </td><td style=\"text-align: right;\">          4.18325</td><td style=\"text-align: right;\">          99.6477</td><td style=\"text-align: right;\">         0.516398</td><td style=\"text-align: right;\">          1.2693 </td><td style=\"text-align: right;\">          1.64655</td><td style=\"text-align: right;\">          8.5479 </td><td style=\"text-align: right;\">          23.1094</td><td style=\"text-align: right;\">               -6.54311e-07</td><td style=\"text-align: right;\">                     75020.2</td><td style=\"text-align: right;\">              99.6477</td><td style=\"text-align: right;\">           4.90873</td><td style=\"text-align: right;\">           4.93129</td><td style=\"text-align: right;\">             107.6</td><td style=\"text-align: right;\">             -85.4</td><td style=\"text-align: right;\">             -9   </td><td style=\"text-align: right;\">               1.1</td><td style=\"text-align: right;\">               8.8</td><td style=\"text-align: right;\">             19.01</td><td style=\"text-align: right;\">                -1.00007e-05</td><td style=\"text-align: right;\">                      75010.8</td><td style=\"text-align: right;\">                 107.6</td><td style=\"text-align: right;\">           4.76115</td><td style=\"text-align: right;\">           5.55692</td><td style=\"text-align: right;\">           74.4601</td><td style=\"text-align: right;\">           1.98112</td><td style=\"text-align: right;\">           2.31473</td><td style=\"text-align: right;\">           2.49152</td><td style=\"text-align: right;\">          12.4138 </td><td style=\"text-align: right;\">           34.7182</td><td style=\"text-align: right;\">                 1.53615e-06</td><td style=\"text-align: right;\">                      75028.7</td><td style=\"text-align: right;\">               74.4601</td><td style=\"text-align: right;\">            4.90917</td><td style=\"text-align: right;\">           0.566267</td><td style=\"text-align: right;\">              14.41</td><td style=\"text-align: right;\">              -1.97</td><td style=\"text-align: right;\">               3.59</td><td style=\"text-align: right;\">               4.21</td><td style=\"text-align: right;\">               5.63</td><td style=\"text-align: right;\">               6.48</td><td style=\"text-align: right;\">                  6.67111e-07</td><td style=\"text-align: right;\">                       75024.6</td><td style=\"text-align: right;\">                  14.41</td><td style=\"text-align: right;\">            5.12187</td><td style=\"text-align: right;\">            5.21336</td><td style=\"text-align: right;\">            45.5324</td><td style=\"text-align: right;\">            2.54771</td><td style=\"text-align: right;\">            2.6287 </td><td style=\"text-align: right;\">            2.71917</td><td style=\"text-align: right;\">           13.9237 </td><td style=\"text-align: right;\">            31.9782</td><td style=\"text-align: right;\">                  3.53371e-05</td><td style=\"text-align: right;\">                       74426.2</td><td style=\"text-align: right;\">                45.5324</td><td style=\"text-align: right;\">             4.9102 </td><td style=\"text-align: right;\">            0.228005</td><td style=\"text-align: right;\">               6.078</td><td style=\"text-align: right;\">               3.918</td><td style=\"text-align: right;\">               4.434</td><td style=\"text-align: right;\">               4.543</td><td style=\"text-align: right;\">               5.306</td><td style=\"text-align: right;\">               5.491</td><td style=\"text-align: right;\">                   1.55034e-06</td><td style=\"text-align: right;\">                        74428.4</td><td style=\"text-align: right;\">                   6.078</td></tr>\n",
              "<tr><td style=\"text-align: right;\">4.91351</td><td style=\"text-align: right;\">5.43411</td><td style=\"text-align: right;\">  142</td><td style=\"text-align: right;\"> -144</td><td style=\"text-align: right;\">     -7.33338e-05</td><td style=\"text-align: right;\">           75045.7</td><td style=\"text-align: right;\">      144</td><td style=\"text-align: right;\">        0</td><td style=\"text-align: right;\">          4.44214</td><td style=\"text-align: right;\">         5.14526</td><td style=\"text-align: right;\">          3.66455</td><td style=\"text-align: right;\">         5.52939</td><td style=\"text-align: right;\">          5.07078</td><td style=\"text-align: right;\">         4.66792</td><td style=\"text-align: right;\">           4.7177</td><td style=\"text-align: right;\">          4.5103</td><td style=\"text-align: right;\">              -50</td><td style=\"text-align: right;\">             -55</td><td style=\"text-align: right;\">              -13</td><td style=\"text-align: right;\">             -46</td><td style=\"text-align: right;\">               53</td><td style=\"text-align: right;\">              58</td><td style=\"text-align: right;\">               24</td><td style=\"text-align: right;\">              49</td><td style=\"text-align: right;\">    0.986111</td><td style=\"text-align: right;\">               -2</td><td style=\"text-align: right;\">          0</td><td style=\"text-align: right;\">737027</td><td style=\"text-align: right;\">                       25027.7</td><td style=\"text-align: right;\">                      25133.3</td><td style=\"text-align: right;\">                       4973.44</td><td style=\"text-align: right;\">                      4993.21</td><td style=\"text-align: right;\">   12</td><td style=\"text-align: right;\">   19</td><td style=\"text-align: right;\">   -2</td><td style=\"text-align: right;\">  -10</td><td style=\"text-align: right;\">       12</td><td style=\"text-align: right;\">       22</td><td style=\"text-align: right;\">        1</td><td style=\"text-align: right;\">        0</td><td style=\"text-align: right;\">-3.78522e-06</td><td style=\"text-align: right;\">-5.33037e-07</td><td style=\"text-align: right;\">   5.69517</td><td style=\"text-align: right;\">  4.60838</td><td style=\"text-align: right;\">3.37839</td><td style=\"text-align: right;\"> 50.2151</td><td style=\"text-align: right;\">-0.100697 </td><td style=\"text-align: right;\">    5</td><td style=\"text-align: right;\">       7.21636</td><td style=\"text-align: right;\">           4.91277</td><td style=\"text-align: right;\">               0.941519</td><td style=\"text-align: right;\">               0.293493</td><td style=\"text-align: right;\">               0.951237</td><td style=\"text-align: right;\">               0.860447</td><td style=\"text-align: right;\">                  4.91421</td><td style=\"text-align: right;\">                   4.91593</td><td style=\"text-align: right;\">                   4.91995</td><td style=\"text-align: right;\">                   4.92765</td><td style=\"text-align: right;\">                      4.91418</td><td style=\"text-align: right;\">                       4.91913</td><td style=\"text-align: right;\">                        4.92255</td><td style=\"text-align: right;\">            4.45259</td><td style=\"text-align: right;\">                13.8194</td><td style=\"text-align: right;\">              -3.99097</td><td style=\"text-align: right;\">            4.35019</td><td style=\"text-align: right;\">                13.6146</td><td style=\"text-align: right;\">              -3.78617</td><td style=\"text-align: right;\">             4.53877</td><td style=\"text-align: right;\">    4</td><td style=\"text-align: right;\">42    </td><td style=\"text-align: right;\">   -32</td><td style=\"text-align: right;\">4.90996</td><td style=\"text-align: right;\">          3.61958</td><td style=\"text-align: right;\">          3.14592</td><td style=\"text-align: right;\">         109.493 </td><td style=\"text-align: right;\">         0.674949</td><td style=\"text-align: right;\">          1.31656</td><td style=\"text-align: right;\">          1.66333</td><td style=\"text-align: right;\">          7.72046</td><td style=\"text-align: right;\">          17.0037</td><td style=\"text-align: right;\">               -1.40598e-05</td><td style=\"text-align: right;\">                     75056  </td><td style=\"text-align: right;\">             109.493 </td><td style=\"text-align: right;\">           4.91345</td><td style=\"text-align: right;\">           2.97186</td><td style=\"text-align: right;\">              84.4</td><td style=\"text-align: right;\">             -80.7</td><td style=\"text-align: right;\">             -3.4 </td><td style=\"text-align: right;\">               1.5</td><td style=\"text-align: right;\">               8.3</td><td style=\"text-align: right;\">             13.1 </td><td style=\"text-align: right;\">                 8.00053e-06</td><td style=\"text-align: right;\">                      75045.7</td><td style=\"text-align: right;\">                  84.4</td><td style=\"text-align: right;\">           4.21395</td><td style=\"text-align: right;\">           3.44422</td><td style=\"text-align: right;\">           65.4122</td><td style=\"text-align: right;\">           1.98591</td><td style=\"text-align: right;\">           2.34878</td><td style=\"text-align: right;\">           2.5182 </td><td style=\"text-align: right;\">           9.15454</td><td style=\"text-align: right;\">           20.5354</td><td style=\"text-align: right;\">                -1.10265e-05</td><td style=\"text-align: right;\">                      75027.5</td><td style=\"text-align: right;\">               65.4122</td><td style=\"text-align: right;\">            4.91351</td><td style=\"text-align: right;\">           0.465614</td><td style=\"text-align: right;\">               9.78</td><td style=\"text-align: right;\">              -0.82</td><td style=\"text-align: right;\">               3.8 </td><td style=\"text-align: right;\">               4.19</td><td style=\"text-align: right;\">               5.64</td><td style=\"text-align: right;\">               6   </td><td style=\"text-align: right;\">                 -4.33622e-06</td><td style=\"text-align: right;\">                       75020.8</td><td style=\"text-align: right;\">                   9.78</td><td style=\"text-align: right;\">            4.53877</td><td style=\"text-align: right;\">            2.98888</td><td style=\"text-align: right;\">            26.0605</td><td style=\"text-align: right;\">            2.56405</td><td style=\"text-align: right;\">            2.65244</td><td style=\"text-align: right;\">            2.75136</td><td style=\"text-align: right;\">           11.0804 </td><td style=\"text-align: right;\">            17.1803</td><td style=\"text-align: right;\">                 -1.53209e-05</td><td style=\"text-align: right;\">                       74539.8</td><td style=\"text-align: right;\">                26.0605</td><td style=\"text-align: right;\">             4.91476</td><td style=\"text-align: right;\">            0.293941</td><td style=\"text-align: right;\">               5.838</td><td style=\"text-align: right;\">               4.042</td><td style=\"text-align: right;\">               4.27 </td><td style=\"text-align: right;\">               4.422</td><td style=\"text-align: right;\">               5.402</td><td style=\"text-align: right;\">               5.62 </td><td style=\"text-align: right;\">                  -3.69799e-06</td><td style=\"text-align: right;\">                        74539.9</td><td style=\"text-align: right;\">                   5.838</td></tr>\n",
              "<tr><td style=\"text-align: right;\">4.85566</td><td style=\"text-align: right;\">5.68782</td><td style=\"text-align: right;\">  120</td><td style=\"text-align: right;\">  -78</td><td style=\"text-align: right;\">      3.33336e-05</td><td style=\"text-align: right;\">           75084.5</td><td style=\"text-align: right;\">      120</td><td style=\"text-align: right;\">        0</td><td style=\"text-align: right;\">          5.94437</td><td style=\"text-align: right;\">         5.38687</td><td style=\"text-align: right;\">          3.21368</td><td style=\"text-align: right;\">         3.68243</td><td style=\"text-align: right;\">          4.90378</td><td style=\"text-align: right;\">         4.76426</td><td style=\"text-align: right;\">           4.8148</td><td style=\"text-align: right;\">          4.7971</td><td style=\"text-align: right;\">              -70</td><td style=\"text-align: right;\">             -58</td><td style=\"text-align: right;\">              -13</td><td style=\"text-align: right;\">             -14</td><td style=\"text-align: right;\">              107</td><td style=\"text-align: right;\">              72</td><td style=\"text-align: right;\">               24</td><td style=\"text-align: right;\">              23</td><td style=\"text-align: right;\">    1.53846 </td><td style=\"text-align: right;\">               42</td><td style=\"text-align: right;\">          0</td><td style=\"text-align: right;\">728349</td><td style=\"text-align: right;\">                       25148.3</td><td style=\"text-align: right;\">                      25001  </td><td style=\"text-align: right;\">                       4990.43</td><td style=\"text-align: right;\">                      5000.31</td><td style=\"text-align: right;\">   12</td><td style=\"text-align: right;\">   21</td><td style=\"text-align: right;\">   -2</td><td style=\"text-align: right;\">  -12</td><td style=\"text-align: right;\">       13</td><td style=\"text-align: right;\">       24</td><td style=\"text-align: right;\">        1</td><td style=\"text-align: right;\">        0</td><td style=\"text-align: right;\">-1.19605e-06</td><td style=\"text-align: right;\"> 1.88208e-08</td><td style=\"text-align: right;\">   5.79101</td><td style=\"text-align: right;\">  4.73212</td><td style=\"text-align: right;\">3.5608 </td><td style=\"text-align: right;\"> 23.173 </td><td style=\"text-align: right;\"> 0.20881  </td><td style=\"text-align: right;\">    5</td><td style=\"text-align: right;\">       7.42613</td><td style=\"text-align: right;\">           4.85495</td><td style=\"text-align: right;\">               0.949465</td><td style=\"text-align: right;\">               0.307625</td><td style=\"text-align: right;\">               0.954778</td><td style=\"text-align: right;\">               0.847623</td><td style=\"text-align: right;\">                  4.85651</td><td style=\"text-align: right;\">                   4.85731</td><td style=\"text-align: right;\">                   4.85912</td><td style=\"text-align: right;\">                   4.86076</td><td style=\"text-align: right;\">                      4.85583</td><td style=\"text-align: right;\">                       4.85578</td><td style=\"text-align: right;\">                        4.85551</td><td style=\"text-align: right;\">            4.70401</td><td style=\"text-align: right;\">                14.2645</td><td style=\"text-align: right;\">              -4.5515 </td><td style=\"text-align: right;\">            4.58581</td><td style=\"text-align: right;\">                14.0281</td><td style=\"text-align: right;\">              -4.3151 </td><td style=\"text-align: right;\">             4.79926</td><td style=\"text-align: right;\">    5</td><td style=\"text-align: right;\">43    </td><td style=\"text-align: right;\">   -33</td><td style=\"text-align: right;\">4.85309</td><td style=\"text-align: right;\">          3.79356</td><td style=\"text-align: right;\">          3.33522</td><td style=\"text-align: right;\">          82.0412</td><td style=\"text-align: right;\">         0.483046</td><td style=\"text-align: right;\">          1.28668</td><td style=\"text-align: right;\">          1.66333</td><td style=\"text-align: right;\">          8.94986</td><td style=\"text-align: right;\">          18.7052</td><td style=\"text-align: right;\">               -8.80773e-06</td><td style=\"text-align: right;\">                     75033.4</td><td style=\"text-align: right;\">              82.0412</td><td style=\"text-align: right;\">           4.85569</td><td style=\"text-align: right;\">           3.0642 </td><td style=\"text-align: right;\">              63.2</td><td style=\"text-align: right;\">             -41.5</td><td style=\"text-align: right;\">             -4.5 </td><td style=\"text-align: right;\">               1.2</td><td style=\"text-align: right;\">               8.5</td><td style=\"text-align: right;\">             14.2 </td><td style=\"text-align: right;\">                 8.66724e-06</td><td style=\"text-align: right;\">                      75028.3</td><td style=\"text-align: right;\">                  63.2</td><td style=\"text-align: right;\">           4.42743</td><td style=\"text-align: right;\">           3.59287</td><td style=\"text-align: right;\">           45.4478</td><td style=\"text-align: right;\">           1.93163</td><td style=\"text-align: right;\">           2.3262 </td><td style=\"text-align: right;\">           2.50664</td><td style=\"text-align: right;\">          10.9963 </td><td style=\"text-align: right;\">           20.5638</td><td style=\"text-align: right;\">                -2.79371e-06</td><td style=\"text-align: right;\">                      74904.1</td><td style=\"text-align: right;\">               45.4478</td><td style=\"text-align: right;\">            4.85571</td><td style=\"text-align: right;\">           0.426399</td><td style=\"text-align: right;\">               9.25</td><td style=\"text-align: right;\">              -0.11</td><td style=\"text-align: right;\">               3.81</td><td style=\"text-align: right;\">               4.19</td><td style=\"text-align: right;\">               5.51</td><td style=\"text-align: right;\">               5.94</td><td style=\"text-align: right;\">                 -1.60107e-06</td><td style=\"text-align: right;\">                       74902.6</td><td style=\"text-align: right;\">                   9.25</td><td style=\"text-align: right;\">            4.79926</td><td style=\"text-align: right;\">            3.0768 </td><td style=\"text-align: right;\">            21.41  </td><td style=\"text-align: right;\">            2.55879</td><td style=\"text-align: right;\">            2.63932</td><td style=\"text-align: right;\">            2.72   </td><td style=\"text-align: right;\">           11.6029 </td><td style=\"text-align: right;\">            17.7389</td><td style=\"text-align: right;\">                 -9.76894e-06</td><td style=\"text-align: right;\">                       74502.7</td><td style=\"text-align: right;\">                21.41  </td><td style=\"text-align: right;\">             4.85683</td><td style=\"text-align: right;\">            0.219472</td><td style=\"text-align: right;\">               5.546</td><td style=\"text-align: right;\">               3.958</td><td style=\"text-align: right;\">               4.285</td><td style=\"text-align: right;\">               4.504</td><td style=\"text-align: right;\">               5.214</td><td style=\"text-align: right;\">               5.37 </td><td style=\"text-align: right;\">                  -1.14094e-07</td><td style=\"text-align: right;\">                        74501.9</td><td style=\"text-align: right;\">                   5.546</td></tr>\n",
              "<tr><td style=\"text-align: right;\">4.50543</td><td style=\"text-align: right;\">5.85451</td><td style=\"text-align: right;\">  139</td><td style=\"text-align: right;\"> -134</td><td style=\"text-align: right;\">      0          </td><td style=\"text-align: right;\">           75066  </td><td style=\"text-align: right;\">      139</td><td style=\"text-align: right;\">        0</td><td style=\"text-align: right;\">          6.06975</td><td style=\"text-align: right;\">         7.07818</td><td style=\"text-align: right;\">          7.9158 </td><td style=\"text-align: right;\">         3.41018</td><td style=\"text-align: right;\">          4.50644</td><td style=\"text-align: right;\">         4.40278</td><td style=\"text-align: right;\">           4.5663</td><td style=\"text-align: right;\">          4.3904</td><td style=\"text-align: right;\">              -89</td><td style=\"text-align: right;\">            -134</td><td style=\"text-align: right;\">              -85</td><td style=\"text-align: right;\">             -14</td><td style=\"text-align: right;\">              103</td><td style=\"text-align: right;\">             139</td><td style=\"text-align: right;\">               94</td><td style=\"text-align: right;\">              22</td><td style=\"text-align: right;\">    1.03731 </td><td style=\"text-align: right;\">                5</td><td style=\"text-align: right;\">          0</td><td style=\"text-align: right;\">675814</td><td style=\"text-align: right;\">                       24968  </td><td style=\"text-align: right;\">                      24991.6</td><td style=\"text-align: right;\">                       5036   </td><td style=\"text-align: right;\">                      4987.83</td><td style=\"text-align: right;\">   11</td><td style=\"text-align: right;\">   20</td><td style=\"text-align: right;\">   -2</td><td style=\"text-align: right;\">  -11</td><td style=\"text-align: right;\">       12</td><td style=\"text-align: right;\">       24</td><td style=\"text-align: right;\">        1</td><td style=\"text-align: right;\">        0</td><td style=\"text-align: right;\">-1.10116e-06</td><td style=\"text-align: right;\">-2.61981e-07</td><td style=\"text-align: right;\">   5.415  </td><td style=\"text-align: right;\">  5.02513</td><td style=\"text-align: right;\">3.35804</td><td style=\"text-align: right;\"> 52.3887</td><td style=\"text-align: right;\">-0.176333 </td><td style=\"text-align: right;\">    5</td><td style=\"text-align: right;\">       6.95378</td><td style=\"text-align: right;\">           4.5047 </td><td style=\"text-align: right;\">               0.933899</td><td style=\"text-align: right;\">               0.448537</td><td style=\"text-align: right;\">               0.95091 </td><td style=\"text-align: right;\">               0.823935</td><td style=\"text-align: right;\">                  4.50446</td><td style=\"text-align: right;\">                   4.5034 </td><td style=\"text-align: right;\">                   4.50241</td><td style=\"text-align: right;\">                   4.50202</td><td style=\"text-align: right;\">                      4.50537</td><td style=\"text-align: right;\">                       4.50752</td><td style=\"text-align: right;\">                        4.50991</td><td style=\"text-align: right;\">            4.40919</td><td style=\"text-align: right;\">                13.3228</td><td style=\"text-align: right;\">              -4.31392</td><td style=\"text-align: right;\">            4.3005 </td><td style=\"text-align: right;\">                13.1055</td><td style=\"text-align: right;\">              -4.09654</td><td style=\"text-align: right;\">             4.5031 </td><td style=\"text-align: right;\">    5</td><td style=\"text-align: right;\">50    </td><td style=\"text-align: right;\">   -43</td><td style=\"text-align: right;\">4.51125</td><td style=\"text-align: right;\">          3.56938</td><td style=\"text-align: right;\">          3.60352</td><td style=\"text-align: right;\">          90.978 </td><td style=\"text-align: right;\">         0.471405</td><td style=\"text-align: right;\">          1.2693 </td><td style=\"text-align: right;\">          1.63639</td><td style=\"text-align: right;\">          7.48851</td><td style=\"text-align: right;\">          19.8782</td><td style=\"text-align: right;\">               -9.3896e-06 </td><td style=\"text-align: right;\">                     75034.6</td><td style=\"text-align: right;\">              90.978 </td><td style=\"text-align: right;\">           4.50549</td><td style=\"text-align: right;\">           3.33518</td><td style=\"text-align: right;\">              93.9</td><td style=\"text-align: right;\">             -91.4</td><td style=\"text-align: right;\">             -4.5 </td><td style=\"text-align: right;\">               1.4</td><td style=\"text-align: right;\">               7.6</td><td style=\"text-align: right;\">             13.5 </td><td style=\"text-align: right;\">                 7.33382e-06</td><td style=\"text-align: right;\">                      75020.8</td><td style=\"text-align: right;\">                  93.9</td><td style=\"text-align: right;\">           4.16124</td><td style=\"text-align: right;\">           4.1383 </td><td style=\"text-align: right;\">           57.5208</td><td style=\"text-align: right;\">           1.94518</td><td style=\"text-align: right;\">           2.30993</td><td style=\"text-align: right;\">           2.47041</td><td style=\"text-align: right;\">           9.42308</td><td style=\"text-align: right;\">           25.8194</td><td style=\"text-align: right;\">                 2.1916e-06 </td><td style=\"text-align: right;\">                      74981.5</td><td style=\"text-align: right;\">               57.5208</td><td style=\"text-align: right;\">            4.50513</td><td style=\"text-align: right;\">           0.439831</td><td style=\"text-align: right;\">              10.53</td><td style=\"text-align: right;\">              -3.38</td><td style=\"text-align: right;\">               3.45</td><td style=\"text-align: right;\">               3.87</td><td style=\"text-align: right;\">               5.13</td><td style=\"text-align: right;\">               5.47</td><td style=\"text-align: right;\">                  3.80254e-06</td><td style=\"text-align: right;\">                       74972.8</td><td style=\"text-align: right;\">                  10.53</td><td style=\"text-align: right;\">            4.5031 </td><td style=\"text-align: right;\">            3.7631 </td><td style=\"text-align: right;\">            26.4287</td><td style=\"text-align: right;\">            2.54112</td><td style=\"text-align: right;\">            2.62444</td><td style=\"text-align: right;\">            2.70145</td><td style=\"text-align: right;\">           11.452  </td><td style=\"text-align: right;\">            22.889 </td><td style=\"text-align: right;\">                 -3.53146e-07</td><td style=\"text-align: right;\">                       74515.9</td><td style=\"text-align: right;\">                26.4287</td><td style=\"text-align: right;\">             4.50415</td><td style=\"text-align: right;\">            0.218514</td><td style=\"text-align: right;\">               5.18 </td><td style=\"text-align: right;\">               3.489</td><td style=\"text-align: right;\">               4.04 </td><td style=\"text-align: right;\">               4.148</td><td style=\"text-align: right;\">               4.863</td><td style=\"text-align: right;\">               4.953</td><td style=\"text-align: right;\">                  -1.39597e-06</td><td style=\"text-align: right;\">                        74515.9</td><td style=\"text-align: right;\">                   5.18 </td></tr>\n",
              "<tr><td style=\"text-align: right;\">4.71783</td><td style=\"text-align: right;\">7.78964</td><td style=\"text-align: right;\">  168</td><td style=\"text-align: right;\"> -156</td><td style=\"text-align: right;\">      1.33334e-05</td><td style=\"text-align: right;\">           74992.6</td><td style=\"text-align: right;\">      168</td><td style=\"text-align: right;\">        0</td><td style=\"text-align: right;\">          9.28804</td><td style=\"text-align: right;\">         5.9931 </td><td style=\"text-align: right;\">         12.9236 </td><td style=\"text-align: right;\">         3.91285</td><td style=\"text-align: right;\">          4.60864</td><td style=\"text-align: right;\">         4.76678</td><td style=\"text-align: right;\">           4.6858</td><td style=\"text-align: right;\">          4.5302</td><td style=\"text-align: right;\">             -156</td><td style=\"text-align: right;\">             -94</td><td style=\"text-align: right;\">             -145</td><td style=\"text-align: right;\">             -14</td><td style=\"text-align: right;\">              168</td><td style=\"text-align: right;\">             128</td><td style=\"text-align: right;\">              132</td><td style=\"text-align: right;\">              37</td><td style=\"text-align: right;\">    1.07692 </td><td style=\"text-align: right;\">               12</td><td style=\"text-align: right;\">          0</td><td style=\"text-align: right;\">707675</td><td style=\"text-align: right;\">                       24958.9</td><td style=\"text-align: right;\">                      25022  </td><td style=\"text-align: right;\">                       4954.2 </td><td style=\"text-align: right;\">                      4977.5 </td><td style=\"text-align: right;\">   13</td><td style=\"text-align: right;\">   26</td><td style=\"text-align: right;\">   -3</td><td style=\"text-align: right;\">  -16</td><td style=\"text-align: right;\">       14</td><td style=\"text-align: right;\">       31</td><td style=\"text-align: right;\">        1</td><td style=\"text-align: right;\">        0</td><td style=\"text-align: right;\"> 1.37338e-06</td><td style=\"text-align: right;\">-5.99736e-06</td><td style=\"text-align: right;\">   6.15227</td><td style=\"text-align: right;\">  6.7146 </td><td style=\"text-align: right;\">4.14965</td><td style=\"text-align: right;\"> 65.3603</td><td style=\"text-align: right;\">-0.160166 </td><td style=\"text-align: right;\">    5</td><td style=\"text-align: right;\">       8.15489</td><td style=\"text-align: right;\">           4.7172 </td><td style=\"text-align: right;\">               0.925045</td><td style=\"text-align: right;\">               0.228625</td><td style=\"text-align: right;\">               0.939243</td><td style=\"text-align: right;\">               0.840764</td><td style=\"text-align: right;\">                  4.7184 </td><td style=\"text-align: right;\">                   4.71846</td><td style=\"text-align: right;\">                   4.71974</td><td style=\"text-align: right;\">                   4.72257</td><td style=\"text-align: right;\">                      4.71764</td><td style=\"text-align: right;\">                       4.71647</td><td style=\"text-align: right;\">                        4.71717</td><td style=\"text-align: right;\">            5.55578</td><td style=\"text-align: right;\">                15.83  </td><td style=\"text-align: right;\">              -6.39316</td><td style=\"text-align: right;\">            5.3811 </td><td style=\"text-align: right;\">                15.4806</td><td style=\"text-align: right;\">              -6.04379</td><td style=\"text-align: right;\">             5.69523</td><td style=\"text-align: right;\">    5</td><td style=\"text-align: right;\">68    </td><td style=\"text-align: right;\">   -59</td><td style=\"text-align: right;\">4.70973</td><td style=\"text-align: right;\">          4.28149</td><td style=\"text-align: right;\">          5.22041</td><td style=\"text-align: right;\">         129.662 </td><td style=\"text-align: right;\">         0.483046</td><td style=\"text-align: right;\">          1.33333</td><td style=\"text-align: right;\">          1.70294</td><td style=\"text-align: right;\">         10.3926 </td><td style=\"text-align: right;\">          25.6326</td><td style=\"text-align: right;\">                7.6257e-06 </td><td style=\"text-align: right;\">                     74920.2</td><td style=\"text-align: right;\">             129.662 </td><td style=\"text-align: right;\">           4.71798</td><td style=\"text-align: right;\">           4.43345</td><td style=\"text-align: right;\">              89.2</td><td style=\"text-align: right;\">             -87.4</td><td style=\"text-align: right;\">             -7.4 </td><td style=\"text-align: right;\">               0.3</td><td style=\"text-align: right;\">               9.1</td><td style=\"text-align: right;\">             17.2 </td><td style=\"text-align: right;\">                 1.13341e-05</td><td style=\"text-align: right;\">                      74914.6</td><td style=\"text-align: right;\">                  89.2</td><td style=\"text-align: right;\">           5.15628</td><td style=\"text-align: right;\">           5.8698 </td><td style=\"text-align: right;\">          101.179 </td><td style=\"text-align: right;\">           2.07951</td><td style=\"text-align: right;\">           2.38419</td><td style=\"text-align: right;\">           2.5728 </td><td style=\"text-align: right;\">          13.0924 </td><td style=\"text-align: right;\">           29.5505</td><td style=\"text-align: right;\">                -8.06852e-06</td><td style=\"text-align: right;\">                      74912.8</td><td style=\"text-align: right;\">              101.179 </td><td style=\"text-align: right;\">            4.71806</td><td style=\"text-align: right;\">           0.527255</td><td style=\"text-align: right;\">              11.71</td><td style=\"text-align: right;\">              -3.46</td><td style=\"text-align: right;\">               3.48</td><td style=\"text-align: right;\">               4   </td><td style=\"text-align: right;\">               5.44</td><td style=\"text-align: right;\">               6.11</td><td style=\"text-align: right;\">                 -1.8012e-06 </td><td style=\"text-align: right;\">                       74906.9</td><td style=\"text-align: right;\">                  11.71</td><td style=\"text-align: right;\">            5.69523</td><td style=\"text-align: right;\">            5.32829</td><td style=\"text-align: right;\">            42.7315</td><td style=\"text-align: right;\">            2.57471</td><td style=\"text-align: right;\">            2.73097</td><td style=\"text-align: right;\">            2.81478</td><td style=\"text-align: right;\">           13.9516 </td><td style=\"text-align: right;\">            34.0811</td><td style=\"text-align: right;\">                 -5.30915e-05</td><td style=\"text-align: right;\">                       74463.8</td><td style=\"text-align: right;\">                42.7315</td><td style=\"text-align: right;\">             4.7184 </td><td style=\"text-align: right;\">            0.240917</td><td style=\"text-align: right;\">               5.717</td><td style=\"text-align: right;\">               3.933</td><td style=\"text-align: right;\">               4.158</td><td style=\"text-align: right;\">               4.315</td><td style=\"text-align: right;\">               5.104</td><td style=\"text-align: right;\">               5.337</td><td style=\"text-align: right;\">                   2.22148e-06</td><td style=\"text-align: right;\">                        74464.3</td><td style=\"text-align: right;\">                   5.717</td></tr>\n",
              "<tr><td style=\"text-align: right;\">4.73096</td><td style=\"text-align: right;\">6.89046</td><td style=\"text-align: right;\">  152</td><td style=\"text-align: right;\"> -126</td><td style=\"text-align: right;\">     -6.66671e-06</td><td style=\"text-align: right;\">           74902.6</td><td style=\"text-align: right;\">      152</td><td style=\"text-align: right;\">        0</td><td style=\"text-align: right;\">          9.01269</td><td style=\"text-align: right;\">         4.94403</td><td style=\"text-align: right;\">          4.01256</td><td style=\"text-align: right;\">         3.57441</td><td style=\"text-align: right;\">          4.55136</td><td style=\"text-align: right;\">         4.86164</td><td style=\"text-align: right;\">           4.3961</td><td style=\"text-align: right;\">          5.059 </td><td style=\"text-align: right;\">             -126</td><td style=\"text-align: right;\">             -61</td><td style=\"text-align: right;\">              -20</td><td style=\"text-align: right;\">             -20</td><td style=\"text-align: right;\">              152</td><td style=\"text-align: right;\">              56</td><td style=\"text-align: right;\">               32</td><td style=\"text-align: right;\">              32</td><td style=\"text-align: right;\">    1.20635 </td><td style=\"text-align: right;\">               26</td><td style=\"text-align: right;\">          0</td><td style=\"text-align: right;\">709644</td><td style=\"text-align: right;\">                       25118.4</td><td style=\"text-align: right;\">                      24986  </td><td style=\"text-align: right;\">                       4993.37</td><td style=\"text-align: right;\">                      4994.82</td><td style=\"text-align: right;\">   12</td><td style=\"text-align: right;\">   23</td><td style=\"text-align: right;\">   -3</td><td style=\"text-align: right;\">  -14</td><td style=\"text-align: right;\">       13</td><td style=\"text-align: right;\">       28</td><td style=\"text-align: right;\">        1</td><td style=\"text-align: right;\">        0</td><td style=\"text-align: right;\"> 3.33458e-06</td><td style=\"text-align: right;\">-4.62363e-06</td><td style=\"text-align: right;\">   5.92512</td><td style=\"text-align: right;\">  5.89519</td><td style=\"text-align: right;\">3.84346</td><td style=\"text-align: right;\"> 53.7602</td><td style=\"text-align: right;\"> 0.150779 </td><td style=\"text-align: right;\">    5</td><td style=\"text-align: right;\">       7.74248</td><td style=\"text-align: right;\">           4.73027</td><td style=\"text-align: right;\">               0.979664</td><td style=\"text-align: right;\">               0.209668</td><td style=\"text-align: right;\">               0.957219</td><td style=\"text-align: right;\">               0.832427</td><td style=\"text-align: right;\">                  4.73104</td><td style=\"text-align: right;\">                   4.73183</td><td style=\"text-align: right;\">                   4.73173</td><td style=\"text-align: right;\">                   4.73038</td><td style=\"text-align: right;\">                      4.73052</td><td style=\"text-align: right;\">                       4.72332</td><td style=\"text-align: right;\">                        4.7161 </td><td style=\"text-align: right;\">            5.09338</td><td style=\"text-align: right;\">                14.9178</td><td style=\"text-align: right;\">              -5.45571</td><td style=\"text-align: right;\">            4.95241</td><td style=\"text-align: right;\">                14.6359</td><td style=\"text-align: right;\">              -5.17378</td><td style=\"text-align: right;\">             5.20957</td><td style=\"text-align: right;\">    5</td><td style=\"text-align: right;\">60    </td><td style=\"text-align: right;\">   -49</td><td style=\"text-align: right;\">4.72732</td><td style=\"text-align: right;\">          3.99045</td><td style=\"text-align: right;\">          4.20326</td><td style=\"text-align: right;\">         101.492 </td><td style=\"text-align: right;\">         0.483046</td><td style=\"text-align: right;\">          1.31656</td><td style=\"text-align: right;\">          1.68655</td><td style=\"text-align: right;\">          9.33482</td><td style=\"text-align: right;\">          22.1152</td><td style=\"text-align: right;\">               -3.93747e-06</td><td style=\"text-align: right;\">                     74868.8</td><td style=\"text-align: right;\">             101.492 </td><td style=\"text-align: right;\">           4.7309 </td><td style=\"text-align: right;\">           4.15315</td><td style=\"text-align: right;\">             102.8</td><td style=\"text-align: right;\">             -90.9</td><td style=\"text-align: right;\">             -6.5 </td><td style=\"text-align: right;\">               0.8</td><td style=\"text-align: right;\">               8.7</td><td style=\"text-align: right;\">             15.81</td><td style=\"text-align: right;\">                -9.33396e-06</td><td style=\"text-align: right;\">                      74858.7</td><td style=\"text-align: right;\">                 102.8</td><td style=\"text-align: right;\">           4.77763</td><td style=\"text-align: right;\">           4.98794</td><td style=\"text-align: right;\">           68.875 </td><td style=\"text-align: right;\">           2.07496</td><td style=\"text-align: right;\">           2.34594</td><td style=\"text-align: right;\">           2.51611</td><td style=\"text-align: right;\">          11.7347 </td><td style=\"text-align: right;\">           26.3796</td><td style=\"text-align: right;\">                -4.13442e-06</td><td style=\"text-align: right;\">                      74811.8</td><td style=\"text-align: right;\">               68.875 </td><td style=\"text-align: right;\">            4.73107</td><td style=\"text-align: right;\">           0.525251</td><td style=\"text-align: right;\">              14.86</td><td style=\"text-align: right;\">              -4.64</td><td style=\"text-align: right;\">               3.57</td><td style=\"text-align: right;\">               4.01</td><td style=\"text-align: right;\">               5.45</td><td style=\"text-align: right;\">               5.86</td><td style=\"text-align: right;\">                  7.13809e-06</td><td style=\"text-align: right;\">                       74806.1</td><td style=\"text-align: right;\">                  14.86</td><td style=\"text-align: right;\">            5.20957</td><td style=\"text-align: right;\">            4.53689</td><td style=\"text-align: right;\">            43.0008</td><td style=\"text-align: right;\">            2.58388</td><td style=\"text-align: right;\">            2.65499</td><td style=\"text-align: right;\">            2.74679</td><td style=\"text-align: right;\">           13.8959 </td><td style=\"text-align: right;\">            24.5593</td><td style=\"text-align: right;\">                 -7.39517e-07</td><td style=\"text-align: right;\">                       74342.3</td><td style=\"text-align: right;\">                43.0008</td><td style=\"text-align: right;\">             4.73138</td><td style=\"text-align: right;\">            0.258462</td><td style=\"text-align: right;\">               5.423</td><td style=\"text-align: right;\">               3.832</td><td style=\"text-align: right;\">               4.19 </td><td style=\"text-align: right;\">               4.301</td><td style=\"text-align: right;\">               5.128</td><td style=\"text-align: right;\">               5.261</td><td style=\"text-align: right;\">                   5.12752e-06</td><td style=\"text-align: right;\">                        74344.2</td><td style=\"text-align: right;\">                   5.423</td></tr>\n",
              "</tbody>\n",
              "</table>"
            ]
          },
          "metadata": {
            "tags": []
          }
        },
        {
          "output_type": "execute_result",
          "data": {
            "text/plain": [
              ""
            ]
          },
          "metadata": {
            "tags": []
          },
          "execution_count": 21
        }
      ]
    },
    {
      "cell_type": "code",
      "metadata": {
        "id": "WMyG-MyBpeWZ",
        "colab_type": "code",
        "colab": {}
      },
      "source": [
        "train['time_to_failure'] = y_train['time_to_failure']"
      ],
      "execution_count": 0,
      "outputs": []
    },
    {
      "cell_type": "code",
      "metadata": {
        "id": "1puBcQXfplFJ",
        "colab_type": "code",
        "outputId": "5ae371c6-9c42-43d1-da1a-64dd12e7709e",
        "colab": {
          "base_uri": "https://localhost:8080/",
          "height": 67
        }
      },
      "source": [
        "%%time\n",
        "x = test.columns\n",
        "y = 'time_to_failure'\n",
        "\n",
        "aml = H2OAutoML(max_models=100, max_runtime_secs=3600, stopping_metric='MAE') # seed=33,\n",
        "aml.train(x=x, y=y, training_frame=train)"
      ],
      "execution_count": 0,
      "outputs": [
        {
          "output_type": "stream",
          "text": [
            "AutoML progress: |████████████████████████████████████████████████████████| 100%\n",
            "CPU times: user 10.3 s, sys: 1.08 s, total: 11.4 s\n",
            "Wall time: 46min 14s\n"
          ],
          "name": "stdout"
        }
      ]
    },
    {
      "cell_type": "code",
      "metadata": {
        "id": "j29_VXtgqMIa",
        "colab_type": "code",
        "outputId": "d7651c42-f095-4eb9-b88b-f0377534bb35",
        "colab": {
          "base_uri": "https://localhost:8080/",
          "height": 2598
        }
      },
      "source": [
        "# View the AutoML Leaderboard\n",
        "lb = aml.leaderboard\n",
        "lb.head(rows=lb.nrows)  # Print all rows instead of default (10 rows)"
      ],
      "execution_count": 0,
      "outputs": [
        {
          "output_type": "display_data",
          "data": {
            "text/html": [
              "<table>\n",
              "<thead>\n",
              "<tr><th>model_id                                           </th><th style=\"text-align: right;\">  mean_residual_deviance</th><th style=\"text-align: right;\">   rmse</th><th style=\"text-align: right;\">     mse</th><th style=\"text-align: right;\">    mae</th><th style=\"text-align: right;\">     rmsle</th></tr>\n",
              "</thead>\n",
              "<tbody>\n",
              "<tr><td>GBM_grid_1_AutoML_20190521_101044_model_9          </td><td style=\"text-align: right;\">                 7.04533</td><td style=\"text-align: right;\">2.6543 </td><td style=\"text-align: right;\"> 7.04533</td><td style=\"text-align: right;\">2.0712 </td><td style=\"text-align: right;\">  0.510846</td></tr>\n",
              "<tr><td>GBM_grid_1_AutoML_20190521_084240_model_29         </td><td style=\"text-align: right;\">                 7.06034</td><td style=\"text-align: right;\">2.65713</td><td style=\"text-align: right;\"> 7.06034</td><td style=\"text-align: right;\">2.0784 </td><td style=\"text-align: right;\">  0.512125</td></tr>\n",
              "<tr><td>GBM_grid_1_AutoML_20190521_101044_model_12         </td><td style=\"text-align: right;\">                 7.06723</td><td style=\"text-align: right;\">2.65843</td><td style=\"text-align: right;\"> 7.06723</td><td style=\"text-align: right;\">2.07569</td><td style=\"text-align: right;\">  0.5129  </td></tr>\n",
              "<tr><td>GBM_grid_1_AutoML_20190521_084240_model_53         </td><td style=\"text-align: right;\">                 7.0928 </td><td style=\"text-align: right;\">2.66323</td><td style=\"text-align: right;\"> 7.0928 </td><td style=\"text-align: right;\">2.06949</td><td style=\"text-align: right;\">  0.510405</td></tr>\n",
              "<tr><td>GBM_grid_1_AutoML_20190521_084240_model_14         </td><td style=\"text-align: right;\">                 7.09696</td><td style=\"text-align: right;\">2.66401</td><td style=\"text-align: right;\"> 7.09696</td><td style=\"text-align: right;\">2.0739 </td><td style=\"text-align: right;\">  0.510519</td></tr>\n",
              "<tr><td>GBM_5_AutoML_20190521_101044                       </td><td style=\"text-align: right;\">                 7.1001 </td><td style=\"text-align: right;\">2.6646 </td><td style=\"text-align: right;\"> 7.1001 </td><td style=\"text-align: right;\">2.07294</td><td style=\"text-align: right;\">  0.510387</td></tr>\n",
              "<tr><td>GBM_grid_1_AutoML_20190521_084240_model_17         </td><td style=\"text-align: right;\">                 7.11195</td><td style=\"text-align: right;\">2.66682</td><td style=\"text-align: right;\"> 7.11195</td><td style=\"text-align: right;\">2.07862</td><td style=\"text-align: right;\">  0.511922</td></tr>\n",
              "<tr><td>XGBoost_grid_1_AutoML_20190521_084240_model_8      </td><td style=\"text-align: right;\">                 7.12039</td><td style=\"text-align: right;\">2.66841</td><td style=\"text-align: right;\"> 7.12039</td><td style=\"text-align: right;\">2.06507</td><td style=\"text-align: right;\">  0.507323</td></tr>\n",
              "<tr><td>GBM_5_AutoML_20190521_084240                       </td><td style=\"text-align: right;\">                 7.12392</td><td style=\"text-align: right;\">2.66907</td><td style=\"text-align: right;\"> 7.12392</td><td style=\"text-align: right;\">2.07954</td><td style=\"text-align: right;\">  0.511664</td></tr>\n",
              "<tr><td>XGBoost_3_AutoML_20190521_084240                   </td><td style=\"text-align: right;\">                 7.1484 </td><td style=\"text-align: right;\">2.67365</td><td style=\"text-align: right;\"> 7.1484 </td><td style=\"text-align: right;\">2.06226</td><td style=\"text-align: right;\">  0.506703</td></tr>\n",
              "<tr><td>GBM_grid_1_AutoML_20190521_101044_model_4          </td><td style=\"text-align: right;\">                 7.16418</td><td style=\"text-align: right;\">2.6766 </td><td style=\"text-align: right;\"> 7.16418</td><td style=\"text-align: right;\">2.07996</td><td style=\"text-align: right;\">  0.51163 </td></tr>\n",
              "<tr><td>XGBoost_3_AutoML_20190521_101044                   </td><td style=\"text-align: right;\">                 7.17156</td><td style=\"text-align: right;\">2.67798</td><td style=\"text-align: right;\"> 7.17156</td><td style=\"text-align: right;\">2.05523</td><td style=\"text-align: right;\">  0.503022</td></tr>\n",
              "<tr><td>XGBoost_grid_1_AutoML_20190521_084240_model_4      </td><td style=\"text-align: right;\">                 7.18632</td><td style=\"text-align: right;\">2.68073</td><td style=\"text-align: right;\"> 7.18632</td><td style=\"text-align: right;\">2.07422</td><td style=\"text-align: right;\">  0.509166</td></tr>\n",
              "<tr><td>XGBoost_grid_1_AutoML_20190521_101044_model_1      </td><td style=\"text-align: right;\">                 7.21014</td><td style=\"text-align: right;\">2.68517</td><td style=\"text-align: right;\"> 7.21014</td><td style=\"text-align: right;\">2.07352</td><td style=\"text-align: right;\">  0.508267</td></tr>\n",
              "<tr><td>GBM_grid_1_AutoML_20190521_084240_model_26         </td><td style=\"text-align: right;\">                 7.21726</td><td style=\"text-align: right;\">2.6865 </td><td style=\"text-align: right;\"> 7.21726</td><td style=\"text-align: right;\">2.08794</td><td style=\"text-align: right;\">  0.513757</td></tr>\n",
              "<tr><td>XGBoost_grid_1_AutoML_20190521_084240_model_14     </td><td style=\"text-align: right;\">                 7.21989</td><td style=\"text-align: right;\">2.68699</td><td style=\"text-align: right;\"> 7.21989</td><td style=\"text-align: right;\">2.07479</td><td style=\"text-align: right;\">  0.509586</td></tr>\n",
              "<tr><td>XGBoost_grid_1_AutoML_20190521_084240_model_10     </td><td style=\"text-align: right;\">                 7.22501</td><td style=\"text-align: right;\">2.68794</td><td style=\"text-align: right;\"> 7.22501</td><td style=\"text-align: right;\">2.07894</td><td style=\"text-align: right;\">  0.511025</td></tr>\n",
              "<tr><td>GBM_grid_1_AutoML_20190521_084240_model_36         </td><td style=\"text-align: right;\">                 7.22575</td><td style=\"text-align: right;\">2.68808</td><td style=\"text-align: right;\"> 7.22575</td><td style=\"text-align: right;\">2.08812</td><td style=\"text-align: right;\">  0.514147</td></tr>\n",
              "<tr><td>XRT_1_AutoML_20190521_084240                       </td><td style=\"text-align: right;\">                 7.22753</td><td style=\"text-align: right;\">2.68841</td><td style=\"text-align: right;\"> 7.22753</td><td style=\"text-align: right;\">2.08681</td><td style=\"text-align: right;\">  0.512821</td></tr>\n",
              "<tr><td>XGBoost_grid_1_AutoML_20190521_084240_model_12     </td><td style=\"text-align: right;\">                 7.24387</td><td style=\"text-align: right;\">2.69144</td><td style=\"text-align: right;\"> 7.24387</td><td style=\"text-align: right;\">2.07681</td><td style=\"text-align: right;\">  0.508288</td></tr>\n",
              "<tr><td>XGBoost_grid_1_AutoML_20190521_101044_model_4      </td><td style=\"text-align: right;\">                 7.24647</td><td style=\"text-align: right;\">2.69193</td><td style=\"text-align: right;\"> 7.24647</td><td style=\"text-align: right;\">2.06813</td><td style=\"text-align: right;\">  0.505632</td></tr>\n",
              "<tr><td>XRT_1_AutoML_20190521_101044                       </td><td style=\"text-align: right;\">                 7.25743</td><td style=\"text-align: right;\">2.69396</td><td style=\"text-align: right;\"> 7.25743</td><td style=\"text-align: right;\">2.09356</td><td style=\"text-align: right;\">  0.514126</td></tr>\n",
              "<tr><td>GBM_grid_1_AutoML_20190521_101044_model_14         </td><td style=\"text-align: right;\">                 7.25959</td><td style=\"text-align: right;\">2.69436</td><td style=\"text-align: right;\"> 7.25959</td><td style=\"text-align: right;\">2.08682</td><td style=\"text-align: right;\">  0.514925</td></tr>\n",
              "<tr><td>GBM_grid_1_AutoML_20190521_084240_model_16         </td><td style=\"text-align: right;\">                 7.26319</td><td style=\"text-align: right;\">2.69503</td><td style=\"text-align: right;\"> 7.26319</td><td style=\"text-align: right;\">2.09548</td><td style=\"text-align: right;\">  0.514479</td></tr>\n",
              "<tr><td>DRF_1_AutoML_20190521_084240                       </td><td style=\"text-align: right;\">                 7.26626</td><td style=\"text-align: right;\">2.6956 </td><td style=\"text-align: right;\"> 7.26626</td><td style=\"text-align: right;\">2.0977 </td><td style=\"text-align: right;\">  0.514167</td></tr>\n",
              "<tr><td>GBM_grid_1_AutoML_20190521_101044_model_8          </td><td style=\"text-align: right;\">                 7.28331</td><td style=\"text-align: right;\">2.69876</td><td style=\"text-align: right;\"> 7.28331</td><td style=\"text-align: right;\">2.09205</td><td style=\"text-align: right;\">  0.513035</td></tr>\n",
              "<tr><td>GBM_grid_1_AutoML_20190521_084240_model_24         </td><td style=\"text-align: right;\">                 7.31047</td><td style=\"text-align: right;\">2.70379</td><td style=\"text-align: right;\"> 7.31047</td><td style=\"text-align: right;\">2.13049</td><td style=\"text-align: right;\">  0.528795</td></tr>\n",
              "<tr><td>GBM_2_AutoML_20190521_084240                       </td><td style=\"text-align: right;\">                 7.31619</td><td style=\"text-align: right;\">2.70485</td><td style=\"text-align: right;\"> 7.31619</td><td style=\"text-align: right;\">2.08799</td><td style=\"text-align: right;\">  0.512261</td></tr>\n",
              "<tr><td>XGBoost_grid_1_AutoML_20190521_084240_model_13     </td><td style=\"text-align: right;\">                 7.33605</td><td style=\"text-align: right;\">2.70851</td><td style=\"text-align: right;\"> 7.33605</td><td style=\"text-align: right;\">2.08873</td><td style=\"text-align: right;\">  0.509291</td></tr>\n",
              "<tr><td>GBM_grid_1_AutoML_20190521_084240_model_30         </td><td style=\"text-align: right;\">                 7.34002</td><td style=\"text-align: right;\">2.70925</td><td style=\"text-align: right;\"> 7.34002</td><td style=\"text-align: right;\">2.14007</td><td style=\"text-align: right;\">  0.532148</td></tr>\n",
              "<tr><td>GBM_1_AutoML_20190521_101044                       </td><td style=\"text-align: right;\">                 7.34206</td><td style=\"text-align: right;\">2.70962</td><td style=\"text-align: right;\"> 7.34206</td><td style=\"text-align: right;\">2.10555</td><td style=\"text-align: right;\">  0.513344</td></tr>\n",
              "<tr><td>GBM_grid_1_AutoML_20190521_101044_model_11         </td><td style=\"text-align: right;\">                 7.34535</td><td style=\"text-align: right;\">2.71023</td><td style=\"text-align: right;\"> 7.34535</td><td style=\"text-align: right;\">2.10586</td><td style=\"text-align: right;\">  0.515967</td></tr>\n",
              "<tr><td>GBM_grid_1_AutoML_20190521_084240_model_6          </td><td style=\"text-align: right;\">                 7.35001</td><td style=\"text-align: right;\">2.71109</td><td style=\"text-align: right;\"> 7.35001</td><td style=\"text-align: right;\">2.09923</td><td style=\"text-align: right;\">  0.514529</td></tr>\n",
              "<tr><td>GBM_grid_1_AutoML_20190521_084240_model_10         </td><td style=\"text-align: right;\">                 7.35126</td><td style=\"text-align: right;\">2.71132</td><td style=\"text-align: right;\"> 7.35126</td><td style=\"text-align: right;\">2.10147</td><td style=\"text-align: right;\">  0.515857</td></tr>\n",
              "<tr><td>GBM_2_AutoML_20190521_101044                       </td><td style=\"text-align: right;\">                 7.37164</td><td style=\"text-align: right;\">2.71508</td><td style=\"text-align: right;\"> 7.37164</td><td style=\"text-align: right;\">2.10123</td><td style=\"text-align: right;\">  0.513991</td></tr>\n",
              "<tr><td>XGBoost_grid_1_AutoML_20190521_084240_model_2      </td><td style=\"text-align: right;\">                 7.3718 </td><td style=\"text-align: right;\">2.71511</td><td style=\"text-align: right;\"> 7.3718 </td><td style=\"text-align: right;\">2.09506</td><td style=\"text-align: right;\">  0.512911</td></tr>\n",
              "<tr><td>GBM_grid_1_AutoML_20190521_084240_model_28         </td><td style=\"text-align: right;\">                 7.3831 </td><td style=\"text-align: right;\">2.71719</td><td style=\"text-align: right;\"> 7.3831 </td><td style=\"text-align: right;\">2.14699</td><td style=\"text-align: right;\">  0.533269</td></tr>\n",
              "<tr><td>GBM_grid_1_AutoML_20190521_084240_model_3          </td><td style=\"text-align: right;\">                 7.38808</td><td style=\"text-align: right;\">2.7181 </td><td style=\"text-align: right;\"> 7.38808</td><td style=\"text-align: right;\">2.14893</td><td style=\"text-align: right;\">  0.533453</td></tr>\n",
              "<tr><td>GBM_1_AutoML_20190521_084240                       </td><td style=\"text-align: right;\">                 7.39877</td><td style=\"text-align: right;\">2.72007</td><td style=\"text-align: right;\"> 7.39877</td><td style=\"text-align: right;\">2.10935</td><td style=\"text-align: right;\">  0.516612</td></tr>\n",
              "<tr><td>GBM_grid_1_AutoML_20190521_084240_model_41         </td><td style=\"text-align: right;\">                 7.40709</td><td style=\"text-align: right;\">2.7216 </td><td style=\"text-align: right;\"> 7.40709</td><td style=\"text-align: right;\">2.14866</td><td style=\"text-align: right;\">  0.533662</td></tr>\n",
              "<tr><td>XGBoost_grid_1_AutoML_20190521_084240_model_7      </td><td style=\"text-align: right;\">                 7.40945</td><td style=\"text-align: right;\">2.72203</td><td style=\"text-align: right;\"> 7.40945</td><td style=\"text-align: right;\">2.0997 </td><td style=\"text-align: right;\">  0.511768</td></tr>\n",
              "<tr><td>XGBoost_1_AutoML_20190521_084240                   </td><td style=\"text-align: right;\">                 7.40958</td><td style=\"text-align: right;\">2.72205</td><td style=\"text-align: right;\"> 7.40958</td><td style=\"text-align: right;\">2.10054</td><td style=\"text-align: right;\">  0.512123</td></tr>\n",
              "<tr><td>GBM_grid_1_AutoML_20190521_084240_model_4          </td><td style=\"text-align: right;\">                 7.42111</td><td style=\"text-align: right;\">2.72417</td><td style=\"text-align: right;\"> 7.42111</td><td style=\"text-align: right;\">2.15141</td><td style=\"text-align: right;\">  0.534967</td></tr>\n",
              "<tr><td>GBM_3_AutoML_20190521_084240                       </td><td style=\"text-align: right;\">                 7.42699</td><td style=\"text-align: right;\">2.72525</td><td style=\"text-align: right;\"> 7.42699</td><td style=\"text-align: right;\">2.10793</td><td style=\"text-align: right;\">  0.515647</td></tr>\n",
              "<tr><td>GBM_grid_1_AutoML_20190521_084240_model_38         </td><td style=\"text-align: right;\">                 7.4321 </td><td style=\"text-align: right;\">2.72619</td><td style=\"text-align: right;\"> 7.4321 </td><td style=\"text-align: right;\">2.14811</td><td style=\"text-align: right;\">  0.530611</td></tr>\n",
              "<tr><td>GBM_grid_1_AutoML_20190521_084240_model_40         </td><td style=\"text-align: right;\">                 7.43781</td><td style=\"text-align: right;\">2.72723</td><td style=\"text-align: right;\"> 7.43781</td><td style=\"text-align: right;\">2.11109</td><td style=\"text-align: right;\">  0.516863</td></tr>\n",
              "<tr><td>XGBoost_grid_1_AutoML_20190521_101044_model_2      </td><td style=\"text-align: right;\">                 7.44125</td><td style=\"text-align: right;\">2.72787</td><td style=\"text-align: right;\"> 7.44125</td><td style=\"text-align: right;\">2.09562</td><td style=\"text-align: right;\">  0.511614</td></tr>\n",
              "<tr><td>XGBoost_grid_1_AutoML_20190521_101044_model_6      </td><td style=\"text-align: right;\">                 7.44769</td><td style=\"text-align: right;\">2.72905</td><td style=\"text-align: right;\"> 7.44769</td><td style=\"text-align: right;\">2.09321</td><td style=\"text-align: right;\">  0.511938</td></tr>\n",
              "<tr><td>GBM_4_AutoML_20190521_101044                       </td><td style=\"text-align: right;\">                 7.44803</td><td style=\"text-align: right;\">2.72911</td><td style=\"text-align: right;\"> 7.44803</td><td style=\"text-align: right;\">2.10997</td><td style=\"text-align: right;\">  0.51554 </td></tr>\n",
              "<tr><td>XGBoost_grid_1_AutoML_20190521_084240_model_9      </td><td style=\"text-align: right;\">                 7.4566 </td><td style=\"text-align: right;\">2.73068</td><td style=\"text-align: right;\"> 7.4566 </td><td style=\"text-align: right;\">2.10471</td><td style=\"text-align: right;\">  0.515115</td></tr>\n",
              "<tr><td>DRF_1_AutoML_20190521_101044                       </td><td style=\"text-align: right;\">                 7.45782</td><td style=\"text-align: right;\">2.7309 </td><td style=\"text-align: right;\"> 7.45782</td><td style=\"text-align: right;\">2.1171 </td><td style=\"text-align: right;\">  0.518217</td></tr>\n",
              "<tr><td>XGBoost_grid_1_AutoML_20190521_101044_model_5      </td><td style=\"text-align: right;\">                 7.45903</td><td style=\"text-align: right;\">2.73112</td><td style=\"text-align: right;\"> 7.45903</td><td style=\"text-align: right;\">2.09632</td><td style=\"text-align: right;\">  0.510541</td></tr>\n",
              "<tr><td>GBM_grid_1_AutoML_20190521_084240_model_43         </td><td style=\"text-align: right;\">                 7.46095</td><td style=\"text-align: right;\">2.73147</td><td style=\"text-align: right;\"> 7.46095</td><td style=\"text-align: right;\">2.15328</td><td style=\"text-align: right;\">  0.532194</td></tr>\n",
              "<tr><td>GBM_3_AutoML_20190521_101044                       </td><td style=\"text-align: right;\">                 7.47771</td><td style=\"text-align: right;\">2.73454</td><td style=\"text-align: right;\"> 7.47771</td><td style=\"text-align: right;\">2.11849</td><td style=\"text-align: right;\">  0.517121</td></tr>\n",
              "<tr><td>GBM_grid_1_AutoML_20190521_084240_model_49         </td><td style=\"text-align: right;\">                 7.48136</td><td style=\"text-align: right;\">2.73521</td><td style=\"text-align: right;\"> 7.48136</td><td style=\"text-align: right;\">2.16283</td><td style=\"text-align: right;\">  0.534694</td></tr>\n",
              "<tr><td>XGBoost_grid_1_AutoML_20190521_084240_model_6      </td><td style=\"text-align: right;\">                 7.48294</td><td style=\"text-align: right;\">2.7355 </td><td style=\"text-align: right;\"> 7.48294</td><td style=\"text-align: right;\">2.11729</td><td style=\"text-align: right;\">  0.516212</td></tr>\n",
              "<tr><td>GBM_grid_1_AutoML_20190521_084240_model_44         </td><td style=\"text-align: right;\">                 7.48406</td><td style=\"text-align: right;\">2.7357 </td><td style=\"text-align: right;\"> 7.48406</td><td style=\"text-align: right;\">2.16146</td><td style=\"text-align: right;\">  0.535033</td></tr>\n",
              "<tr><td>GBM_grid_1_AutoML_20190521_084240_model_48         </td><td style=\"text-align: right;\">                 7.48422</td><td style=\"text-align: right;\">2.73573</td><td style=\"text-align: right;\"> 7.48422</td><td style=\"text-align: right;\">2.10991</td><td style=\"text-align: right;\">  0.518215</td></tr>\n",
              "<tr><td>XGBoost_grid_1_AutoML_20190521_101044_model_7      </td><td style=\"text-align: right;\">                 7.48797</td><td style=\"text-align: right;\">2.73641</td><td style=\"text-align: right;\"> 7.48797</td><td style=\"text-align: right;\">2.10502</td><td style=\"text-align: right;\">  0.514526</td></tr>\n",
              "<tr><td>XGBoost_2_AutoML_20190521_084240                   </td><td style=\"text-align: right;\">                 7.49133</td><td style=\"text-align: right;\">2.73703</td><td style=\"text-align: right;\"> 7.49133</td><td style=\"text-align: right;\">2.10433</td><td style=\"text-align: right;\">  0.513054</td></tr>\n",
              "<tr><td>XGBoost_2_AutoML_20190521_101044                   </td><td style=\"text-align: right;\">                 7.50016</td><td style=\"text-align: right;\">2.73864</td><td style=\"text-align: right;\"> 7.50016</td><td style=\"text-align: right;\">2.09113</td><td style=\"text-align: right;\">  0.509113</td></tr>\n",
              "<tr><td>XGBoost_grid_1_AutoML_20190521_084240_model_5      </td><td style=\"text-align: right;\">                 7.506  </td><td style=\"text-align: right;\">2.73971</td><td style=\"text-align: right;\"> 7.506  </td><td style=\"text-align: right;\">2.12065</td><td style=\"text-align: right;\">  0.515326</td></tr>\n",
              "<tr><td>GBM_grid_1_AutoML_20190521_084240_model_51         </td><td style=\"text-align: right;\">                 7.50912</td><td style=\"text-align: right;\">2.74028</td><td style=\"text-align: right;\"> 7.50912</td><td style=\"text-align: right;\">2.12429</td><td style=\"text-align: right;\">  0.518298</td></tr>\n",
              "<tr><td>XGBoost_grid_1_AutoML_20190521_084240_model_11     </td><td style=\"text-align: right;\">                 7.51072</td><td style=\"text-align: right;\">2.74057</td><td style=\"text-align: right;\"> 7.51072</td><td style=\"text-align: right;\">2.11119</td><td style=\"text-align: right;\">  0.514209</td></tr>\n",
              "<tr><td>XGBoost_grid_1_AutoML_20190521_084240_model_3      </td><td style=\"text-align: right;\">                 7.51266</td><td style=\"text-align: right;\">2.74092</td><td style=\"text-align: right;\"> 7.51266</td><td style=\"text-align: right;\">2.11298</td><td style=\"text-align: right;\">  0.51373 </td></tr>\n",
              "<tr><td>XGBoost_1_AutoML_20190521_101044                   </td><td style=\"text-align: right;\">                 7.51847</td><td style=\"text-align: right;\">2.74198</td><td style=\"text-align: right;\"> 7.51847</td><td style=\"text-align: right;\">2.11055</td><td style=\"text-align: right;\">  0.512343</td></tr>\n",
              "<tr><td>GBM_grid_1_AutoML_20190521_084240_model_21         </td><td style=\"text-align: right;\">                 7.52016</td><td style=\"text-align: right;\">2.74229</td><td style=\"text-align: right;\"> 7.52016</td><td style=\"text-align: right;\">2.1267 </td><td style=\"text-align: right;\">  0.518991</td></tr>\n",
              "<tr><td>XGBoost_grid_1_AutoML_20190521_084240_model_1      </td><td style=\"text-align: right;\">                 7.52192</td><td style=\"text-align: right;\">2.74261</td><td style=\"text-align: right;\"> 7.52192</td><td style=\"text-align: right;\">2.10876</td><td style=\"text-align: right;\">  0.513272</td></tr>\n",
              "<tr><td>GBM_4_AutoML_20190521_084240                       </td><td style=\"text-align: right;\">                 7.53259</td><td style=\"text-align: right;\">2.74456</td><td style=\"text-align: right;\"> 7.53259</td><td style=\"text-align: right;\">2.12269</td><td style=\"text-align: right;\">  0.518449</td></tr>\n",
              "<tr><td>GBM_grid_1_AutoML_20190521_084240_model_32         </td><td style=\"text-align: right;\">                 7.56215</td><td style=\"text-align: right;\">2.74994</td><td style=\"text-align: right;\"> 7.56215</td><td style=\"text-align: right;\">2.12787</td><td style=\"text-align: right;\">  0.519073</td></tr>\n",
              "<tr><td>GBM_grid_1_AutoML_20190521_084240_model_52         </td><td style=\"text-align: right;\">                 7.5647 </td><td style=\"text-align: right;\">2.7504 </td><td style=\"text-align: right;\"> 7.5647 </td><td style=\"text-align: right;\">2.13032</td><td style=\"text-align: right;\">  0.517743</td></tr>\n",
              "<tr><td>GLM_grid_1_AutoML_20190521_084240_model_1          </td><td style=\"text-align: right;\">                 7.6891 </td><td style=\"text-align: right;\">2.77292</td><td style=\"text-align: right;\"> 7.6891 </td><td style=\"text-align: right;\">2.15394</td><td style=\"text-align: right;\">nan       </td></tr>\n",
              "<tr><td>GLM_grid_1_AutoML_20190521_101044_model_1          </td><td style=\"text-align: right;\">                 7.6891 </td><td style=\"text-align: right;\">2.77292</td><td style=\"text-align: right;\"> 7.6891 </td><td style=\"text-align: right;\">2.15394</td><td style=\"text-align: right;\">nan       </td></tr>\n",
              "<tr><td>GBM_grid_1_AutoML_20190521_084240_model_27         </td><td style=\"text-align: right;\">                 7.70406</td><td style=\"text-align: right;\">2.77562</td><td style=\"text-align: right;\"> 7.70406</td><td style=\"text-align: right;\">2.20458</td><td style=\"text-align: right;\">  0.54624 </td></tr>\n",
              "<tr><td>GBM_grid_1_AutoML_20190521_101044_model_1          </td><td style=\"text-align: right;\">                 7.7216 </td><td style=\"text-align: right;\">2.77878</td><td style=\"text-align: right;\"> 7.7216 </td><td style=\"text-align: right;\">2.20486</td><td style=\"text-align: right;\">  0.545744</td></tr>\n",
              "<tr><td>GBM_grid_1_AutoML_20190521_084240_model_31         </td><td style=\"text-align: right;\">                 7.76333</td><td style=\"text-align: right;\">2.78628</td><td style=\"text-align: right;\"> 7.76333</td><td style=\"text-align: right;\">2.21387</td><td style=\"text-align: right;\">  0.550182</td></tr>\n",
              "<tr><td>DeepLearning_grid_1_AutoML_20190521_101044_model_8 </td><td style=\"text-align: right;\">                 7.76706</td><td style=\"text-align: right;\">2.78694</td><td style=\"text-align: right;\"> 7.76706</td><td style=\"text-align: right;\">2.1013 </td><td style=\"text-align: right;\">  0.517487</td></tr>\n",
              "<tr><td>GBM_grid_1_AutoML_20190521_084240_model_39         </td><td style=\"text-align: right;\">                 7.77692</td><td style=\"text-align: right;\">2.78871</td><td style=\"text-align: right;\"> 7.77692</td><td style=\"text-align: right;\">2.21364</td><td style=\"text-align: right;\">  0.548451</td></tr>\n",
              "<tr><td>GBM_grid_1_AutoML_20190521_084240_model_46         </td><td style=\"text-align: right;\">                 7.80359</td><td style=\"text-align: right;\">2.79349</td><td style=\"text-align: right;\"> 7.80359</td><td style=\"text-align: right;\">2.21921</td><td style=\"text-align: right;\">  0.548059</td></tr>\n",
              "<tr><td>GBM_grid_1_AutoML_20190521_084240_model_45         </td><td style=\"text-align: right;\">                 7.83082</td><td style=\"text-align: right;\">2.79836</td><td style=\"text-align: right;\"> 7.83082</td><td style=\"text-align: right;\">2.22593</td><td style=\"text-align: right;\">  0.54867 </td></tr>\n",
              "<tr><td>GBM_grid_1_AutoML_20190521_084240_model_50         </td><td style=\"text-align: right;\">                 7.83121</td><td style=\"text-align: right;\">2.79843</td><td style=\"text-align: right;\"> 7.83121</td><td style=\"text-align: right;\">2.22401</td><td style=\"text-align: right;\">  0.548956</td></tr>\n",
              "<tr><td>GBM_grid_1_AutoML_20190521_084240_model_20         </td><td style=\"text-align: right;\">                 7.85708</td><td style=\"text-align: right;\">2.80305</td><td style=\"text-align: right;\"> 7.85708</td><td style=\"text-align: right;\">2.22789</td><td style=\"text-align: right;\">  0.549272</td></tr>\n",
              "<tr><td>GBM_grid_1_AutoML_20190521_084240_model_15         </td><td style=\"text-align: right;\">                 7.93299</td><td style=\"text-align: right;\">2.81656</td><td style=\"text-align: right;\"> 7.93299</td><td style=\"text-align: right;\">2.24307</td><td style=\"text-align: right;\">  0.551068</td></tr>\n",
              "<tr><td>GBM_grid_1_AutoML_20190521_084240_model_23         </td><td style=\"text-align: right;\">                 7.96672</td><td style=\"text-align: right;\">2.82254</td><td style=\"text-align: right;\"> 7.96672</td><td style=\"text-align: right;\">2.18017</td><td style=\"text-align: right;\">  0.531355</td></tr>\n",
              "<tr><td>GBM_grid_1_AutoML_20190521_101044_model_6          </td><td style=\"text-align: right;\">                 8.01528</td><td style=\"text-align: right;\">2.83113</td><td style=\"text-align: right;\"> 8.01528</td><td style=\"text-align: right;\">2.18883</td><td style=\"text-align: right;\">nan       </td></tr>\n",
              "<tr><td>DeepLearning_grid_1_AutoML_20190521_101044_model_4 </td><td style=\"text-align: right;\">                 8.21242</td><td style=\"text-align: right;\">2.86573</td><td style=\"text-align: right;\"> 8.21242</td><td style=\"text-align: right;\">2.19731</td><td style=\"text-align: right;\">nan       </td></tr>\n",
              "<tr><td>DeepLearning_grid_1_AutoML_20190521_084240_model_1 </td><td style=\"text-align: right;\">                 8.27324</td><td style=\"text-align: right;\">2.87632</td><td style=\"text-align: right;\"> 8.27324</td><td style=\"text-align: right;\">2.19204</td><td style=\"text-align: right;\">nan       </td></tr>\n",
              "<tr><td>DeepLearning_1_AutoML_20190521_101044              </td><td style=\"text-align: right;\">                 8.29526</td><td style=\"text-align: right;\">2.88015</td><td style=\"text-align: right;\"> 8.29526</td><td style=\"text-align: right;\">2.1906 </td><td style=\"text-align: right;\">nan       </td></tr>\n",
              "<tr><td>GBM_grid_1_AutoML_20190521_101044_model_7          </td><td style=\"text-align: right;\">                 8.32575</td><td style=\"text-align: right;\">2.88544</td><td style=\"text-align: right;\"> 8.32575</td><td style=\"text-align: right;\">2.30713</td><td style=\"text-align: right;\">  0.568345</td></tr>\n",
              "<tr><td>DeepLearning_grid_1_AutoML_20190521_084240_model_4 </td><td style=\"text-align: right;\">                 8.33169</td><td style=\"text-align: right;\">2.88647</td><td style=\"text-align: right;\"> 8.33169</td><td style=\"text-align: right;\">2.19394</td><td style=\"text-align: right;\">nan       </td></tr>\n",
              "<tr><td>DeepLearning_grid_1_AutoML_20190521_101044_model_1 </td><td style=\"text-align: right;\">                 8.3371 </td><td style=\"text-align: right;\">2.8874 </td><td style=\"text-align: right;\"> 8.3371 </td><td style=\"text-align: right;\">2.18402</td><td style=\"text-align: right;\">nan       </td></tr>\n",
              "<tr><td>DeepLearning_grid_1_AutoML_20190521_101044_model_10</td><td style=\"text-align: right;\">                 8.3808 </td><td style=\"text-align: right;\">2.89496</td><td style=\"text-align: right;\"> 8.3808 </td><td style=\"text-align: right;\">2.21297</td><td style=\"text-align: right;\">nan       </td></tr>\n",
              "<tr><td>GBM_grid_1_AutoML_20190521_101044_model_2          </td><td style=\"text-align: right;\">                 8.38136</td><td style=\"text-align: right;\">2.89506</td><td style=\"text-align: right;\"> 8.38136</td><td style=\"text-align: right;\">2.31424</td><td style=\"text-align: right;\">  0.568066</td></tr>\n",
              "<tr><td>GBM_grid_1_AutoML_20190521_084240_model_37         </td><td style=\"text-align: right;\">                 8.42267</td><td style=\"text-align: right;\">2.90218</td><td style=\"text-align: right;\"> 8.42267</td><td style=\"text-align: right;\">2.24738</td><td style=\"text-align: right;\">nan       </td></tr>\n",
              "<tr><td>GBM_grid_1_AutoML_20190521_084240_model_19         </td><td style=\"text-align: right;\">                 8.4414 </td><td style=\"text-align: right;\">2.90541</td><td style=\"text-align: right;\"> 8.4414 </td><td style=\"text-align: right;\">2.25104</td><td style=\"text-align: right;\">  0.546005</td></tr>\n",
              "<tr><td>DeepLearning_grid_1_AutoML_20190521_084240_model_7 </td><td style=\"text-align: right;\">                 8.5408 </td><td style=\"text-align: right;\">2.92246</td><td style=\"text-align: right;\"> 8.5408 </td><td style=\"text-align: right;\">2.20504</td><td style=\"text-align: right;\">nan       </td></tr>\n",
              "<tr><td>DeepLearning_1_AutoML_20190521_084240              </td><td style=\"text-align: right;\">                 8.54124</td><td style=\"text-align: right;\">2.92254</td><td style=\"text-align: right;\"> 8.54124</td><td style=\"text-align: right;\">2.2587 </td><td style=\"text-align: right;\">nan       </td></tr>\n",
              "<tr><td>DeepLearning_grid_1_AutoML_20190521_101044_model_6 </td><td style=\"text-align: right;\">                 8.55198</td><td style=\"text-align: right;\">2.92438</td><td style=\"text-align: right;\"> 8.55198</td><td style=\"text-align: right;\">2.25212</td><td style=\"text-align: right;\">nan       </td></tr>\n",
              "<tr><td>DeepLearning_grid_1_AutoML_20190521_101044_model_9 </td><td style=\"text-align: right;\">                 8.59388</td><td style=\"text-align: right;\">2.93153</td><td style=\"text-align: right;\"> 8.59388</td><td style=\"text-align: right;\">2.25229</td><td style=\"text-align: right;\">nan       </td></tr>\n",
              "<tr><td>DeepLearning_grid_1_AutoML_20190521_101044_model_5 </td><td style=\"text-align: right;\">                 8.92302</td><td style=\"text-align: right;\">2.98714</td><td style=\"text-align: right;\"> 8.92302</td><td style=\"text-align: right;\">2.28518</td><td style=\"text-align: right;\">nan       </td></tr>\n",
              "<tr><td>DeepLearning_grid_1_AutoML_20190521_084240_model_6 </td><td style=\"text-align: right;\">                 9.49927</td><td style=\"text-align: right;\">3.08209</td><td style=\"text-align: right;\"> 9.49927</td><td style=\"text-align: right;\">2.3407 </td><td style=\"text-align: right;\">nan       </td></tr>\n",
              "<tr><td>DeepLearning_grid_1_AutoML_20190521_084240_model_5 </td><td style=\"text-align: right;\">                 9.55251</td><td style=\"text-align: right;\">3.09071</td><td style=\"text-align: right;\"> 9.55251</td><td style=\"text-align: right;\">2.31727</td><td style=\"text-align: right;\">nan       </td></tr>\n",
              "<tr><td>DeepLearning_grid_1_AutoML_20190521_101044_model_7 </td><td style=\"text-align: right;\">                 9.60549</td><td style=\"text-align: right;\">3.09927</td><td style=\"text-align: right;\"> 9.60549</td><td style=\"text-align: right;\">2.37572</td><td style=\"text-align: right;\">nan       </td></tr>\n",
              "<tr><td>GBM_grid_1_AutoML_20190521_084240_model_13         </td><td style=\"text-align: right;\">                10.2352 </td><td style=\"text-align: right;\">3.19925</td><td style=\"text-align: right;\">10.2352 </td><td style=\"text-align: right;\">2.48047</td><td style=\"text-align: right;\">nan       </td></tr>\n",
              "<tr><td>GBM_grid_1_AutoML_20190521_084240_model_2          </td><td style=\"text-align: right;\">                10.5891 </td><td style=\"text-align: right;\">3.25409</td><td style=\"text-align: right;\">10.5891 </td><td style=\"text-align: right;\">2.51047</td><td style=\"text-align: right;\">nan       </td></tr>\n",
              "<tr><td>GBM_grid_1_AutoML_20190521_084240_model_33         </td><td style=\"text-align: right;\">                10.8522 </td><td style=\"text-align: right;\">3.29426</td><td style=\"text-align: right;\">10.8522 </td><td style=\"text-align: right;\">2.56063</td><td style=\"text-align: right;\">nan       </td></tr>\n",
              "<tr><td>DeepLearning_grid_1_AutoML_20190521_084240_model_2 </td><td style=\"text-align: right;\">                10.9189 </td><td style=\"text-align: right;\">3.30438</td><td style=\"text-align: right;\">10.9189 </td><td style=\"text-align: right;\">2.44284</td><td style=\"text-align: right;\">nan       </td></tr>\n",
              "<tr><td>GBM_grid_1_AutoML_20190521_084240_model_22         </td><td style=\"text-align: right;\">                11.6466 </td><td style=\"text-align: right;\">3.41272</td><td style=\"text-align: right;\">11.6466 </td><td style=\"text-align: right;\">2.63218</td><td style=\"text-align: right;\">nan       </td></tr>\n",
              "<tr><td>GBM_grid_1_AutoML_20190521_084240_model_11         </td><td style=\"text-align: right;\">                12.3495 </td><td style=\"text-align: right;\">3.51418</td><td style=\"text-align: right;\">12.3495 </td><td style=\"text-align: right;\">2.7419 </td><td style=\"text-align: right;\">nan       </td></tr>\n",
              "<tr><td>GBM_grid_1_AutoML_20190521_084240_model_7          </td><td style=\"text-align: right;\">                12.8239 </td><td style=\"text-align: right;\">3.58104</td><td style=\"text-align: right;\">12.8239 </td><td style=\"text-align: right;\">2.77057</td><td style=\"text-align: right;\">nan       </td></tr>\n",
              "<tr><td>GBM_grid_1_AutoML_20190521_084240_model_5          </td><td style=\"text-align: right;\">                13.1085 </td><td style=\"text-align: right;\">3.62057</td><td style=\"text-align: right;\">13.1085 </td><td style=\"text-align: right;\">2.99988</td><td style=\"text-align: right;\">  0.677511</td></tr>\n",
              "<tr><td>GBM_grid_1_AutoML_20190521_101044_model_13         </td><td style=\"text-align: right;\">                13.1097 </td><td style=\"text-align: right;\">3.62074</td><td style=\"text-align: right;\">13.1097 </td><td style=\"text-align: right;\">3.00001</td><td style=\"text-align: right;\">  0.677547</td></tr>\n",
              "<tr><td>GBM_grid_1_AutoML_20190521_101044_model_10         </td><td style=\"text-align: right;\">                13.1114 </td><td style=\"text-align: right;\">3.62096</td><td style=\"text-align: right;\">13.1114 </td><td style=\"text-align: right;\">3.00005</td><td style=\"text-align: right;\">  0.677605</td></tr>\n",
              "<tr><td>GBM_grid_1_AutoML_20190521_084240_model_34         </td><td style=\"text-align: right;\">                13.1119 </td><td style=\"text-align: right;\">3.62104</td><td style=\"text-align: right;\">13.1119 </td><td style=\"text-align: right;\">3.00015</td><td style=\"text-align: right;\">  0.677583</td></tr>\n",
              "<tr><td>GBM_grid_1_AutoML_20190521_084240_model_18         </td><td style=\"text-align: right;\">                13.1125 </td><td style=\"text-align: right;\">3.62112</td><td style=\"text-align: right;\">13.1125 </td><td style=\"text-align: right;\">3.00028</td><td style=\"text-align: right;\">  0.67762 </td></tr>\n",
              "<tr><td>GBM_grid_1_AutoML_20190521_084240_model_35         </td><td style=\"text-align: right;\">                13.1129 </td><td style=\"text-align: right;\">3.62118</td><td style=\"text-align: right;\">13.1129 </td><td style=\"text-align: right;\">3.00048</td><td style=\"text-align: right;\">  0.677555</td></tr>\n",
              "<tr><td>GBM_grid_1_AutoML_20190521_101044_model_3          </td><td style=\"text-align: right;\">                13.113  </td><td style=\"text-align: right;\">3.62119</td><td style=\"text-align: right;\">13.113  </td><td style=\"text-align: right;\">3.00041</td><td style=\"text-align: right;\">  0.677627</td></tr>\n",
              "<tr><td>GBM_grid_1_AutoML_20190521_084240_model_8          </td><td style=\"text-align: right;\">                13.1158 </td><td style=\"text-align: right;\">3.62157</td><td style=\"text-align: right;\">13.1158 </td><td style=\"text-align: right;\">3.00085</td><td style=\"text-align: right;\">  0.677688</td></tr>\n",
              "<tr><td>GBM_grid_1_AutoML_20190521_084240_model_12         </td><td style=\"text-align: right;\">                13.1163 </td><td style=\"text-align: right;\">3.62164</td><td style=\"text-align: right;\">13.1163 </td><td style=\"text-align: right;\">3.00065</td><td style=\"text-align: right;\">  0.677688</td></tr>\n",
              "<tr><td>GBM_grid_1_AutoML_20190521_101044_model_5          </td><td style=\"text-align: right;\">                13.1174 </td><td style=\"text-align: right;\">3.62179</td><td style=\"text-align: right;\">13.1174 </td><td style=\"text-align: right;\">3.00063</td><td style=\"text-align: right;\">  0.67772 </td></tr>\n",
              "<tr><td>GBM_grid_1_AutoML_20190521_084240_model_9          </td><td style=\"text-align: right;\">                13.1276 </td><td style=\"text-align: right;\">3.62321</td><td style=\"text-align: right;\">13.1276 </td><td style=\"text-align: right;\">3.00185</td><td style=\"text-align: right;\">  0.677941</td></tr>\n",
              "<tr><td>GBM_grid_1_AutoML_20190521_084240_model_1          </td><td style=\"text-align: right;\">                14.0787 </td><td style=\"text-align: right;\">3.75216</td><td style=\"text-align: right;\">14.0787 </td><td style=\"text-align: right;\">2.90449</td><td style=\"text-align: right;\">nan       </td></tr>\n",
              "<tr><td>GBM_grid_1_AutoML_20190521_084240_model_25         </td><td style=\"text-align: right;\">                14.4695 </td><td style=\"text-align: right;\">3.80388</td><td style=\"text-align: right;\">14.4695 </td><td style=\"text-align: right;\">2.94845</td><td style=\"text-align: right;\">nan       </td></tr>\n",
              "<tr><td>GBM_grid_1_AutoML_20190521_084240_model_47         </td><td style=\"text-align: right;\">                15.0995 </td><td style=\"text-align: right;\">3.8858 </td><td style=\"text-align: right;\">15.0995 </td><td style=\"text-align: right;\">2.9857 </td><td style=\"text-align: right;\">nan       </td></tr>\n",
              "<tr><td>DeepLearning_grid_1_AutoML_20190521_101044_model_3 </td><td style=\"text-align: right;\">                18.0706 </td><td style=\"text-align: right;\">4.25095</td><td style=\"text-align: right;\">18.0706 </td><td style=\"text-align: right;\">2.99543</td><td style=\"text-align: right;\">nan       </td></tr>\n",
              "<tr><td>GBM_grid_1_AutoML_20190521_084240_model_42         </td><td style=\"text-align: right;\">                18.4061 </td><td style=\"text-align: right;\">4.29023</td><td style=\"text-align: right;\">18.4061 </td><td style=\"text-align: right;\">3.31917</td><td style=\"text-align: right;\">nan       </td></tr>\n",
              "<tr><td>DeepLearning_grid_1_AutoML_20190521_101044_model_2 </td><td style=\"text-align: right;\">                22.4093 </td><td style=\"text-align: right;\">4.73384</td><td style=\"text-align: right;\">22.4093 </td><td style=\"text-align: right;\">2.51287</td><td style=\"text-align: right;\">nan       </td></tr>\n",
              "<tr><td>XGBoost_grid_1_AutoML_20190521_101044_model_3      </td><td style=\"text-align: right;\">                25.4054 </td><td style=\"text-align: right;\">5.04038</td><td style=\"text-align: right;\">25.4054 </td><td style=\"text-align: right;\">3.73813</td><td style=\"text-align: right;\">  1.12686 </td></tr>\n",
              "</tbody>\n",
              "</table>"
            ]
          },
          "metadata": {
            "tags": []
          }
        },
        {
          "output_type": "execute_result",
          "data": {
            "text/plain": [
              ""
            ]
          },
          "metadata": {
            "tags": []
          },
          "execution_count": 25
        }
      ]
    },
    {
      "cell_type": "code",
      "metadata": {
        "id": "H-jHsNSUqO1q",
        "colab_type": "code",
        "outputId": "3fea1fe9-619b-4d94-9e53-8a2c83ebfc38",
        "colab": {
          "base_uri": "https://localhost:8080/",
          "height": 1172
        }
      },
      "source": [
        "# The leader model is stored here\n",
        "aml.leader"
      ],
      "execution_count": 0,
      "outputs": [
        {
          "output_type": "stream",
          "text": [
            "Model Details\n",
            "=============\n",
            "H2OGradientBoostingEstimator :  Gradient Boosting Machine\n",
            "Model Key:  GBM_grid_1_AutoML_20190521_101044_model_9\n",
            "\n",
            "\n",
            "ModelMetricsRegression: gbm\n",
            "** Reported on train data. **\n",
            "\n",
            "MSE: 5.839327202282622\n",
            "RMSE: 2.4164699878712796\n",
            "MAE: 1.8806869073605061\n",
            "RMSLE: 0.47686789177031974\n",
            "Mean Residual Deviance: 5.839327202282622\n",
            "\n",
            "ModelMetricsRegression: gbm\n",
            "** Reported on cross-validation data. **\n",
            "\n",
            "MSE: 7.0453328853967845\n",
            "RMSE: 2.6543045954443105\n",
            "MAE: 2.0711995847559312\n",
            "RMSLE: 0.5108457084454961\n",
            "Mean Residual Deviance: 7.0453328853967845\n",
            "Cross-Validation Metrics Summary: \n"
          ],
          "name": "stdout"
        },
        {
          "output_type": "display_data",
          "data": {
            "text/html": [
              "<div style=\"overflow:auto\"><table style=\"width:50%\"><tr><td><b></b></td>\n",
              "<td><b>mean</b></td>\n",
              "<td><b>sd</b></td>\n",
              "<td><b>cv_1_valid</b></td>\n",
              "<td><b>cv_2_valid</b></td>\n",
              "<td><b>cv_3_valid</b></td>\n",
              "<td><b>cv_4_valid</b></td>\n",
              "<td><b>cv_5_valid</b></td></tr>\n",
              "<tr><td>mae</td>\n",
              "<td>2.071201</td>\n",
              "<td>0.0140208</td>\n",
              "<td>2.0364754</td>\n",
              "<td>2.0638592</td>\n",
              "<td>2.084558</td>\n",
              "<td>2.0931556</td>\n",
              "<td>2.0779574</td></tr>\n",
              "<tr><td>mean_residual_deviance</td>\n",
              "<td>7.0453534</td>\n",
              "<td>0.0635008</td>\n",
              "<td>6.8727474</td>\n",
              "<td>7.075518</td>\n",
              "<td>7.0904613</td>\n",
              "<td>7.0562754</td>\n",
              "<td>7.131765</td></tr>\n",
              "<tr><td>mse</td>\n",
              "<td>7.0453534</td>\n",
              "<td>0.0635008</td>\n",
              "<td>6.8727474</td>\n",
              "<td>7.075518</td>\n",
              "<td>7.0904613</td>\n",
              "<td>7.0562754</td>\n",
              "<td>7.131765</td></tr>\n",
              "<tr><td>r2</td>\n",
              "<td>0.47767</td>\n",
              "<td>0.0050291</td>\n",
              "<td>0.4910830</td>\n",
              "<td>0.4762091</td>\n",
              "<td>0.4715489</td>\n",
              "<td>0.4776193</td>\n",
              "<td>0.4718898</td></tr>\n",
              "<tr><td>residual_deviance</td>\n",
              "<td>7.0453534</td>\n",
              "<td>0.0635008</td>\n",
              "<td>6.8727474</td>\n",
              "<td>7.075518</td>\n",
              "<td>7.0904613</td>\n",
              "<td>7.0562754</td>\n",
              "<td>7.131765</td></tr>\n",
              "<tr><td>rmse</td>\n",
              "<td>2.6542542</td>\n",
              "<td>0.0120087</td>\n",
              "<td>2.6215925</td>\n",
              "<td>2.6599846</td>\n",
              "<td>2.662792</td>\n",
              "<td>2.6563652</td>\n",
              "<td>2.6705365</td></tr>\n",
              "<tr><td>rmsle</td>\n",
              "<td>0.5107755</td>\n",
              "<td>0.0061049</td>\n",
              "<td>0.4998769</td>\n",
              "<td>0.5164882</td>\n",
              "<td>0.514052</td>\n",
              "<td>0.5015141</td>\n",
              "<td>0.5219459</td></tr></table></div>"
            ],
            "text/plain": [
              "                        mean      sd          cv_1_valid    cv_2_valid    cv_3_valid    cv_4_valid    cv_5_valid\n",
              "----------------------  --------  ----------  ------------  ------------  ------------  ------------  ------------\n",
              "mae                     2.0712    0.0140208   2.03648       2.06386       2.08456       2.09316       2.07796\n",
              "mean_residual_deviance  7.04535   0.0635008   6.87275       7.07552       7.09046       7.05628       7.13176\n",
              "mse                     7.04535   0.0635008   6.87275       7.07552       7.09046       7.05628       7.13176\n",
              "r2                      0.47767   0.00502915  0.491083      0.476209      0.471549      0.477619      0.47189\n",
              "residual_deviance       7.04535   0.0635008   6.87275       7.07552       7.09046       7.05628       7.13176\n",
              "rmse                    2.65425   0.0120087   2.62159       2.65998       2.66279       2.65637       2.67054\n",
              "rmsle                   0.510775  0.00610492  0.499877      0.516488      0.514052      0.501514      0.521946"
            ]
          },
          "metadata": {
            "tags": []
          }
        },
        {
          "output_type": "stream",
          "text": [
            "Scoring History: \n"
          ],
          "name": "stdout"
        },
        {
          "output_type": "display_data",
          "data": {
            "text/html": [
              "<div style=\"overflow:auto\"><table style=\"width:50%\"><tr><td><b></b></td>\n",
              "<td><b>timestamp</b></td>\n",
              "<td><b>duration</b></td>\n",
              "<td><b>number_of_trees</b></td>\n",
              "<td><b>training_rmse</b></td>\n",
              "<td><b>training_mae</b></td>\n",
              "<td><b>training_deviance</b></td></tr>\n",
              "<tr><td></td>\n",
              "<td>2019-05-21 10:27:10</td>\n",
              "<td> 4 min 22.880 sec</td>\n",
              "<td>0.0</td>\n",
              "<td>3.6727069</td>\n",
              "<td>3.0480839</td>\n",
              "<td>13.4887759</td></tr>\n",
              "<tr><td></td>\n",
              "<td>2019-05-21 10:27:10</td>\n",
              "<td> 4 min 23.050 sec</td>\n",
              "<td>5.0</td>\n",
              "<td>3.2817193</td>\n",
              "<td>2.6857614</td>\n",
              "<td>10.7696817</td></tr>\n",
              "<tr><td></td>\n",
              "<td>2019-05-21 10:27:10</td>\n",
              "<td> 4 min 23.228 sec</td>\n",
              "<td>10.0</td>\n",
              "<td>3.0155625</td>\n",
              "<td>2.4378020</td>\n",
              "<td>9.0936172</td></tr>\n",
              "<tr><td></td>\n",
              "<td>2019-05-21 10:27:10</td>\n",
              "<td> 4 min 23.397 sec</td>\n",
              "<td>15.0</td>\n",
              "<td>2.8380359</td>\n",
              "<td>2.2718323</td>\n",
              "<td>8.0544478</td></tr>\n",
              "<tr><td></td>\n",
              "<td>2019-05-21 10:27:11</td>\n",
              "<td> 4 min 23.571 sec</td>\n",
              "<td>20.0</td>\n",
              "<td>2.7194687</td>\n",
              "<td>2.1637489</td>\n",
              "<td>7.3955102</td></tr>\n",
              "<tr><td></td>\n",
              "<td>2019-05-21 10:27:11</td>\n",
              "<td> 4 min 23.767 sec</td>\n",
              "<td>25.0</td>\n",
              "<td>2.6370053</td>\n",
              "<td>2.0884801</td>\n",
              "<td>6.9537968</td></tr>\n",
              "<tr><td></td>\n",
              "<td>2019-05-21 10:27:11</td>\n",
              "<td> 4 min 23.944 sec</td>\n",
              "<td>30.0</td>\n",
              "<td>2.5789197</td>\n",
              "<td>2.0335114</td>\n",
              "<td>6.6508268</td></tr>\n",
              "<tr><td></td>\n",
              "<td>2019-05-21 10:27:11</td>\n",
              "<td> 4 min 24.131 sec</td>\n",
              "<td>35.0</td>\n",
              "<td>2.5372449</td>\n",
              "<td>1.9943987</td>\n",
              "<td>6.4376115</td></tr>\n",
              "<tr><td></td>\n",
              "<td>2019-05-21 10:27:11</td>\n",
              "<td> 4 min 24.321 sec</td>\n",
              "<td>40.0</td>\n",
              "<td>2.5030146</td>\n",
              "<td>1.9626128</td>\n",
              "<td>6.2650823</td></tr>\n",
              "<tr><td></td>\n",
              "<td>2019-05-21 10:27:12</td>\n",
              "<td> 4 min 24.502 sec</td>\n",
              "<td>45.0</td>\n",
              "<td>2.4771044</td>\n",
              "<td>1.9370368</td>\n",
              "<td>6.1360464</td></tr>\n",
              "<tr><td></td>\n",
              "<td>2019-05-21 10:27:12</td>\n",
              "<td> 4 min 24.681 sec</td>\n",
              "<td>50.0</td>\n",
              "<td>2.4529962</td>\n",
              "<td>1.9136391</td>\n",
              "<td>6.0171905</td></tr>\n",
              "<tr><td></td>\n",
              "<td>2019-05-21 10:27:12</td>\n",
              "<td> 4 min 24.877 sec</td>\n",
              "<td>55.0</td>\n",
              "<td>2.4316690</td>\n",
              "<td>1.8941037</td>\n",
              "<td>5.9130140</td></tr>\n",
              "<tr><td></td>\n",
              "<td>2019-05-21 10:27:12</td>\n",
              "<td> 4 min 25.031 sec</td>\n",
              "<td>59.0</td>\n",
              "<td>2.4164700</td>\n",
              "<td>1.8806869</td>\n",
              "<td>5.8393272</td></tr></table></div>"
            ],
            "text/plain": [
              "    timestamp            duration          number_of_trees    training_rmse    training_mae    training_deviance\n",
              "--  -------------------  ----------------  -----------------  ---------------  --------------  -------------------\n",
              "    2019-05-21 10:27:10  4 min 22.880 sec  0                  3.67271          3.04808         13.4888\n",
              "    2019-05-21 10:27:10  4 min 23.050 sec  5                  3.28172          2.68576         10.7697\n",
              "    2019-05-21 10:27:10  4 min 23.228 sec  10                 3.01556          2.4378          9.09362\n",
              "    2019-05-21 10:27:10  4 min 23.397 sec  15                 2.83804          2.27183         8.05445\n",
              "    2019-05-21 10:27:11  4 min 23.571 sec  20                 2.71947          2.16375         7.39551\n",
              "    2019-05-21 10:27:11  4 min 23.767 sec  25                 2.63701          2.08848         6.9538\n",
              "    2019-05-21 10:27:11  4 min 23.944 sec  30                 2.57892          2.03351         6.65083\n",
              "    2019-05-21 10:27:11  4 min 24.131 sec  35                 2.53724          1.9944          6.43761\n",
              "    2019-05-21 10:27:11  4 min 24.321 sec  40                 2.50301          1.96261         6.26508\n",
              "    2019-05-21 10:27:12  4 min 24.502 sec  45                 2.4771           1.93704         6.13605\n",
              "    2019-05-21 10:27:12  4 min 24.681 sec  50                 2.453            1.91364         6.01719\n",
              "    2019-05-21 10:27:12  4 min 24.877 sec  55                 2.43167          1.8941          5.91301\n",
              "    2019-05-21 10:27:12  4 min 25.031 sec  59                 2.41647          1.88069         5.83933"
            ]
          },
          "metadata": {
            "tags": []
          }
        },
        {
          "output_type": "stream",
          "text": [
            "Variable Importances: \n"
          ],
          "name": "stdout"
        },
        {
          "output_type": "display_data",
          "data": {
            "text/html": [
              "<div style=\"overflow:auto\"><table style=\"width:50%\"><tr><td><b>variable</b></td>\n",
              "<td><b>relative_importance</b></td>\n",
              "<td><b>scaled_importance</b></td>\n",
              "<td><b>percentage</b></td></tr>\n",
              "<tr><td>q05_roll_std_100</td>\n",
              "<td>144172.2656250</td>\n",
              "<td>1.0</td>\n",
              "<td>0.4499418</td></tr>\n",
              "<tr><td>q05_roll_std_10</td>\n",
              "<td>82245.4453125</td>\n",
              "<td>0.5704665</td>\n",
              "<td>0.2566767</td></tr>\n",
              "<tr><td>q05_roll_std_1000</td>\n",
              "<td>19573.0585938</td>\n",
              "<td>0.1357616</td>\n",
              "<td>0.0610848</td></tr>\n",
              "<tr><td>q01_roll_std_10</td>\n",
              "<td>10541.9208984</td>\n",
              "<td>0.0731203</td>\n",
              "<td>0.0328999</td></tr>\n",
              "<tr><td>MA_400MA_BB_high_mean</td>\n",
              "<td>6694.9091797</td>\n",
              "<td>0.0464369</td>\n",
              "<td>0.0208939</td></tr>\n",
              "<tr><td>---</td>\n",
              "<td>---</td>\n",
              "<td>---</td>\n",
              "<td>---</td></tr>\n",
              "<tr><td>q01</td>\n",
              "<td>6.7769408</td>\n",
              "<td>0.0000470</td>\n",
              "<td>0.0000211</td></tr>\n",
              "<tr><td>min</td>\n",
              "<td>0.0</td>\n",
              "<td>0.0</td>\n",
              "<td>0.0</td></tr>\n",
              "<tr><td>count_big</td>\n",
              "<td>0.0</td>\n",
              "<td>0.0</td>\n",
              "<td>0.0</td></tr>\n",
              "<tr><td>abs_q05</td>\n",
              "<td>0.0</td>\n",
              "<td>0.0</td>\n",
              "<td>0.0</td></tr>\n",
              "<tr><td>MA_400MA_std_mean</td>\n",
              "<td>0.0</td>\n",
              "<td>0.0</td>\n",
              "<td>0.0</td></tr></table></div>"
            ],
            "text/plain": [
              "variable               relative_importance    scaled_importance      percentage\n",
              "---------------------  ---------------------  ---------------------  ----------------------\n",
              "q05_roll_std_100       144172.265625          1.0                    0.44994179231786663\n",
              "q05_roll_std_10        82245.4453125          0.5704664829671535     0.2566767118035108\n",
              "q05_roll_std_1000      19573.05859375         0.1357616078855319     0.06108482117997164\n",
              "q01_roll_std_10        10541.9208984375       0.07312031098864477    0.03289988378107062\n",
              "MA_400MA_BB_high_mean  6694.9091796875        0.04643687293575123    0.02089388983834894\n",
              "---                    ---                    ---                    ---\n",
              "q01                    6.776940822601318      4.700585645389325e-05  2.1149899302301088e-05\n",
              "min                    0.0                    0.0                    0.0\n",
              "count_big              0.0                    0.0                    0.0\n",
              "abs_q05                0.0                    0.0                    0.0\n",
              "MA_400MA_std_mean      0.0                    0.0                    0.0"
            ]
          },
          "metadata": {
            "tags": []
          }
        },
        {
          "output_type": "stream",
          "text": [
            "\n",
            "See the whole table with table.as_data_frame()\n"
          ],
          "name": "stdout"
        },
        {
          "output_type": "execute_result",
          "data": {
            "text/plain": [
              ""
            ]
          },
          "metadata": {
            "tags": []
          },
          "execution_count": 26
        }
      ]
    },
    {
      "cell_type": "code",
      "metadata": {
        "id": "p7ccUl2-qR4m",
        "colab_type": "code",
        "outputId": "b108e31f-5f25-4501-8ea6-e20c4c03f944",
        "colab": {
          "base_uri": "https://localhost:8080/",
          "height": 34
        }
      },
      "source": [
        "preds = aml.predict(test)"
      ],
      "execution_count": 0,
      "outputs": [
        {
          "output_type": "stream",
          "text": [
            "gbm prediction progress: |████████████████████████████████████████████████| 100%\n"
          ],
          "name": "stdout"
        }
      ]
    },
    {
      "cell_type": "code",
      "metadata": {
        "id": "KQy2nh_OqUlS",
        "colab_type": "code",
        "colab": {}
      },
      "source": [
        "sample_submission = pd.read_csv('sample_submission.csv')\n",
        "sample_submission['time_to_failure'] = preds.as_data_frame().values.flatten()\n",
        "sample_submission.to_csv('submission.csv', index=False)"
      ],
      "execution_count": 0,
      "outputs": []
    },
    {
      "cell_type": "code",
      "metadata": {
        "id": "sHBlYJEoixaw",
        "colab_type": "code",
        "outputId": "4f1e6884-c61f-4cf4-8403-0cddb169f766",
        "colab": {
          "base_uri": "https://localhost:8080/",
          "height": 50
        }
      },
      "source": [
        "!kaggle competitions submit -c LANL-Earthquake-Prediction -f submission.csv -m \"h2o_submission2\" "
      ],
      "execution_count": 0,
      "outputs": [
        {
          "output_type": "stream",
          "text": [
            "100% 74.8k/74.8k [00:03<00:00, 20.6kB/s]\n",
            "Successfully submitted to LANL Earthquake Prediction"
          ],
          "name": "stdout"
        }
      ]
    }
  ]
}